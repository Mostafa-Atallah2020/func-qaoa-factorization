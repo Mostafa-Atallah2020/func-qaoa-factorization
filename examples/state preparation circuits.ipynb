{
 "cells": [
  {
   "cell_type": "markdown",
   "metadata": {},
   "source": [
    "This notebook is used for generating circuit diagrams for Figure 4 in the paper \"Integer Factorization through Func-QAOA\""
   ]
  },
  {
   "cell_type": "markdown",
   "metadata": {},
   "source": [
    "## Imports and Setup"
   ]
  },
  {
   "cell_type": "code",
   "execution_count": 1,
   "metadata": {},
   "outputs": [],
   "source": [
    "# Import necessary modules\n",
    "from qiskit import QuantumCircuit, QuantumRegister, transpile\n",
    "from qiskit.visualization import array_to_latex\n",
    "from qiskit.quantum_info import state_fidelity\n",
    "from IPython.display import display\n",
    "import sys\n",
    "import warnings\n",
    "\n",
    "# Ignore warnings\n",
    "warnings.filterwarnings(\"ignore\")\n",
    "\n",
    "# Add path to the source code\n",
    "sys.path.append(f\"./../\")\n",
    "from src import SpaceEfficientVQF\n",
    "from src.clause_utils import get_key_by_value, statevector"
   ]
  },
  {
   "cell_type": "markdown",
   "metadata": {},
   "source": [
    "## Clause Generation and Display"
   ]
  },
  {
   "cell_type": "code",
   "execution_count": 2,
   "metadata": {},
   "outputs": [
    {
     "data": {
      "text/latex": [
       "$\\displaystyle p_{2} + 2 q_{1} + q_{2} - 2 z_{2 3} - 1$"
      ],
      "text/plain": [
       "p_2 + 2*q_1 + q_2 - 2*z_2_3 - 1"
      ]
     },
     "metadata": {},
     "output_type": "display_data"
    },
    {
     "data": {
      "text/latex": [
       "$\\displaystyle p_{2} q_{1} + p_{3} + q_{1} q_{2} + q_{3} + z_{2 3} - 2 z_{3 4} - 4 z_{3 5} - 1$"
      ],
      "text/plain": [
       "p_2*q_1 + p_3 + q_1*q_2 + q_3 + z_2_3 - 2*z_3_4 - 4*z_3_5 - 1"
      ]
     },
     "metadata": {},
     "output_type": "display_data"
    },
    {
     "data": {
      "text/latex": [
       "$\\displaystyle p_{2} q_{2} + p_{3} q_{1} + p_{4} + q_{1} q_{3} + z_{3 4} - 2 z_{4 5} - 4 z_{4 6}$"
      ],
      "text/plain": [
       "p_2*q_2 + p_3*q_1 + p_4 + q_1*q_3 + z_3_4 - 2*z_4_5 - 4*z_4_6"
      ]
     },
     "metadata": {},
     "output_type": "display_data"
    },
    {
     "data": {
      "text/latex": [
       "$\\displaystyle p_{2} q_{3} + p_{3} q_{2} + p_{4} q_{1} + p_{5} + z_{3 5} + z_{4 5} - 2 z_{5 6}$"
      ],
      "text/plain": [
       "p_2*q_3 + p_3*q_2 + p_4*q_1 + p_5 + z_3_5 + z_4_5 - 2*z_5_6"
      ]
     },
     "metadata": {},
     "output_type": "display_data"
    },
    {
     "data": {
      "text/latex": [
       "$\\displaystyle p_{3} q_{3} + p_{4} q_{2} + p_{5} q_{1} + p_{6} + z_{4 6} + z_{5 6} - 1$"
      ],
      "text/plain": [
       "p_3*q_3 + p_4*q_2 + p_5*q_1 + p_6 + z_4_6 + z_5_6 - 1"
      ]
     },
     "metadata": {},
     "output_type": "display_data"
    },
    {
     "data": {
      "text/latex": [
       "$\\displaystyle p_{4} q_{3} + p_{5} q_{2} + p_{6} q_{1}$"
      ],
      "text/plain": [
       "p_4*q_3 + p_5*q_2 + p_6*q_1"
      ]
     },
     "metadata": {},
     "output_type": "display_data"
    },
    {
     "data": {
      "text/latex": [
       "$\\displaystyle p_{5} q_{3} + p_{6} q_{2}$"
      ],
      "text/plain": [
       "p_5*q_3 + p_6*q_2"
      ]
     },
     "metadata": {},
     "output_type": "display_data"
    },
    {
     "data": {
      "text/latex": [
       "$\\displaystyle p_{6} q_{3}$"
      ],
      "text/plain": [
       "p_6*q_3"
      ]
     },
     "metadata": {},
     "output_type": "display_data"
    }
   ],
   "source": [
    "# Define parameters\n",
    "p = 11\n",
    "q = 7\n",
    "m = p * q\n",
    "\n",
    "# Create an instance of SpaceEfficientVQF\n",
    "vqf = SpaceEfficientVQF(m)\n",
    "\n",
    "# Display original simplified clauses\n",
    "for c in vqf.simplified_clauses:\n",
    "    if c != 0:\n",
    "        display(c)"
   ]
  },
  {
   "cell_type": "markdown",
   "metadata": {},
   "source": [
    "## Selected Clauses and Superposition Tables"
   ]
  },
  {
   "cell_type": "code",
   "execution_count": 3,
   "metadata": {},
   "outputs": [
    {
     "data": {
      "text/latex": [
       "$\\displaystyle p_{2} + 2 q_{1} + q_{2} - 2 z_{2 3} - 1$"
      ],
      "text/plain": [
       "p_2 + 2*q_1 + q_2 - 2*z_2_3 - 1"
      ]
     },
     "metadata": {},
     "output_type": "display_data"
    },
    {
     "name": "stdout",
     "output_type": "stream",
     "text": [
      "The number of pq variables: 3\n"
     ]
    },
    {
     "data": {
      "text/latex": [
       "$\\displaystyle p_{2} q_{1} + p_{3} + q_{1} q_{2} + q_{3} + z_{2 3} - 2 z_{3 4} - 4 z_{3 5} - 1$"
      ],
      "text/plain": [
       "p_2*q_1 + p_3 + q_1*q_2 + q_3 + z_2_3 - 2*z_3_4 - 4*z_3_5 - 1"
      ]
     },
     "metadata": {},
     "output_type": "display_data"
    },
    {
     "name": "stdout",
     "output_type": "stream",
     "text": [
      "The number of pq variables: 5\n"
     ]
    },
    {
     "data": {
      "text/latex": [
       "$\\displaystyle p_{2} q_{2} + p_{3} q_{1} + p_{4} + q_{1} q_{3} + z_{3 4} - 2 z_{4 5} - 4 z_{4 6}$"
      ],
      "text/plain": [
       "p_2*q_2 + p_3*q_1 + p_4 + q_1*q_3 + z_3_4 - 2*z_4_5 - 4*z_4_6"
      ]
     },
     "metadata": {},
     "output_type": "display_data"
    },
    {
     "name": "stdout",
     "output_type": "stream",
     "text": [
      "The number of pq variables: 6\n"
     ]
    },
    {
     "data": {
      "text/latex": [
       "$\\displaystyle p_{2} q_{3} + p_{3} q_{2} + p_{4} q_{1} + p_{5} + z_{3 5} + z_{4 5} - 2 z_{5 6}$"
      ],
      "text/plain": [
       "p_2*q_3 + p_3*q_2 + p_4*q_1 + p_5 + z_3_5 + z_4_5 - 2*z_5_6"
      ]
     },
     "metadata": {},
     "output_type": "display_data"
    },
    {
     "name": "stdout",
     "output_type": "stream",
     "text": [
      "The number of pq variables: 7\n"
     ]
    },
    {
     "data": {
      "text/latex": [
       "$\\displaystyle p_{3} q_{3} + p_{4} q_{2} + p_{5} q_{1} + p_{6} + z_{4 6} + z_{5 6} - 1$"
      ],
      "text/plain": [
       "p_3*q_3 + p_4*q_2 + p_5*q_1 + p_6 + z_4_6 + z_5_6 - 1"
      ]
     },
     "metadata": {},
     "output_type": "display_data"
    },
    {
     "name": "stdout",
     "output_type": "stream",
     "text": [
      "The number of pq variables: 7\n"
     ]
    },
    {
     "data": {
      "text/latex": [
       "$\\displaystyle p_{4} q_{3} + p_{5} q_{2} + p_{6} q_{1}$"
      ],
      "text/plain": [
       "p_4*q_3 + p_5*q_2 + p_6*q_1"
      ]
     },
     "metadata": {},
     "output_type": "display_data"
    },
    {
     "name": "stdout",
     "output_type": "stream",
     "text": [
      "The number of pq variables: 6\n"
     ]
    },
    {
     "data": {
      "text/latex": [
       "$\\displaystyle p_{5} q_{3} + p_{6} q_{2}$"
      ],
      "text/plain": [
       "p_5*q_3 + p_6*q_2"
      ]
     },
     "metadata": {},
     "output_type": "display_data"
    },
    {
     "name": "stdout",
     "output_type": "stream",
     "text": [
      "The number of pq variables: 4\n"
     ]
    },
    {
     "data": {
      "text/latex": [
       "$\\displaystyle p_{6} q_{3}$"
      ],
      "text/plain": [
       "p_6*q_3"
      ]
     },
     "metadata": {},
     "output_type": "display_data"
    },
    {
     "name": "stdout",
     "output_type": "stream",
     "text": [
      "The number of pq variables: 2\n"
     ]
    }
   ],
   "source": [
    "# Display selected clauses and their variable counts\n",
    "for c in vqf.selected_clauses:\n",
    "    display(c.clause)\n",
    "    print(f\"The number of pq variables: {len(c.pq_part.free_symbols)}\")"
   ]
  },
  {
   "cell_type": "code",
   "execution_count": 4,
   "metadata": {},
   "outputs": [
    {
     "data": {
      "text/latex": [
       "$\\displaystyle p_{2} + 2 q_{1} + q_{2} - 2 z_{2 3} - 1$"
      ],
      "text/plain": [
       "p_2 + 2*q_1 + q_2 - 2*z_2_3 - 1"
      ]
     },
     "metadata": {},
     "output_type": "display_data"
    },
    {
     "data": {
      "text/html": [
       "<div>\n",
       "<style scoped>\n",
       "    .dataframe tbody tr th:only-of-type {\n",
       "        vertical-align: middle;\n",
       "    }\n",
       "\n",
       "    .dataframe tbody tr th {\n",
       "        vertical-align: top;\n",
       "    }\n",
       "\n",
       "    .dataframe thead th {\n",
       "        text-align: right;\n",
       "    }\n",
       "</style>\n",
       "<table border=\"1\" class=\"dataframe\">\n",
       "  <thead>\n",
       "    <tr style=\"text-align: right;\">\n",
       "      <th></th>\n",
       "      <th>q_1</th>\n",
       "      <th>q_2</th>\n",
       "      <th>p_2</th>\n",
       "    </tr>\n",
       "  </thead>\n",
       "  <tbody>\n",
       "    <tr>\n",
       "      <th>0</th>\n",
       "      <td>0</td>\n",
       "      <td>0</td>\n",
       "      <td>1</td>\n",
       "    </tr>\n",
       "    <tr>\n",
       "      <th>1</th>\n",
       "      <td>0</td>\n",
       "      <td>1</td>\n",
       "      <td>0</td>\n",
       "    </tr>\n",
       "    <tr>\n",
       "      <th>2</th>\n",
       "      <td>1</td>\n",
       "      <td>0</td>\n",
       "      <td>1</td>\n",
       "    </tr>\n",
       "    <tr>\n",
       "      <th>3</th>\n",
       "      <td>1</td>\n",
       "      <td>1</td>\n",
       "      <td>0</td>\n",
       "    </tr>\n",
       "  </tbody>\n",
       "</table>\n",
       "</div>"
      ],
      "text/plain": [
       "   q_1  q_2  p_2\n",
       "0    0    0    1\n",
       "1    0    1    0\n",
       "2    1    0    1\n",
       "3    1    1    0"
      ]
     },
     "metadata": {},
     "output_type": "display_data"
    },
    {
     "name": "stdout",
     "output_type": "stream",
     "text": [
      "Compression Ratio: -1.0\n",
      "---------------------------------------\n"
     ]
    },
    {
     "data": {
      "text/latex": [
       "$\\displaystyle p_{6} q_{3}$"
      ],
      "text/plain": [
       "p_6*q_3"
      ]
     },
     "metadata": {},
     "output_type": "display_data"
    },
    {
     "data": {
      "text/html": [
       "<div>\n",
       "<style scoped>\n",
       "    .dataframe tbody tr th:only-of-type {\n",
       "        vertical-align: middle;\n",
       "    }\n",
       "\n",
       "    .dataframe tbody tr th {\n",
       "        vertical-align: top;\n",
       "    }\n",
       "\n",
       "    .dataframe thead th {\n",
       "        text-align: right;\n",
       "    }\n",
       "</style>\n",
       "<table border=\"1\" class=\"dataframe\">\n",
       "  <thead>\n",
       "    <tr style=\"text-align: right;\">\n",
       "      <th></th>\n",
       "      <th>p_6</th>\n",
       "      <th>q_3</th>\n",
       "    </tr>\n",
       "  </thead>\n",
       "  <tbody>\n",
       "    <tr>\n",
       "      <th>0</th>\n",
       "      <td>0</td>\n",
       "      <td>0</td>\n",
       "    </tr>\n",
       "    <tr>\n",
       "      <th>1</th>\n",
       "      <td>0</td>\n",
       "      <td>1</td>\n",
       "    </tr>\n",
       "    <tr>\n",
       "      <th>2</th>\n",
       "      <td>1</td>\n",
       "      <td>0</td>\n",
       "    </tr>\n",
       "  </tbody>\n",
       "</table>\n",
       "</div>"
      ],
      "text/plain": [
       "   p_6  q_3\n",
       "0    0    0\n",
       "1    0    1\n",
       "2    1    0"
      ]
     },
     "metadata": {},
     "output_type": "display_data"
    },
    {
     "name": "stdout",
     "output_type": "stream",
     "text": [
      "Compression Ratio: -0.4150374992788439\n",
      "---------------------------------------\n"
     ]
    }
   ],
   "source": [
    "# Display generated superposition tables\n",
    "superposition_tables = vqf.superposition_tables\n",
    "for t in superposition_tables:\n",
    "    c = get_key_by_value(vqf.table_clause_dict, t)\n",
    "    display(c.clause)\n",
    "    display(t.table)\n",
    "    print(f\"Compression Ratio: {t.calc_r()}\")\n",
    "    print(\"---------------------------------------\")"
   ]
  },
  {
   "cell_type": "markdown",
   "metadata": {},
   "source": [
    "## Quantum State Preparation and Transpilation"
   ]
  },
  {
   "cell_type": "code",
   "execution_count": 5,
   "metadata": {},
   "outputs": [
    {
     "data": {
      "text/latex": [
       "$$\n",
       "\n",
       "\\begin{bmatrix}\n",
       "0 & \\frac{1}{2} & \\frac{1}{2} & 0 & 0 & \\frac{1}{2} & \\frac{1}{2} & 0  \\\\\n",
       " \\end{bmatrix}\n",
       "$$"
      ],
      "text/plain": [
       "<IPython.core.display.Latex object>"
      ]
     },
     "execution_count": 5,
     "metadata": {},
     "output_type": "execute_result"
    }
   ],
   "source": [
    "# Prepare quantum state from a superposition table\n",
    "table = superposition_tables[0]\n",
    "desired_state = table.get_init_state()\n",
    "array_to_latex(desired_state)"
   ]
  },
  {
   "cell_type": "code",
   "execution_count": 6,
   "metadata": {},
   "outputs": [
    {
     "data": {
      "image/png": "[encoded data removed]",
      "text/plain": [
       "<Figure size 553.156x284.278 with 1 Axes>"
      ]
     },
     "execution_count": 6,
     "metadata": {},
     "output_type": "execute_result"
    }
   ],
   "source": [
    "# Create quantum registers and circuit\n",
    "bits = list(table.table.columns)[::-1]\n",
    "q_regs = [QuantumRegister(1, bits[i]) for i in range(len(bits))]\n",
    "qc = QuantumCircuit(*q_regs)\n",
    "qc.initialize(desired_state, range(len(q_regs)))\n",
    "\n",
    "# Display transpiled quantum circuit in LaTeX\n",
    "basis = [\"cx\", \"u3\"]\n",
    "transpiled_qc = transpile(qc, basis_gates=basis, optimization_level=3)\n",
    "transpiled_qc.draw(\"mpl\")"
   ]
  },
  {
   "cell_type": "markdown",
   "metadata": {},
   "source": [
    "## Gate Count and Fidelity Calculation"
   ]
  },
  {
   "cell_type": "code",
   "execution_count": 7,
   "metadata": {},
   "outputs": [
    {
     "name": "stdout",
     "output_type": "stream",
     "text": [
      "Gate Counts: OrderedDict([('u3', 5), ('cx', 1)])\n",
      "Fidelity: 1.0\n"
     ]
    }
   ],
   "source": [
    "# Count the gates in the transpiled circuit\n",
    "gate_counts = transpiled_qc.count_ops()\n",
    "print(\"Gate Counts:\", gate_counts)\n",
    "\n",
    "# Calculate and display fidelity between desired and output states\n",
    "output_state = statevector(transpiled_qc)\n",
    "fid = state_fidelity(desired_state, output_state)\n",
    "print(f\"Fidelity: {round(fid,5)}\")"
   ]
  },
  {
   "cell_type": "markdown",
   "metadata": {},
   "source": [
    "## Again for the other Table"
   ]
  },
  {
   "cell_type": "code",
   "execution_count": 8,
   "metadata": {},
   "outputs": [
    {
     "data": {
      "text/latex": [
       "$$\n",
       "\n",
       "\\begin{bmatrix}\n",
       "\\frac{\\sqrt{3}}{3} & \\frac{\\sqrt{3}}{3} & \\frac{\\sqrt{3}}{3} & 0  \\\\\n",
       " \\end{bmatrix}\n",
       "$$"
      ],
      "text/plain": [
       "<IPython.core.display.Latex object>"
      ]
     },
     "execution_count": 8,
     "metadata": {},
     "output_type": "execute_result"
    }
   ],
   "source": [
    "# Display another superposition table and prepare its desired state\n",
    "table = superposition_tables[1]\n",
    "desired_state = table.get_init_state()\n",
    "array_to_latex(desired_state)"
   ]
  },
  {
   "cell_type": "code",
   "execution_count": 9,
   "metadata": {},
   "outputs": [
    {
     "data": {
      "image/png": "[encoded data removed]",
      "text/plain": [
       "<Figure size 469.343x200.667 with 1 Axes>"
      ]
     },
     "execution_count": 9,
     "metadata": {},
     "output_type": "execute_result"
    }
   ],
   "source": [
    "# Create quantum circuit and transpile\n",
    "bits = list(table.table.columns)[::-1]\n",
    "q_regs = [QuantumRegister(1, bits[i]) for i in range(len(bits))]\n",
    "qc = QuantumCircuit(*q_regs)\n",
    "qc.initialize(desired_state, range(len(q_regs)))\n",
    "transpiled_qc = transpile(qc, basis_gates=basis, optimization_level=3)\n",
    "transpiled_qc.draw(\"mpl\")"
   ]
  },
  {
   "cell_type": "code",
   "execution_count": 10,
   "metadata": {},
   "outputs": [
    {
     "name": "stdout",
     "output_type": "stream",
     "text": [
      "Gate Counts: OrderedDict([('u3', 3), ('cx', 2)])\n",
      "Fidelity: 1.0\n"
     ]
    }
   ],
   "source": [
    "# Count gates and calculate fidelity for the second table\n",
    "gate_counts = transpiled_qc.count_ops()\n",
    "print(\"Gate Counts:\", gate_counts)\n",
    "output_state = statevector(transpiled_qc)\n",
    "fid = state_fidelity(desired_state, output_state)\n",
    "print(f\"Fidelity: {round(fid,5)}\")"
   ]
  },
  {
   "cell_type": "code",
   "execution_count": null,
   "metadata": {},
   "outputs": [],
   "source": []
  }
 ],
 "metadata": {
  "kernelspec": {
   "display_name": ".venv",
   "language": "python",
   "name": "python3"
  },
  "language_info": {
   "codemirror_mode": {
    "name": "ipython",
    "version": 3
   },
   "file_extension": ".py",
   "mimetype": "text/x-python",
   "name": "python",
   "nbconvert_exporter": "python",
   "pygments_lexer": "ipython3",
   "version": "3.11.4"
  },
  "orig_nbformat": 4
 },
 "nbformat": 4,
 "nbformat_minor": 2
}
