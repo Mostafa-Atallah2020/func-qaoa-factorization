{
 "cells": [
  {
   "cell_type": "code",
   "execution_count": 87,
   "metadata": {},
   "outputs": [],
   "source": [
    "from vqf.preprocessing import *\n",
    "import sys\n",
    "sys.path.append(f'./../')\n",
    "from src.clause_utils import table_form"
   ]
  },
  {
   "cell_type": "code",
   "execution_count": 88,
   "metadata": {},
   "outputs": [],
   "source": [
    "p = 11\n",
    "q = 13\n",
    "m = p * q"
   ]
  },
  {
   "cell_type": "code",
   "execution_count": 89,
   "metadata": {},
   "outputs": [],
   "source": [
    "m_dict, p_dict, q_dict, z_dict = create_initial_dicts(m)"
   ]
  },
  {
   "cell_type": "code",
   "execution_count": 90,
   "metadata": {},
   "outputs": [
    {
     "name": "stdout",
     "output_type": "stream",
     "text": [
      "m_dict\n",
      "  Key    Value\n",
      "-----  -------\n",
      "    0        1\n",
      "    1        1\n",
      "    2        1\n",
      "    3        1\n",
      "    4        0\n",
      "    5        0\n",
      "    6        0\n",
      "    7        1\n",
      "p_dict\n",
      "  Key  Value\n",
      "-----  -------\n",
      "    0  p_0\n",
      "    1  p_1\n",
      "    2  p_2\n",
      "    3  p_3\n",
      "    4  p_4\n",
      "    5  p_5\n",
      "    6  p_6\n",
      "    7  p_7\n",
      "q_dict\n",
      "  Key  Value\n",
      "-----  -------\n",
      "    0  q_0\n",
      "    1  q_1\n",
      "    2  q_2\n",
      "    3  q_3\n",
      "z_dict\n",
      "Key     Value\n",
      "------  -------\n",
      "(1, 2)  z_1_2\n",
      "(1, 3)  z_1_3\n",
      "(2, 3)  z_2_3\n",
      "(1, 4)  z_1_4\n",
      "(2, 4)  z_2_4\n",
      "(3, 4)  z_3_4\n",
      "(1, 5)  z_1_5\n",
      "(2, 5)  z_2_5\n",
      "(3, 5)  z_3_5\n",
      "(4, 5)  z_4_5\n",
      "(1, 6)  z_1_6\n",
      "(2, 6)  z_2_6\n",
      "(3, 6)  z_3_6\n",
      "(4, 6)  z_4_6\n",
      "(5, 6)  z_5_6\n",
      "(1, 7)  z_1_7\n",
      "(2, 7)  z_2_7\n",
      "(3, 7)  z_3_7\n",
      "(4, 7)  z_4_7\n",
      "(5, 7)  z_5_7\n",
      "(6, 7)  z_6_7\n"
     ]
    }
   ],
   "source": [
    "print('m_dict')\n",
    "table_form(m_dict)\n",
    "print('p_dict')\n",
    "table_form(p_dict)\n",
    "print('q_dict')\n",
    "table_form(q_dict)\n",
    "print('z_dict')\n",
    "table_form(z_dict)"
   ]
  },
  {
   "cell_type": "code",
   "execution_count": 91,
   "metadata": {},
   "outputs": [],
   "source": [
    "clauses = create_basic_clauses(m_dict, p_dict, q_dict, z_dict, apply_preprocessing=False)"
   ]
  },
  {
   "cell_type": "code",
   "execution_count": 92,
   "metadata": {},
   "outputs": [
    {
     "name": "stdout",
     "output_type": "stream",
     "text": [
      "p_0*q_0 - 1\n",
      "p_0*q_1 + p_1*q_0 - 2*z_1_2 - 4*z_1_3 - 8*z_1_4 - 16*z_1_5 - 32*z_1_6 - 64*z_1_7 - 1\n",
      "p_0*q_2 + p_1*q_1 + p_2*q_0 + z_1_2 - 2*z_2_3 - 4*z_2_4 - 8*z_2_5 - 16*z_2_6 - 32*z_2_7 - 1\n",
      "p_0*q_3 + p_1*q_2 + p_2*q_1 + p_3*q_0 + z_1_3 + z_2_3 - 2*z_3_4 - 4*z_3_5 - 8*z_3_6 - 16*z_3_7 - 1\n",
      "p_1*q_3 + p_2*q_2 + p_3*q_1 + p_4*q_0 + z_1_4 + z_2_4 + z_3_4 - 2*z_4_5 - 4*z_4_6 - 8*z_4_7\n",
      "p_2*q_3 + p_3*q_2 + p_4*q_1 + p_5*q_0 + z_1_5 + z_2_5 + z_3_5 + z_4_5 - 2*z_5_6 - 4*z_5_7\n",
      "p_3*q_3 + p_4*q_2 + p_5*q_1 + p_6*q_0 + z_1_6 + z_2_6 + z_3_6 + z_4_6 + z_5_6 - 2*z_6_7\n",
      "p_4*q_3 + p_5*q_2 + p_6*q_1 + p_7*q_0 + z_1_7 + z_2_7 + z_3_7 + z_4_7 + z_5_7 + z_6_7 - 1\n",
      "p_5*q_3 + p_6*q_2 + p_7*q_1\n",
      "p_6*q_3 + p_7*q_2\n",
      "p_7*q_3\n"
     ]
    }
   ],
   "source": [
    "for c in clauses:\n",
    "    print(c)"
   ]
  },
  {
   "cell_type": "code",
   "execution_count": 93,
   "metadata": {},
   "outputs": [
    {
     "name": "stdout",
     "output_type": "stream",
     "text": [
      "Preprocessing iteration: 0\n",
      "Current clause 0 : p_0*q_0 - 1\n",
      "Rule 1 applied! p_0*q_0 - 1\n",
      "Current clause 1 : p_1 + q_1 - 2*z_1_2 - 4*z_1_3 - 8*z_1_4 - 16*z_1_5 - 32*z_1_6 - 64*z_1_7 - 1\n",
      "Z rule 1 applied! z_1_7 = 0\n",
      "Z rule 1 applied! z_1_6 = 0\n",
      "Z rule 1 applied! z_1_5 = 0\n",
      "Z rule 1 applied! z_1_4 = 0\n",
      "Z rule 1 applied! z_1_3 = 0\n",
      "Z rule 1 applied! z_1_2 = 0\n",
      "Rule 2 applied! p_1 = 1 - q_1\n",
      "Current clause 2 : p_2 + q_2 - 2*z_2_3 - 4*z_2_4 - 8*z_2_5 - 16*z_2_6 - 32*z_2_7 - 1\n",
      "Z rule 1 applied! z_2_7 = 0\n",
      "Z rule 1 applied! z_2_6 = 0\n",
      "Z rule 1 applied! z_2_5 = 0\n",
      "Z rule 1 applied! z_2_4 = 0\n",
      "Z rule 1 applied! z_2_3 = 0\n",
      "Rule 2 applied! q_2 = 1 - p_2\n",
      "Current clause 3 : p_3 - 2*q_1*q_2 + q_1 + q_2 + q_3 - 2*z_3_4 - 4*z_3_5 - 8*z_3_6 - 16*z_3_7 - 1\n",
      "Z rule 1 applied! z_3_7 = 0\n",
      "Z rule 1 applied! z_3_6 = 0\n",
      "Z rule 1 applied! z_3_5 = 0\n",
      "Current clause 4 : p_3*q_1 + p_4 - q_1*q_3 + q_3 + z_3_4 - 2*z_4_5 - 4*z_4_6 - 8*z_4_7\n",
      "Z rule 1 applied! z_4_7 = 0\n",
      "Current clause 5 : p_3*q_2 + p_4*q_1 + p_5 - q_2*q_3 + q_3 + z_4_5 - 2*z_5_6 - 4*z_5_7\n",
      "Current clause 6 : p_3*q_3 + p_4*q_2 + p_5*q_1 + p_6 + z_4_6 + z_5_6 - 2*z_6_7\n",
      "Current clause 7 : p_4*q_3 + p_5*q_2 + p_6*q_1 + p_7 + z_5_7 + z_6_7 - 1\n",
      "Current clause 8 : p_5*q_3 + p_6*q_2 + p_7*q_1\n",
      "Rule 4 applied! p_5*q_3 + p_6*q_2 + p_7*q_1\n",
      "Current clause 9 : p_6*q_3 + p_7*q_2\n",
      "Rule 4 applied! p_6*q_3 + p_7*q_2\n",
      "Current clause 10 : p_7*q_3\n",
      "Rule of equality applied! p_7*q_3\n",
      "\n",
      "\n",
      "Preprocessing iteration: 1\n",
      "Current clause 3 : p_3 - 2*q_1*q_2 + q_1 + q_2 + q_3 - 2*z_3_4 - 1\n",
      "Current clause 4 : p_3*q_1 + p_4 - q_1*q_3 + q_3 + z_3_4 - 2*z_4_5 - 4*z_4_6\n",
      "Current clause 5 : p_3*q_2 + p_4*q_1 + p_5 - q_2*q_3 + q_3 + z_4_5 - 2*z_5_6 - 4*z_5_7\n",
      "Current clause 6 : p_3*q_3 + p_4*q_2 + p_5*q_1 + p_6 + z_4_6 + z_5_6 - 2*z_6_7\n",
      "Current clause 7 : p_4*q_3 + p_5*q_2 + p_6*q_1 + p_7 + z_5_7 + z_6_7 - 1\n",
      "\n",
      "\n"
     ]
    }
   ],
   "source": [
    "simplified_clauses, known_expressions = simplify_clauses(clauses)"
   ]
  },
  {
   "cell_type": "code",
   "execution_count": 94,
   "metadata": {},
   "outputs": [
    {
     "data": {
      "text/plain": [
       "[0,\n",
       " 0,\n",
       " 0,\n",
       " p_3 - 2*q_1*q_2 + q_1 + q_2 + q_3 - 2*z_3_4 - 1,\n",
       " p_3*q_1 + p_4 - q_1*q_3 + q_3 + z_3_4 - 2*z_4_5 - 4*z_4_6,\n",
       " p_3*q_2 + p_4*q_1 + p_5 - q_2*q_3 + q_3 + z_4_5 - 2*z_5_6 - 4*z_5_7,\n",
       " p_3*q_3 + p_4*q_2 + p_5*q_1 + p_6 + z_4_6 + z_5_6 - 2*z_6_7,\n",
       " p_4*q_3 + p_5*q_2 + p_6*q_1 + p_7 + z_5_7 + z_6_7 - 1,\n",
       " 0,\n",
       " 0,\n",
       " 0]"
      ]
     },
     "execution_count": 94,
     "metadata": {},
     "output_type": "execute_result"
    }
   ],
   "source": [
    "simplified_clauses"
   ]
  },
  {
   "cell_type": "code",
   "execution_count": 107,
   "metadata": {},
   "outputs": [
    {
     "data": {
      "text/latex": [
       "$\\displaystyle p_{3} + p_{4} q_{1} - 2 q_{1} q_{2}$"
      ],
      "text/plain": [
       "p_3 + p_4*q_1 - 2*q_1*q_2"
      ]
     },
     "execution_count": 107,
     "metadata": {},
     "output_type": "execute_result"
    }
   ],
   "source": [
    "from sympy import *\n",
    "from itertools import product\n",
    "\n",
    "def reduce_space(expr):\n",
    "    variables = list(expr.free_symbols)\n",
    "    values = product(range(2), repeat=len(variables))\n",
    "    reduced_space = []\n",
    "    for v in values:\n",
    "        subs_dict = dict(zip(variables, v))\n",
    "        subs_expr = expr.subs(subs_dict)\n",
    "        if simplify(subs_expr) == 0:\n",
    "            reduced_space.append(v)\n",
    "    return variables, reduced_space\n",
    "\n",
    "# Example usage:\n",
    "p_3, q_1, q_2, p_4 = symbols('p_3 q_1 q_2 p_4')\n",
    "expr = p_3 - 2*q_1*q_2 + p_4*q_1\n",
    "variables, reduced_space = reduce_space(expr)\n",
    "expr"
   ]
  },
  {
   "cell_type": "code",
   "execution_count": 96,
   "metadata": {},
   "outputs": [
    {
     "name": "stdout",
     "output_type": "stream",
     "text": [
      "all space: 16\n",
      "--------------------------------\n",
      "(0, 0, 0, 0)\n",
      "(0, 0, 0, 1)\n",
      "(0, 0, 1, 0)\n",
      "(0, 0, 1, 1)\n",
      "(0, 1, 0, 0)\n",
      "(0, 1, 0, 1)\n",
      "(0, 1, 1, 0)\n",
      "(0, 1, 1, 1)\n",
      "(1, 0, 0, 0)\n",
      "(1, 0, 0, 1)\n",
      "(1, 0, 1, 0)\n",
      "(1, 0, 1, 1)\n",
      "(1, 1, 0, 0)\n",
      "(1, 1, 0, 1)\n",
      "(1, 1, 1, 0)\n",
      "(1, 1, 1, 1)\n",
      "\n",
      "subspace: 6\n",
      "--------------------------------\n",
      "(0, 0, 0, 0)\n",
      "(0, 0, 1, 0)\n",
      "(0, 1, 0, 0)\n",
      "(1, 0, 0, 0)\n",
      "(1, 1, 0, 0)\n",
      "(1, 1, 1, 1)\n"
     ]
    }
   ],
   "source": [
    "# Compare with all possible values\n",
    "all_values = list(product(range(2), repeat=4))\n",
    "print('all space:', len(all_values))\n",
    "print('--------------------------------')\n",
    "for val in range(len(all_values)):\n",
    "    print(all_values[val])\n",
    "\n",
    "print('\\nsubspace:', len(reduced_space))\n",
    "print('--------------------------------')\n",
    "for val in range(len(reduced_space)):\n",
    "    print(reduced_space[val])"
   ]
  },
  {
   "cell_type": "code",
   "execution_count": 97,
   "metadata": {},
   "outputs": [
    {
     "data": {
      "text/plain": [
       "[(0, 0, 0, 0, 0),\n",
       " (0, 0, 0, 1, 1),\n",
       " (0, 0, 1, 0, 0),\n",
       " (0, 0, 1, 1, 1),\n",
       " (0, 1, 0, 0, 0),\n",
       " (0, 1, 0, 1, 1),\n",
       " (0, 1, 1, 0, 1),\n",
       " (0, 1, 1, 1, 1),\n",
       " (1, 0, 0, 0, 0),\n",
       " (1, 0, 0, 1, 1),\n",
       " (1, 0, 1, 0, 1),\n",
       " (1, 0, 1, 1, 1),\n",
       " (1, 1, 0, 0, 0),\n",
       " (1, 1, 0, 1, 1),\n",
       " (1, 1, 1, 0, 1),\n",
       " (1, 1, 1, 1, 0)]"
      ]
     },
     "execution_count": 97,
     "metadata": {},
     "output_type": "execute_result"
    }
   ],
   "source": [
    "def truth_table(allspace, subspace):\n",
    "    tt = []\n",
    "    for v in allspace:\n",
    "        if v in subspace:\n",
    "            val = v + (0,)\n",
    "        else:\n",
    "            val = v + (1,)\n",
    "        tt.append(val)\n",
    "    return tt\n",
    "\n",
    "tt = truth_table(all_values, reduced_space)\n",
    "tt"
   ]
  },
  {
   "cell_type": "code",
   "execution_count": 98,
   "metadata": {},
   "outputs": [],
   "source": [
    "from sympy import Add, Mul\n",
    "\n",
    "def truth_table_to_expr(truth_table, variables, form='sop'):\n",
    "    # Determine number of variables in the truth table\n",
    "    #num_vars = len(truth_table[0]) - 1\n",
    "    num_vars = len(variables)\n",
    "    # Create list of minterms or maxterms based on the desired canonical form\n",
    "    if form == 'sop':\n",
    "        terms = [i for i, row in enumerate(truth_table) if row[-1] == 1]\n",
    "    elif form == 'pos':\n",
    "        terms = [i for i, row in enumerate(truth_table) if row[-1] == 0]\n",
    "    else:\n",
    "        raise ValueError(\"Invalid canonical form specified: must be 'sop' or 'pos'.\")\n",
    "    # Create a list of variables as sympy symbols\n",
    "    #variables = symbols(' '.join(['x'+str(i+1) for i in range(num_vars)]))\n",
    "    # Create conjunctions or disjunctions of literals for each minterm or maxterm\n",
    "    expressions = []\n",
    "    for term in terms:\n",
    "        literals = []\n",
    "        for i in range(num_vars):\n",
    "            if truth_table[term][i] == 1:\n",
    "                literals.append(variables[i])\n",
    "            elif truth_table[term][i] == 0:\n",
    "                literals.append(1 - variables[i])\n",
    "        expressions.append(Mul(*literals) if form == 'sop' else Add(*literals))\n",
    "    # Combine all the expressions with an OR operator for sum of products form,\n",
    "    # or with an AND operator for product of sums form\n",
    "    expr = Add(*expressions) if form == 'sop' else Mul(*expressions)\n",
    "    return sympify(simplify(expr.expand()))\n",
    "    #return Or(*expressions) if form == 'sop' else And(*expressions)\n",
    "\n",
    "# Example usage:\n",
    "# tt1 = [(0, 0, 0, 1), (0, 1, 1, 0), (1, 0, 1, 1), (1, 1, 0, 0)]\n",
    "# expr = truth_table_to_expr(tt1, form='sop')\n",
    "# print(expr)"
   ]
  },
  {
   "cell_type": "code",
   "execution_count": 115,
   "metadata": {},
   "outputs": [
    {
     "data": {
      "text/latex": [
       "$\\displaystyle - p_{3} p_{4} q_{1} - p_{3} q_{1} q_{2} + p_{3} - p_{4} q_{1} q_{2} + p_{4} q_{1} + q_{1} q_{2}$"
      ],
      "text/plain": [
       "-p_3*p_4*q_1 - p_3*q_1*q_2 + p_3 - p_4*q_1*q_2 + p_4*q_1 + q_1*q_2"
      ]
     },
     "execution_count": 115,
     "metadata": {},
     "output_type": "execute_result"
    }
   ],
   "source": [
    "expr = truth_table_to_expr(tt, variables, form='sop')\n",
    "expr"
   ]
  },
  {
   "cell_type": "code",
   "execution_count": null,
   "metadata": {},
   "outputs": [],
   "source": []
  }
 ],
 "metadata": {
  "kernelspec": {
   "display_name": ".venv",
   "language": "python",
   "name": "python3"
  },
  "language_info": {
   "codemirror_mode": {
    "name": "ipython",
    "version": 3
   },
   "file_extension": ".py",
   "mimetype": "text/x-python",
   "name": "python",
   "nbconvert_exporter": "python",
   "pygments_lexer": "ipython3",
   "version": "3.10.6"
  },
  "orig_nbformat": 4
 },
 "nbformat": 4,
 "nbformat_minor": 2
}
