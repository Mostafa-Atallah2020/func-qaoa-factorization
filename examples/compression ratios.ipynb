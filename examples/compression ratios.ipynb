{
 "cells": [
  {
   "cell_type": "code",
   "execution_count": 129,
   "metadata": {},
   "outputs": [],
   "source": [
    "import sys\n",
    "import numpy as np\n",
    "import matplotlib.pyplot as plt\n",
    "from tqdm import tqdm\n",
    "import pandas as pd\n",
    "from collections import defaultdict\n",
    "\n",
    "sys.path.append(f\"./../\")\n",
    "from src import SpaceEfficientVQF, Clause"
   ]
  },
  {
   "cell_type": "code",
   "execution_count": 130,
   "metadata": {},
   "outputs": [],
   "source": [
    "# Load data from CSV\n",
    "folder = f\"./../data/biprimes/\"\n",
    "maxpow = 100  # 40\n",
    "\n",
    "df = pd.read_csv(f\"{folder}biprimes_maxpow_{maxpow}_number_200.csv\")\n",
    "biprimes = df[\"m=p*q\"].to_list()\n",
    "biprimes = [int(biprimes[i]) for i in range(len(biprimes))]"
   ]
  },
  {
   "cell_type": "code",
   "execution_count": 131,
   "metadata": {},
   "outputs": [
    {
     "name": "stdout",
     "output_type": "stream",
     "text": [
      "703\n",
      "1687927\n",
      "714433477\n",
      "1753778247857\n"
     ]
    }
   ],
   "source": [
    "def binary_length_interval(numbers, min_length, max_length):\n",
    "    selected_numbers = []\n",
    "    for num in numbers:\n",
    "        binary_repr = bin(num)[2:]  # Convert to binary and remove the '0b' prefix\n",
    "        binary_length = len(binary_repr)\n",
    "        if min_length <= binary_length <= max_length:\n",
    "            selected_numbers.append(num)\n",
    "    return selected_numbers\n",
    "\n",
    "n1 = 10\n",
    "n2 = 20\n",
    "n3 = 30\n",
    "n4 = 40\n",
    "\n",
    "# Example usage:\n",
    "min_len = n1 - 1\n",
    "max_len = n1 + 1\n",
    "m1 = binary_length_interval(biprimes, min_len, max_len)\n",
    "m1 = max(m1)\n",
    "print(m1)  \n",
    "\n",
    "min_len = n2 - 1\n",
    "max_len = n2 + 1\n",
    "m2 = binary_length_interval(biprimes, min_len, max_len)\n",
    "m2 = max(m2)\n",
    "print(m2)\n",
    "\n",
    "min_len = n3 - 1 \n",
    "max_len = n3 + 1\n",
    "m3 = binary_length_interval(biprimes, min_len, max_len)\n",
    "m3 = max(m3)\n",
    "print(m3)\n",
    "\n",
    "min_len = n4 - 1 \n",
    "max_len = n4 + 1\n",
    "m4 = binary_length_interval(biprimes, min_len, max_len)\n",
    "m4 = max(m4)\n",
    "print(m4)"
   ]
  },
  {
   "cell_type": "code",
   "execution_count": 132,
   "metadata": {},
   "outputs": [],
   "source": [
    "m_list = [m1, m2, m3, m4]\n",
    "m_list = [int(m_list[i]) for i in range(len(m_list))]\n",
    "markers = ['o', 's', '^', 'D']\n",
    "colors = ['blue', 'green', 'red', 'purple']"
   ]
  },
  {
   "cell_type": "code",
   "execution_count": 133,
   "metadata": {},
   "outputs": [
    {
     "name": "stderr",
     "output_type": "stream",
     "text": [
      "Processing m = 703: 100%|██████████| 11/11 [00:00<00:00, 67.48it/s]\n",
      "Processing m = 1687927: 100%|██████████| 15/15 [00:25<00:00,  1.69s/it]\n",
      "Processing m = 714433477: 100%|██████████| 15/15 [00:14<00:00,  1.04it/s]\n",
      "Processing m = 1753778247857: 100%|██████████| 16/16 [00:25<00:00,  1.60s/it]\n"
     ]
    }
   ],
   "source": [
    "# Initialize lists to store data for all m values\n",
    "all_n_vars_list = []\n",
    "all_comp_ratio_list = []\n",
    "\n",
    "for idx, m in enumerate(m_list):\n",
    "    vqf = SpaceEfficientVQF(m)\n",
    "    n_vars_list = []\n",
    "    comp_ratio_list = []\n",
    "    \n",
    "    # Use tqdm to show progress for the loop\n",
    "    for c in tqdm(vqf.selected_clauses, desc=f\"Processing m = {m}\"):\n",
    "        if c != 0:\n",
    "            n_vars = len(c.pq_part.free_symbols)\n",
    "            n_vars_list.append(n_vars)\n",
    "            table = c.reduce_space().remove_carry_bits()\n",
    "            comp_ratio = np.abs(table.calc_r())\n",
    "            comp_ratio_list.append(comp_ratio)\n",
    "\n",
    "    # Store the data for this m value\n",
    "    all_n_vars_list.append(n_vars_list)\n",
    "    all_comp_ratio_list.append(comp_ratio_list)"
   ]
  },
  {
   "cell_type": "code",
   "execution_count": 136,
   "metadata": {},
   "outputs": [],
   "source": [
    "def get_tuples(x_list, y_list):\n",
    "    if len(x_list) != len(y_list):\n",
    "        raise ValueError(\"The two lists must have the same length.\")\n",
    "    \n",
    "    return set(zip(x_list, y_list))"
   ]
  },
  {
   "cell_type": "code",
   "execution_count": 137,
   "metadata": {},
   "outputs": [
    {
     "data": {
      "text/plain": [
       "{(2, 0.0),\n",
       " (2, 0.4150374992788439),\n",
       " (3, 1.0),\n",
       " (4, 0.0),\n",
       " (4, 0.8300749985576878),\n",
       " (4, 1.0),\n",
       " (5, 0.0),\n",
       " (6, 0.0),\n",
       " (6, 1.2451124978365318),\n",
       " (7, 0.0),\n",
       " (8, 0.0),\n",
       " (8, 1.6601499971153757),\n",
       " (9, 0.0),\n",
       " (9, 0.24511249783653177),\n",
       " (9, 0.9231844029491683),\n",
       " (10, 0.0),\n",
       " (10, 2.0751874963942187),\n",
       " (11, 0.0),\n",
       " (12, 0.0),\n",
       " (12, 2.4902249956730635),\n",
       " (13, 0.0),\n",
       " (14, 0.0),\n",
       " (14, 2.9052624949519075),\n",
       " (15, 0.0),\n",
       " (16, 0.0),\n",
       " (16, 3.3202999942307514)}"
      ]
     },
     "execution_count": 137,
     "metadata": {},
     "output_type": "execute_result"
    }
   ],
   "source": [
    "new_data = set()\n",
    "for x, y in zip(all_n_vars_list, all_comp_ratio_list):\n",
    "    tuples = get_tuples(x, y)\n",
    "    new_data = new_data | tuples \n",
    "\n",
    "new_data"
   ]
  },
  {
   "cell_type": "code",
   "execution_count": 138,
   "metadata": {},
   "outputs": [
    {
     "name": "stdout",
     "output_type": "stream",
     "text": [
      "{(8, 1.6601499971153757), (2, 0.4150374992788439), (3, 1.0), (11, 0.0), (14, 2.9052624949519075), (7, 0.0), (13, 0.0), (9, 0.9231844029491683), (12, 2.4902249956730635), (15, 0.0), (5, 0.0), (16, 3.3202999942307514), (6, 1.2451124978365318), (4, 1.0), (10, 2.0751874963942187)}\n"
     ]
    }
   ],
   "source": [
    "def keep_max_y_coordinate(tuples_set):\n",
    "    # Create a dictionary to store the maximum y coordinate for each x coordinate\n",
    "    max_y_coordinates = {}\n",
    "\n",
    "    for x, y in tuples_set:\n",
    "        if x in max_y_coordinates:\n",
    "            max_y_coordinates[x] = max(max_y_coordinates[x], y)\n",
    "        else:\n",
    "            max_y_coordinates[x] = y\n",
    "\n",
    "    # Create a new set with the tuples having maximum y coordinate for each x coordinate\n",
    "    result_set = {(x, y) for x, y in tuples_set if y == max_y_coordinates[x]}\n",
    "\n",
    "    return result_set\n",
    "\n",
    "result = keep_max_y_coordinate(new_data)\n",
    "print(result)"
   ]
  },
  {
   "cell_type": "code",
   "execution_count": 149,
   "metadata": {},
   "outputs": [
    {
     "data": {
      "image/png": "[encoded data removed]",
      "text/plain": [
       "<Figure size 640x480 with 1 Axes>"
      ]
     },
     "metadata": {},
     "output_type": "display_data"
    }
   ],
   "source": [
    "def scatter_and_linear_fit(tuples_set):\n",
    "    # Extract x and y coordinates from the set of tuples where x is even\n",
    "    x_coordinates = np.array([x for x, y in tuples_set if x % 2 == 0])\n",
    "    y_coordinates = np.array([y for x, y in tuples_set if x % 2 == 0])\n",
    "\n",
    "    # Perform linear regression to get the slope (m) and intercept (b)\n",
    "    m, b = np.polyfit(x_coordinates, y_coordinates, 1)\n",
    "\n",
    "    # Draw the linear fit (regression line)\n",
    "    plt.plot(x_coordinates, m * x_coordinates + b,'--', color='red', label=f'Linear Fit: {round(m, 3)} x + {round(b, 3)}')\n",
    "\n",
    "scatter_and_linear_fit(result)\n",
    "\n",
    "# Create the scatter plot using the stored data\n",
    "for idx, m in enumerate(m_list):\n",
    "    plt.scatter(all_n_vars_list[idx], all_comp_ratio_list[idx], marker=markers[idx], color=colors[idx], label=f'm = {m}')\n",
    "\n",
    "\n",
    "plt.xlim(2, None)\n",
    "plt.ylim(0, None)\n",
    "# Add labels and legend\n",
    "plt.xlabel('Number of Variables in clauses')\n",
    "plt.ylabel('Compression Ratio')\n",
    "# Add a title\n",
    "plt.title('Number of Variables vs Compression Ratio')\n",
    "plt.legend()\n",
    "plt.show()"
   ]
  },
  {
   "cell_type": "code",
   "execution_count": null,
   "metadata": {},
   "outputs": [],
   "source": []
  }
 ],
 "metadata": {
  "kernelspec": {
   "display_name": ".venv",
   "language": "python",
   "name": "python3"
  },
  "language_info": {
   "codemirror_mode": {
    "name": "ipython",
    "version": 3
   },
   "file_extension": ".py",
   "mimetype": "text/x-python",
   "name": "python",
   "nbconvert_exporter": "python",
   "pygments_lexer": "ipython3",
   "version": "3.11.4"
  },
  "orig_nbformat": 4
 },
 "nbformat": 4,
 "nbformat_minor": 2
}
