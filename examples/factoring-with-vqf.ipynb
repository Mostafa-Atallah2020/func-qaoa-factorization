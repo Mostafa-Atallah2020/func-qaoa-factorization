{
 "cells": [
  {
   "attachments": {},
   "cell_type": "markdown",
   "metadata": {},
   "source": [
    "Before running this Jupyter notebook, you need to install the `vqf` package, which is a forked version of Michal's code for the VQF algorithm. To install it, run the following command in your terminal or command prompt:\n",
    "\n",
    "```\n",
    "pip install git+https://github.com/Mostafa-Atallah2020/vqf.git#egg=vqf\n",
    "```\n",
    "\n",
    "Note that the original package is not installable, so the forked version includes a `pyproject.toml` and `setup.py` files to make it installable without actually changing the code."
   ]
  },
  {
   "cell_type": "code",
   "execution_count": 1,
   "metadata": {},
   "outputs": [],
   "source": [
    "from vqf.preprocessing import create_clauses"
   ]
  },
  {
   "attachments": {},
   "cell_type": "markdown",
   "metadata": {},
   "source": [
    "This function creates clauses for the VQF (Variational Quantum Factoring) algorithm, which is a quantum algorithm for factoring integers.\n",
    "\n",
    "The function takes as input an integer `m_int` to be factored, and optionally known factors `true_p_int` and `true_q_int`. It also has boolean flags `apply_preprocessing` and `verbose`, which control whether to apply certain simplifications and whether to print information during the execution.\n",
    "\n",
    "The function returns four dictionaries (`p_dict`, `q_dict`, `z_dict`, and `known_symbols`) that represent the variables used in the VQF algorithm, as well as a list of clauses (`final_clauses`) that represent the optimization problem. The `p_dict` and `q_dict` dictionaries represent the bits of the factors `p` and `q`, respectively, while `z_dict` represents the carry bits. The `known_symbols` dictionary contains the known values of `p`, `q`, and `z`, which are used to simplify the clauses.\n",
    "\n",
    "The `create_clauses` function first creates the initial dictionaries using `create_initial_dicts`. It then applies preprocessing to the dictionaries if `apply_preprocessing` is `True`. The preprocessing includes setting the leading bits of `p` and `q` to 1 and removing unnecessary carry bits. The function then creates the basic clauses using `create_basic_clauses`, which represent the optimization problem for the VQF algorithm.\n",
    "\n",
    "If `apply_preprocessing` is `True`, the function simplifies the clauses using `simplify_clauses` and updates the dictionaries based on the known expressions using `update_dictionaries`. The function then creates a new set of final clauses using the simplified clauses.\n",
    "\n",
    "If the final clauses are all equal to 0 and there are still unknown variables, the function raises an exception. Otherwise, the function returns the dictionaries and final clauses.\n",
    "\n",
    "Overall, the `create_clauses` function is an important part of the VQF algorithm and is used to prepare the optimization problem that is solved by the quantum computer."
   ]
  },
  {
   "cell_type": "code",
   "execution_count": 2,
   "metadata": {},
   "outputs": [],
   "source": [
    "p = 11\n",
    "q = 13\n",
    "m = p * q"
   ]
  },
  {
   "attachments": {},
   "cell_type": "markdown",
   "metadata": {},
   "source": [
    "The first call to `create_clauses(m)` does not provide any known factors, so the algorithm will attempt to find all factors of `m` from scratch."
   ]
  },
  {
   "cell_type": "code",
   "execution_count": 3,
   "metadata": {},
   "outputs": [
    {
     "name": "stdout",
     "output_type": "stream",
     "text": [
      "Preprocessing iteration: 0\n",
      "Current clause 1 : p_1 + q_1 - 1\n",
      "Rule 2 applied! p_1 = 1 - q_1\n",
      "Current clause 2 : p_2 + q_2 - 2*z_2_3 - 1\n",
      "Z rule 1 applied! z_2_3 = 0\n",
      "Rule 2 applied! q_2 = 1 - p_2\n",
      "Current clause 3 : p_3 - 2*q_1*q_2 + q_1 + q_2 + q_3 - 2*z_3_4 - 4*z_3_5 - 1\n",
      "Z rule 1 applied! z_3_5 = 0\n",
      "Current clause 4 : p_3*q_1 + p_4 - q_1*q_3 + q_3 + z_3_4 - 2*z_4_5 - 4*z_4_6\n",
      "Current clause 5 : p_3*q_2 + p_4*q_1 + p_5 - q_2*q_3 + q_3 + z_4_5 - 2*z_5_6 - 4*z_5_7\n",
      "Current clause 6 : p_3*q_3 + p_4*q_2 + p_5*q_1 + p_6 + z_4_6 + z_5_6 - 2*z_6_7\n",
      "Current clause 7 : p_4*q_3 + p_5*q_2 + p_6*q_1 + p_7 + z_5_7 + z_6_7 - 1\n",
      "Current clause 8 : p_5*q_3 + p_6*q_2 + p_7*q_1\n",
      "Rule 4 applied! p_5*q_3 + p_6*q_2 + p_7*q_1\n",
      "Current clause 9 : p_6*q_3 + p_7*q_2\n",
      "Rule 4 applied! p_6*q_3 + p_7*q_2\n",
      "Current clause 10 : p_7*q_3\n",
      "Rule of equality applied! p_7*q_3\n",
      "\n",
      "\n",
      "Preprocessing iteration: 1\n",
      "Current clause 3 : p_3 - 2*q_1*q_2 + q_1 + q_2 + q_3 - 2*z_3_4 - 1\n",
      "Current clause 4 : p_3*q_1 + p_4 - q_1*q_3 + q_3 + z_3_4 - 2*z_4_5 - 4*z_4_6\n",
      "Current clause 5 : p_3*q_2 + p_4*q_1 + p_5 - q_2*q_3 + q_3 + z_4_5 - 2*z_5_6 - 4*z_5_7\n",
      "Current clause 6 : p_3*q_3 + p_4*q_2 + p_5*q_1 + p_6 + z_4_6 + z_5_6 - 2*z_6_7\n",
      "Current clause 7 : p_4*q_3 + p_5*q_2 + p_6*q_1 + p_7 + z_5_7 + z_6_7 - 1\n",
      "\n",
      "\n",
      "Final clauses:\n",
      "0\n",
      "0\n",
      "0\n",
      "p_3 - 2*q_1*q_2 + q_1 + q_2 + q_3 - 2*z_3_4 - 1\n",
      "p_3*q_1 + p_4 - q_1*q_3 + q_3 + z_3_4 - 2*z_4_5 - 4*z_4_6\n",
      "p_3*q_2 + p_4*q_1 + p_5 - q_2*q_3 + q_3 + z_4_5 - 2*z_5_6 - 4*z_5_7\n",
      "p_3*q_3 + p_4*q_2 + p_5*q_1 + p_6 + z_4_6 + z_5_6 - 2*z_6_7\n",
      "p_4*q_3 + p_5*q_2 + p_6*q_1 + p_7 + z_5_7 + z_6_7 - 1\n",
      "p_5*q_3 + p_6*q_2 + p_7*q_1\n",
      "p_6*q_3 + p_7*q_2\n",
      "p_7*q_3\n"
     ]
    }
   ],
   "source": [
    "p_dict, q_dict, z_dict, final_clauses = create_clauses(m)"
   ]
  },
  {
   "attachments": {},
   "cell_type": "markdown",
   "metadata": {},
   "source": [
    "The second call to `create_clauses(m, p, q)` provides the known factors `p` and `q` as arguments, so the algorithm will take these into account and use them to simplify the problem."
   ]
  },
  {
   "cell_type": "code",
   "execution_count": 4,
   "metadata": {},
   "outputs": [
    {
     "name": "stdout",
     "output_type": "stream",
     "text": [
      "Preprocessing iteration: 0\n",
      "Current clause 1 : p_1 + q_1 - 1\n",
      "Rule 2 applied! p_1 = 1 - q_1\n",
      "Current clause 2 : p_2 + q_2 - 2*z_2_3 - 1\n",
      "Z rule 1 applied! z_2_3 = 0\n",
      "Rule 2 applied! q_2 = 1 - p_2\n",
      "Current clause 3 : -2*q_1*q_2 + q_1 + q_2 - 2*z_3_4 - 4*z_3_5 + 1\n",
      "Z rule 1 applied! z_3_5 = 0\n",
      "Z rule 2 applied: {q_1*q_2: 0}\n",
      "Current clause 4 : z_3_4 - 2*z_4_5 - 4*z_4_6 + 1\n",
      "Z rule 1 applied! z_4_6 = 0\n",
      "Z rule 2 applied: {z_3_4: 1}\n",
      "Current clause 5 : z_4_5 - 2*z_5_6 - 4*z_5_7 + 1\n",
      "Z rule 1 applied! z_5_7 = 0\n",
      "Z rule 2 applied: {z_4_5: 1}\n",
      "Current clause 6 : z_5_6 - 2*z_6_7 + 1\n",
      "Z rule 2 applied: {z_5_6: 1}\n",
      "Current clause 7 : z_6_7 - 1\n",
      "Rule 5 applied! z_6_7 - 1\n",
      "\n",
      "\n",
      "Preprocessing iteration: 1\n",
      "Current clause 3 : q_1 + q_2 - 1\n",
      "Rule 2 applied! q_2 = 1 - q_1\n",
      "\n",
      "\n",
      "Preprocessing iteration: 2\n",
      "\n",
      "\n",
      "Final clauses:\n",
      "0\n",
      "0\n",
      "0\n",
      "0\n",
      "0\n",
      "0\n",
      "0\n",
      "0\n",
      "0\n",
      "0\n",
      "0\n"
     ]
    }
   ],
   "source": [
    "p_dict, q_dict, z_dict, final_clauses = create_clauses(m, p, q)"
   ]
  },
  {
   "cell_type": "code",
   "execution_count": null,
   "metadata": {},
   "outputs": [],
   "source": []
  }
 ],
 "metadata": {
  "kernelspec": {
   "display_name": ".venv",
   "language": "python",
   "name": "python3"
  },
  "language_info": {
   "codemirror_mode": {
    "name": "ipython",
    "version": 3
   },
   "file_extension": ".py",
   "mimetype": "text/x-python",
   "name": "python",
   "nbconvert_exporter": "python",
   "pygments_lexer": "ipython3",
   "version": "3.10.6"
  },
  "orig_nbformat": 4
 },
 "nbformat": 4,
 "nbformat_minor": 2
}
