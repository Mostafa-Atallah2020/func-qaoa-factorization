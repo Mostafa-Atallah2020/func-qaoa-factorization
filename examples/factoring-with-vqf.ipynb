{
 "cells": [
  {
   "attachments": {},
   "cell_type": "markdown",
   "metadata": {},
   "source": [
    "Before running this Jupyter notebook, you need to install the `vqf` package, which is a forked version of Michal's code for the VQF algorithm. To install it, run the following command in your terminal or command prompt:\n",
    "\n",
    "```\n",
    "pip install git+https://github.com/Mostafa-Atallah2020/vqf.git#egg=vqf\n",
    "```\n",
    "\n",
    "Note that the original package is not installable, so the forked version includes a `pyproject.toml` and `setup.py` files to make it installable without actually changing the code."
   ]
  },
  {
   "cell_type": "code",
   "execution_count": 2,
   "metadata": {},
   "outputs": [],
   "source": [
    "from vqf.preprocessing import *\n",
    "import sys\n",
    "\n",
    "sys.path.append(f\"./../\")\n",
    "from src.clause_utils import table_form"
   ]
  },
  {
   "attachments": {},
   "cell_type": "markdown",
   "metadata": {},
   "source": [
    "This function creates clauses for the VQF (Variational Quantum Factoring) algorithm, which is a quantum algorithm for factoring integers.\n",
    "\n",
    "The function takes as input an integer `m_int` to be factored, and optionally known factors `true_p_int` and `true_q_int`. It also has boolean flags `apply_preprocessing` and `verbose`, which control whether to apply certain simplifications and whether to print information during the execution.\n",
    "\n",
    "The function returns four dictionaries (`p_dict`, `q_dict`, `z_dict`, and `known_symbols`) that represent the variables used in the VQF algorithm, as well as a list of clauses (`final_clauses`) that represent the optimization problem. The `p_dict` and `q_dict` dictionaries represent the bits of the factors `p` and `q`, respectively, while `z_dict` represents the carry bits. The `known_symbols` dictionary contains the known values of `p`, `q`, and `z`, which are used to simplify the clauses.\n",
    "\n",
    "The `create_clauses` function first creates the initial dictionaries using `create_initial_dicts`. It then applies preprocessing to the dictionaries if `apply_preprocessing` is `True`. The preprocessing includes setting the leading bits of `p` and `q` to 1 and removing unnecessary carry bits. The function then creates the basic clauses using `create_basic_clauses`, which represent the optimization problem for the VQF algorithm.\n",
    "\n",
    "If `apply_preprocessing` is `True`, the function simplifies the clauses using `simplify_clauses` and updates the dictionaries based on the known expressions using `update_dictionaries`. The function then creates a new set of final clauses using the simplified clauses.\n",
    "\n",
    "If the final clauses are all equal to 0 and there are still unknown variables, the function raises an exception. Otherwise, the function returns the dictionaries and final clauses.\n",
    "\n",
    "Overall, the `create_clauses` function is an important part of the VQF algorithm and is used to prepare the optimization problem that is solved by the quantum computer."
   ]
  },
  {
   "cell_type": "code",
   "execution_count": 3,
   "metadata": {},
   "outputs": [],
   "source": [
    "p = 11\n",
    "q = 13\n",
    "m = p * q"
   ]
  },
  {
   "attachments": {},
   "cell_type": "markdown",
   "metadata": {},
   "source": [
    "The first call to `create_clauses(m)` does not provide any known factors, so the algorithm will attempt to find all factors of `m` from scratch."
   ]
  },
  {
   "cell_type": "code",
   "execution_count": 4,
   "metadata": {},
   "outputs": [
    {
     "name": "stdout",
     "output_type": "stream",
     "text": [
      "Preprocessing iteration: 0\n",
      "Current clause 1 : p_1 + q_1 - 1\n",
      "Rule 2 applied! q_1 = 1 - p_1\n",
      "Current clause 2 : p_2 + q_2 - 2*z_2_3 - 1\n",
      "Z rule 1 applied! z_2_3 = 0\n",
      "Rule 2 applied! q_2 = 1 - p_2\n",
      "Current clause 3 : p_3 - 2*q_1*q_2 + q_1 + q_2 + q_3 - 2*z_3_4 - 4*z_3_5 - 1\n",
      "Z rule 1 applied! z_3_5 = 0\n",
      "Current clause 4 : p_3*q_1 + p_4 - q_1*q_3 + q_3 + z_3_4 - 2*z_4_5 - 4*z_4_6\n",
      "Current clause 5 : p_3*q_2 + p_4*q_1 + p_5 - q_2*q_3 + q_3 + z_4_5 - 2*z_5_6 - 4*z_5_7\n",
      "Current clause 6 : p_3*q_3 + p_4*q_2 + p_5*q_1 + p_6 + z_4_6 + z_5_6 - 2*z_6_7\n",
      "Current clause 7 : p_4*q_3 + p_5*q_2 + p_6*q_1 + p_7 + z_5_7 + z_6_7 - 1\n",
      "Current clause 8 : p_5*q_3 + p_6*q_2 + p_7*q_1\n",
      "Rule 4 applied! p_5*q_3 + p_6*q_2 + p_7*q_1\n",
      "Current clause 9 : p_6*q_3 + p_7*q_2\n",
      "Rule 4 applied! p_6*q_3 + p_7*q_2\n",
      "Current clause 10 : p_7*q_3\n",
      "Rule of equality applied! p_7*q_3\n",
      "\n",
      "\n",
      "Preprocessing iteration: 1\n",
      "Current clause 3 : p_3 - 2*q_1*q_2 + q_1 + q_2 + q_3 - 2*z_3_4 - 1\n",
      "Current clause 4 : p_3*q_1 + p_4 - q_1*q_3 + q_3 + z_3_4 - 2*z_4_5 - 4*z_4_6\n",
      "Current clause 5 : p_3*q_2 + p_4*q_1 + p_5 - q_2*q_3 + q_3 + z_4_5 - 2*z_5_6 - 4*z_5_7\n",
      "Current clause 6 : p_3*q_3 + p_4*q_2 + p_5*q_1 + p_6 + z_4_6 + z_5_6 - 2*z_6_7\n",
      "Current clause 7 : p_4*q_3 + p_5*q_2 + p_6*q_1 + p_7 + z_5_7 + z_6_7 - 1\n",
      "\n",
      "\n",
      "Final clauses:\n",
      "0\n",
      "0\n",
      "0\n",
      "p_3 - 2*q_1*q_2 + q_1 + q_2 + q_3 - 2*z_3_4 - 1\n",
      "p_3*q_1 + p_4 - q_1*q_3 + q_3 + z_3_4 - 2*z_4_5 - 4*z_4_6\n",
      "p_3*q_2 + p_4*q_1 + p_5 - q_2*q_3 + q_3 + z_4_5 - 2*z_5_6 - 4*z_5_7\n",
      "p_3*q_3 + p_4*q_2 + p_5*q_1 + p_6 + z_4_6 + z_5_6 - 2*z_6_7\n",
      "p_4*q_3 + p_5*q_2 + p_6*q_1 + p_7 + z_5_7 + z_6_7 - 1\n",
      "p_5*q_3 + p_6*q_2 + p_7*q_1\n",
      "p_6*q_3 + p_7*q_2\n",
      "p_7*q_3\n"
     ]
    }
   ],
   "source": [
    "p_dict, q_dict, z_dict, final_clauses = create_clauses(m)"
   ]
  },
  {
   "attachments": {},
   "cell_type": "markdown",
   "metadata": {},
   "source": [
    "The second call to `create_clauses(m, p, q)` provides the known factors `p` and `q` as arguments, so the algorithm will take these into account and use them to simplify the problem."
   ]
  },
  {
   "cell_type": "code",
   "execution_count": 5,
   "metadata": {},
   "outputs": [
    {
     "name": "stdout",
     "output_type": "stream",
     "text": [
      "Preprocessing iteration: 0\n",
      "Current clause 1 : p_1 + q_1 - 1\n",
      "Rule 2 applied! q_1 = 1 - p_1\n",
      "Current clause 2 : p_2 + q_2 - 2*z_2_3 - 1\n",
      "Z rule 1 applied! z_2_3 = 0\n",
      "Rule 2 applied! q_2 = 1 - p_2\n",
      "Current clause 3 : -2*q_1*q_2 + q_1 + q_2 - 2*z_3_4 - 4*z_3_5 + 1\n",
      "Z rule 1 applied! z_3_5 = 0\n",
      "Z rule 2 applied: {q_1*q_2: 0}\n",
      "Current clause 4 : z_3_4 - 2*z_4_5 - 4*z_4_6 + 1\n",
      "Z rule 1 applied! z_4_6 = 0\n",
      "Z rule 2 applied: {z_3_4: 1}\n",
      "Current clause 5 : z_4_5 - 2*z_5_6 - 4*z_5_7 + 1\n",
      "Z rule 1 applied! z_5_7 = 0\n",
      "Z rule 2 applied: {z_4_5: 1}\n",
      "Current clause 6 : z_5_6 - 2*z_6_7 + 1\n",
      "Z rule 2 applied: {z_5_6: 1}\n",
      "Current clause 7 : z_6_7 - 1\n",
      "Rule 5 applied! z_6_7 - 1\n",
      "\n",
      "\n",
      "Preprocessing iteration: 1\n",
      "Current clause 3 : q_1 + q_2 - 1\n",
      "Rule 2 applied! q_1 = 1 - q_2\n",
      "\n",
      "\n",
      "Preprocessing iteration: 2\n",
      "\n",
      "\n",
      "Final clauses:\n",
      "0\n",
      "0\n",
      "0\n",
      "0\n",
      "0\n",
      "0\n",
      "0\n",
      "0\n",
      "0\n",
      "0\n",
      "0\n"
     ]
    }
   ],
   "source": [
    "p_dict, q_dict, z_dict, final_clauses = create_clauses(m, p, q)"
   ]
  },
  {
   "cell_type": "code",
   "execution_count": null,
   "metadata": {},
   "outputs": [],
   "source": []
  },
  {
   "cell_type": "code",
   "execution_count": 6,
   "metadata": {},
   "outputs": [],
   "source": [
    "m_dict, p_dict, q_dict, z_dict = create_initial_dicts(m, p, q)"
   ]
  },
  {
   "attachments": {},
   "cell_type": "markdown",
   "metadata": {},
   "source": [
    "The `create_initial_dicts` function creates dictionaries representing `m`, `p`, `q` and `z` based on the provided integer values `m_int`, `true_p_int` and `true_q_int`.\n",
    "\n",
    "The `m_dict` dictionary represents the binary digits of `m_int`, where the keys are the bit positions and the values are either 0 or 1.\n",
    "\n",
    "The `p_dict` dictionary represents the binary digits of the factor `p` or, if `true_p_int` is not provided, it has the same length as `m_dict`. The keys of the `p_dict` dictionary are the bit positions and the values are Symbol objects representing unknown variables.\n",
    "\n",
    "The `q_dict` dictionary represents the binary digits of the factor `q` or, if `true_q_int` is not provided, its length is determined by dividing the length of `m_dict` by 2 and rounding up. The keys of the `q_dict` dictionary are the bit positions and the values are Symbol objects representing unknown variables.\n",
    "\n",
    "If `true_p_int` or `true_q_int` is provided, the function sets the corresponding last bit of `p_dict` or `q_dict` to 1.\n",
    "\n",
    "The `z_dict` dictionary represents the carry bits. The keys are tuples of integers, where the first one is a starting bit and the second one is a target bit. The values are the same as in the case of `p_dict` and `q_dict`. The `z_dict` dictionary is constructed in a way that allows it to be used for the VQF algorithm."
   ]
  },
  {
   "cell_type": "code",
   "execution_count": 7,
   "metadata": {},
   "outputs": [
    {
     "name": "stdout",
     "output_type": "stream",
     "text": [
      "m_dict:\n",
      "  Key    Value\n",
      "-----  -------\n",
      "    0        1\n",
      "    1        1\n",
      "    2        1\n",
      "    3        1\n",
      "    4        0\n",
      "    5        0\n",
      "    6        0\n",
      "    7        1\n"
     ]
    }
   ],
   "source": [
    "print(\"m_dict:\")\n",
    "table_form(m_dict)"
   ]
  },
  {
   "cell_type": "code",
   "execution_count": 8,
   "metadata": {},
   "outputs": [
    {
     "name": "stdout",
     "output_type": "stream",
     "text": [
      "p_dict:\n",
      "  Key  Value\n",
      "-----  -------\n",
      "    0  p_0\n",
      "    1  p_1\n",
      "    2  p_2\n",
      "    3  1\n"
     ]
    }
   ],
   "source": [
    "print(\"p_dict:\")\n",
    "table_form(p_dict)"
   ]
  },
  {
   "cell_type": "code",
   "execution_count": 9,
   "metadata": {},
   "outputs": [
    {
     "name": "stdout",
     "output_type": "stream",
     "text": [
      "q_dict:\n",
      "  Key  Value\n",
      "-----  -------\n",
      "    0  q_0\n",
      "    1  q_1\n",
      "    2  q_2\n",
      "    3  1\n"
     ]
    }
   ],
   "source": [
    "print(\"q_dict:\")\n",
    "table_form(q_dict)"
   ]
  },
  {
   "cell_type": "code",
   "execution_count": 10,
   "metadata": {},
   "outputs": [
    {
     "name": "stdout",
     "output_type": "stream",
     "text": [
      "z_dict:\n",
      "Key     Value\n",
      "------  -------\n",
      "(1, 2)  z_1_2\n",
      "(1, 3)  z_1_3\n",
      "(2, 3)  z_2_3\n",
      "(1, 4)  z_1_4\n",
      "(2, 4)  z_2_4\n",
      "(3, 4)  z_3_4\n",
      "(1, 5)  z_1_5\n",
      "(2, 5)  z_2_5\n",
      "(3, 5)  z_3_5\n",
      "(4, 5)  z_4_5\n",
      "(1, 6)  z_1_6\n",
      "(2, 6)  z_2_6\n",
      "(3, 6)  z_3_6\n",
      "(4, 6)  z_4_6\n",
      "(5, 6)  z_5_6\n",
      "(1, 7)  z_1_7\n",
      "(2, 7)  z_2_7\n",
      "(3, 7)  z_3_7\n",
      "(4, 7)  z_4_7\n",
      "(5, 7)  z_5_7\n",
      "(6, 7)  z_6_7\n"
     ]
    }
   ],
   "source": [
    "print(\"z_dict:\")\n",
    "table_form(z_dict)"
   ]
  },
  {
   "cell_type": "code",
   "execution_count": 11,
   "metadata": {},
   "outputs": [],
   "source": [
    "known_symbols = create_known_symbols_dict(p_dict, q_dict, z_dict)"
   ]
  },
  {
   "attachments": {},
   "cell_type": "markdown",
   "metadata": {},
   "source": [
    "The `create_known_symbols_dict` function creates a dictionary of known simple symbols that will be used in the VQF algorithm.\n",
    "\n",
    "It takes in `p_dict`, `q_dict`, and `z_dict`, which are dictionaries representing numbers `p`, `q`, and carry bits respectively. These dictionaries contain keys that represent bit indices and values that are either integers (0 or 1) or sympy expressions representing the variables.\n",
    "\n",
    "The function creates a new dictionary `known_symbols` which maps each `p_i`, `q_i`, and `z_i_j` variable to its corresponding value in the input dictionaries. This dictionary will be used later in the VQF algorithm to replace known variables with their values and reduce the number of variables that need to be optimized."
   ]
  },
  {
   "cell_type": "code",
   "execution_count": 12,
   "metadata": {},
   "outputs": [
    {
     "name": "stdout",
     "output_type": "stream",
     "text": [
      "Key    Value\n",
      "-----  -------\n",
      "p_0    p_0\n",
      "p_1    p_1\n",
      "p_2    p_2\n",
      "p_3    1\n",
      "q_0    q_0\n",
      "q_1    q_1\n",
      "q_2    q_2\n",
      "q_3    1\n",
      "z_1_2  z_1_2\n",
      "z_1_3  z_1_3\n",
      "z_2_3  z_2_3\n",
      "z_1_4  z_1_4\n",
      "z_2_4  z_2_4\n",
      "z_3_4  z_3_4\n",
      "z_1_5  z_1_5\n",
      "z_2_5  z_2_5\n",
      "z_3_5  z_3_5\n",
      "z_4_5  z_4_5\n",
      "z_1_6  z_1_6\n",
      "z_2_6  z_2_6\n",
      "z_3_6  z_3_6\n",
      "z_4_6  z_4_6\n",
      "z_5_6  z_5_6\n",
      "z_1_7  z_1_7\n",
      "z_2_7  z_2_7\n",
      "z_3_7  z_3_7\n",
      "z_4_7  z_4_7\n",
      "z_5_7  z_5_7\n",
      "z_6_7  z_6_7\n"
     ]
    }
   ],
   "source": [
    "table_form(known_symbols)"
   ]
  },
  {
   "attachments": {},
   "cell_type": "markdown",
   "metadata": {},
   "source": [
    "The `create_known_symbols_dict` function can be used to simplify the process of solving algebraic problems. In algebraic problems, there are often some symbols that are known and some that are unknown. The known symbols may be constants, variables with known values, or expressions that have already been evaluated. The unknown symbols are the variables that need to be solved for.\n",
    "\n",
    "By creating a dictionary of known symbols, the `create_known_symbols_dict` function allows you to easily reference the known values of symbols in your algebraic expressions. This can make the process of simplifying algebraic expressions and solving equations more efficient and less error-prone.\n",
    "\n",
    "The `create_initial_dicts` function, on the other hand, is used to create the initial dictionaries that are used to store the variables and their corresponding values. These dictionaries are empty initially, and are filled as the program evaluates the expressions and solves for the unknown variables. The `create_known_symbols_dict` function is used in conjunction with these initial dictionaries to simplify the process of solving algebraic problems."
   ]
  },
  {
   "cell_type": "code",
   "execution_count": null,
   "metadata": {},
   "outputs": [],
   "source": []
  }
 ],
 "metadata": {
  "kernelspec": {
   "display_name": ".venv",
   "language": "python",
   "name": "python3"
  },
  "language_info": {
   "codemirror_mode": {
    "name": "ipython",
    "version": 3
   },
   "file_extension": ".py",
   "mimetype": "text/x-python",
   "name": "python",
   "nbconvert_exporter": "python",
   "pygments_lexer": "ipython3",
   "version": "3.10.6"
  },
  "orig_nbformat": 4
 },
 "nbformat": 4,
 "nbformat_minor": 2
}
