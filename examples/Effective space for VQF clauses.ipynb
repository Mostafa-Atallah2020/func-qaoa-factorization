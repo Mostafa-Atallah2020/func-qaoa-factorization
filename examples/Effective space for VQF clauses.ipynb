{
 "cells": [
  {
   "cell_type": "code",
   "execution_count": 25,
   "metadata": {},
   "outputs": [
    {
     "name": "stdout",
     "output_type": "stream",
     "text": [
      "The autoreload extension is already loaded. To reload it, use:\n",
      "  %reload_ext autoreload\n"
     ]
    }
   ],
   "source": [
    "%load_ext autoreload\n",
    "%autoreload 2"
   ]
  },
  {
   "cell_type": "code",
   "execution_count": 26,
   "metadata": {},
   "outputs": [],
   "source": [
    "from vqf.preprocessing import create_clauses\n",
    "from IPython.display import display\n",
    "import sys\n",
    "\n",
    "import warnings\n",
    "\n",
    "warnings.filterwarnings(\"ignore\")\n",
    "\n",
    "sys.path.append(f\"./../\")\n",
    "from src import SpaceEfficientVQF, Clause"
   ]
  },
  {
   "attachments": {},
   "cell_type": "markdown",
   "metadata": {},
   "source": [
    "## The Original Clauses from Michal Code"
   ]
  },
  {
   "cell_type": "code",
   "execution_count": 27,
   "metadata": {},
   "outputs": [],
   "source": [
    "# p = 5\n",
    "# q = 3\n",
    "\n",
    "# p = 31\n",
    "# q = 23\n",
    "\n",
    "p = 11\n",
    "q = 7\n",
    "\n",
    "# p = 241\n",
    "# q = 233\n",
    "\n",
    "# p = 13\n",
    "# q = 11\n",
    "\n",
    "# p = 557\n",
    "# q = 523\n",
    "\n",
    "# p, q = 1481, 997\n",
    "\n",
    "m = p * q\n",
    "\n",
    "# m = 2459063\n",
    "vqf = SpaceEfficientVQF(m)"
   ]
  },
  {
   "cell_type": "code",
   "execution_count": 28,
   "metadata": {},
   "outputs": [
    {
     "data": {
      "text/latex": [
       "$\\displaystyle p_{2} + 2 q_{1} + q_{2} - 2 z_{2 3} - 1$"
      ],
      "text/plain": [
       "p_2 + 2*q_1 + q_2 - 2*z_2_3 - 1"
      ]
     },
     "metadata": {},
     "output_type": "display_data"
    },
    {
     "data": {
      "text/latex": [
       "$\\displaystyle p_{2} q_{1} + p_{3} + q_{1} q_{2} + q_{3} + z_{2 3} - 2 z_{3 4} - 4 z_{3 5} - 1$"
      ],
      "text/plain": [
       "p_2*q_1 + p_3 + q_1*q_2 + q_3 + z_2_3 - 2*z_3_4 - 4*z_3_5 - 1"
      ]
     },
     "metadata": {},
     "output_type": "display_data"
    },
    {
     "data": {
      "text/latex": [
       "$\\displaystyle p_{2} q_{2} + p_{3} q_{1} + p_{4} + q_{1} q_{3} + z_{3 4} - 2 z_{4 5} - 4 z_{4 6}$"
      ],
      "text/plain": [
       "p_2*q_2 + p_3*q_1 + p_4 + q_1*q_3 + z_3_4 - 2*z_4_5 - 4*z_4_6"
      ]
     },
     "metadata": {},
     "output_type": "display_data"
    },
    {
     "data": {
      "text/latex": [
       "$\\displaystyle p_{2} q_{3} + p_{3} q_{2} + p_{4} q_{1} + p_{5} + z_{3 5} + z_{4 5} - 2 z_{5 6}$"
      ],
      "text/plain": [
       "p_2*q_3 + p_3*q_2 + p_4*q_1 + p_5 + z_3_5 + z_4_5 - 2*z_5_6"
      ]
     },
     "metadata": {},
     "output_type": "display_data"
    },
    {
     "data": {
      "text/latex": [
       "$\\displaystyle p_{3} q_{3} + p_{4} q_{2} + p_{5} q_{1} + p_{6} + z_{4 6} + z_{5 6} - 1$"
      ],
      "text/plain": [
       "p_3*q_3 + p_4*q_2 + p_5*q_1 + p_6 + z_4_6 + z_5_6 - 1"
      ]
     },
     "metadata": {},
     "output_type": "display_data"
    },
    {
     "data": {
      "text/latex": [
       "$\\displaystyle p_{4} q_{3} + p_{5} q_{2} + p_{6} q_{1}$"
      ],
      "text/plain": [
       "p_4*q_3 + p_5*q_2 + p_6*q_1"
      ]
     },
     "metadata": {},
     "output_type": "display_data"
    },
    {
     "data": {
      "text/latex": [
       "$\\displaystyle p_{5} q_{3} + p_{6} q_{2}$"
      ],
      "text/plain": [
       "p_5*q_3 + p_6*q_2"
      ]
     },
     "metadata": {},
     "output_type": "display_data"
    },
    {
     "data": {
      "text/latex": [
       "$\\displaystyle p_{6} q_{3}$"
      ],
      "text/plain": [
       "p_6*q_3"
      ]
     },
     "metadata": {},
     "output_type": "display_data"
    }
   ],
   "source": [
    "for c in vqf.simplified_clauses:\n",
    "    if c != 0:\n",
    "        display(c)"
   ]
  },
  {
   "attachments": {},
   "cell_type": "markdown",
   "metadata": {},
   "source": [
    "## The Limited Clauses "
   ]
  },
  {
   "cell_type": "code",
   "execution_count": 29,
   "metadata": {},
   "outputs": [
    {
     "data": {
      "text/latex": [
       "$\\displaystyle p_{2} + 2 q_{1} + q_{2} - 2 z_{2 3} - 1$"
      ],
      "text/plain": [
       "p_2 + 2*q_1 + q_2 - 2*z_2_3 - 1"
      ]
     },
     "metadata": {},
     "output_type": "display_data"
    },
    {
     "name": "stdout",
     "output_type": "stream",
     "text": [
      "The number of pq variables: 3\n"
     ]
    },
    {
     "data": {
      "text/latex": [
       "$\\displaystyle p_{2} q_{1} + p_{3} + q_{1} q_{2} + q_{3} + z_{2 3} - 2 z_{3 4} - 4 z_{3 5} - 1$"
      ],
      "text/plain": [
       "p_2*q_1 + p_3 + q_1*q_2 + q_3 + z_2_3 - 2*z_3_4 - 4*z_3_5 - 1"
      ]
     },
     "metadata": {},
     "output_type": "display_data"
    },
    {
     "name": "stdout",
     "output_type": "stream",
     "text": [
      "The number of pq variables: 5\n"
     ]
    },
    {
     "data": {
      "text/latex": [
       "$\\displaystyle p_{2} q_{2} + p_{3} q_{1} + p_{4} + q_{1} q_{3} + z_{3 4} - 2 z_{4 5} - 4 z_{4 6}$"
      ],
      "text/plain": [
       "p_2*q_2 + p_3*q_1 + p_4 + q_1*q_3 + z_3_4 - 2*z_4_5 - 4*z_4_6"
      ]
     },
     "metadata": {},
     "output_type": "display_data"
    },
    {
     "name": "stdout",
     "output_type": "stream",
     "text": [
      "The number of pq variables: 6\n"
     ]
    },
    {
     "data": {
      "text/latex": [
       "$\\displaystyle p_{2} q_{3} + p_{3} q_{2} + p_{4} q_{1} + p_{5} + z_{3 5} + z_{4 5} - 2 z_{5 6}$"
      ],
      "text/plain": [
       "p_2*q_3 + p_3*q_2 + p_4*q_1 + p_5 + z_3_5 + z_4_5 - 2*z_5_6"
      ]
     },
     "metadata": {},
     "output_type": "display_data"
    },
    {
     "name": "stdout",
     "output_type": "stream",
     "text": [
      "The number of pq variables: 7\n"
     ]
    },
    {
     "data": {
      "text/latex": [
       "$\\displaystyle p_{3} q_{3} + p_{4} q_{2} + p_{5} q_{1} + p_{6} + z_{4 6} + z_{5 6} - 1$"
      ],
      "text/plain": [
       "p_3*q_3 + p_4*q_2 + p_5*q_1 + p_6 + z_4_6 + z_5_6 - 1"
      ]
     },
     "metadata": {},
     "output_type": "display_data"
    },
    {
     "name": "stdout",
     "output_type": "stream",
     "text": [
      "The number of pq variables: 7\n"
     ]
    },
    {
     "data": {
      "text/latex": [
       "$\\displaystyle p_{4} q_{3} + p_{5} q_{2} + p_{6} q_{1}$"
      ],
      "text/plain": [
       "p_4*q_3 + p_5*q_2 + p_6*q_1"
      ]
     },
     "metadata": {},
     "output_type": "display_data"
    },
    {
     "name": "stdout",
     "output_type": "stream",
     "text": [
      "The number of pq variables: 6\n"
     ]
    },
    {
     "data": {
      "text/latex": [
       "$\\displaystyle p_{5} q_{3} + p_{6} q_{2}$"
      ],
      "text/plain": [
       "p_5*q_3 + p_6*q_2"
      ]
     },
     "metadata": {},
     "output_type": "display_data"
    },
    {
     "name": "stdout",
     "output_type": "stream",
     "text": [
      "The number of pq variables: 4\n"
     ]
    },
    {
     "data": {
      "text/latex": [
       "$\\displaystyle p_{6} q_{3}$"
      ],
      "text/plain": [
       "p_6*q_3"
      ]
     },
     "metadata": {},
     "output_type": "display_data"
    },
    {
     "name": "stdout",
     "output_type": "stream",
     "text": [
      "The number of pq variables: 2\n"
     ]
    }
   ],
   "source": [
    "for c in vqf.selected_clauses:\n",
    "    display(c.clause)\n",
    "    print(f\"The number of pq variables: {len(c.pq_part.free_symbols)}\")"
   ]
  },
  {
   "attachments": {},
   "cell_type": "markdown",
   "metadata": {},
   "source": [
    "## The Generated superposition Tables"
   ]
  },
  {
   "cell_type": "code",
   "execution_count": 30,
   "metadata": {},
   "outputs": [
    {
     "name": "stdout",
     "output_type": "stream",
     "text": [
      "p_2 + 2*q_1 + q_2 - 2*z_2_3 - 1\n",
      "   q_1  q_2  p_2\n",
      "0    0    0    1\n",
      "1    0    1    0\n",
      "2    1    0    1\n",
      "3    1    1    0\n",
      "Compression Ratio: -1.0\n",
      "---------------------------------------\n",
      "p_6*q_3\n",
      "   p_6  q_3\n",
      "0    0    0\n",
      "1    0    1\n",
      "2    1    0\n",
      "Compression Ratio: -0.4150374992788439\n",
      "---------------------------------------\n"
     ]
    }
   ],
   "source": [
    "from src.clause_utils import get_key_by_value\n",
    "\n",
    "superposition_tables = vqf.superposition_tables\n",
    "for t in superposition_tables:\n",
    "    c = get_key_by_value(vqf.table_clause_dict, t)\n",
    "    print(c.clause)\n",
    "    print(t.table)\n",
    "    print(f\"Compression Ratio: {t.calc_r()}\")\n",
    "    print(\"---------------------------------------\")"
   ]
  },
  {
   "cell_type": "code",
   "execution_count": 31,
   "metadata": {},
   "outputs": [
    {
     "data": {
      "text/html": [
       "<div>\n",
       "<style scoped>\n",
       "    .dataframe tbody tr th:only-of-type {\n",
       "        vertical-align: middle;\n",
       "    }\n",
       "\n",
       "    .dataframe tbody tr th {\n",
       "        vertical-align: top;\n",
       "    }\n",
       "\n",
       "    .dataframe thead th {\n",
       "        text-align: right;\n",
       "    }\n",
       "</style>\n",
       "<table border=\"1\" class=\"dataframe\">\n",
       "  <thead>\n",
       "    <tr style=\"text-align: right;\">\n",
       "      <th></th>\n",
       "      <th>q_1</th>\n",
       "      <th>q_2</th>\n",
       "      <th>p_2</th>\n",
       "    </tr>\n",
       "  </thead>\n",
       "  <tbody>\n",
       "    <tr>\n",
       "      <th>0</th>\n",
       "      <td>0</td>\n",
       "      <td>0</td>\n",
       "      <td>1</td>\n",
       "    </tr>\n",
       "    <tr>\n",
       "      <th>1</th>\n",
       "      <td>0</td>\n",
       "      <td>1</td>\n",
       "      <td>0</td>\n",
       "    </tr>\n",
       "    <tr>\n",
       "      <th>2</th>\n",
       "      <td>1</td>\n",
       "      <td>0</td>\n",
       "      <td>1</td>\n",
       "    </tr>\n",
       "    <tr>\n",
       "      <th>3</th>\n",
       "      <td>1</td>\n",
       "      <td>1</td>\n",
       "      <td>0</td>\n",
       "    </tr>\n",
       "  </tbody>\n",
       "</table>\n",
       "</div>"
      ],
      "text/plain": [
       "   q_1  q_2  p_2\n",
       "0    0    0    1\n",
       "1    0    1    0\n",
       "2    1    0    1\n",
       "3    1    1    0"
      ]
     },
     "metadata": {},
     "output_type": "display_data"
    }
   ],
   "source": [
    "table = superposition_tables[0]\n",
    "display(table.table)"
   ]
  },
  {
   "cell_type": "code",
   "execution_count": 32,
   "metadata": {},
   "outputs": [
    {
     "data": {
      "text/latex": [
       "$$\n",
       "\n",
       "\\begin{bmatrix}\n",
       "0 & \\frac{1}{2} & \\frac{1}{2} & 0 & 0 & \\frac{1}{2} & \\frac{1}{2} & 0  \\\\\n",
       " \\end{bmatrix}\n",
       "$$"
      ],
      "text/plain": [
       "<IPython.core.display.Latex object>"
      ]
     },
     "execution_count": 32,
     "metadata": {},
     "output_type": "execute_result"
    }
   ],
   "source": [
    "from qiskit.visualization import array_to_latex\n",
    "\n",
    "desired_state = table.get_init_state()\n",
    "array_to_latex(desired_state)"
   ]
  },
  {
   "cell_type": "code",
   "execution_count": 33,
   "metadata": {},
   "outputs": [
    {
     "data": {
      "text/plain": [
       "(array([1, 2, 5, 6], dtype=int64),)"
      ]
     },
     "execution_count": 33,
     "metadata": {},
     "output_type": "execute_result"
    }
   ],
   "source": [
    "import numpy as np\n",
    "\n",
    "np.nonzero(desired_state)"
   ]
  },
  {
   "cell_type": "code",
   "execution_count": 34,
   "metadata": {},
   "outputs": [
    {
     "data": {
      "image/png": "[encoded data removed]",
      "text/plain": [
       "<Figure size 385.934x284.278 with 1 Axes>"
      ]
     },
     "execution_count": 34,
     "metadata": {},
     "output_type": "execute_result"
    }
   ],
   "source": [
    "from qiskit import QuantumCircuit, QuantumRegister\n",
    "\n",
    "bits = list(table.table.columns)[::-1]\n",
    "\n",
    "q_regs = []\n",
    "for i in range(len(bits)):\n",
    "    q_regs.append(QuantumRegister(1, bits[i]))\n",
    "\n",
    "qc = QuantumCircuit(*q_regs)\n",
    "qc.initialize(desired_state, range(len(q_regs)))\n",
    "qc.draw(output=\"mpl\")"
   ]
  },
  {
   "cell_type": "code",
   "execution_count": 35,
   "metadata": {},
   "outputs": [],
   "source": [
    "from qiskit import transpile\n",
    "\n",
    "basis = [\"cx\", \"h\", \"x\", \"rz\", \"sx\"]\n",
    "transpiled_qc = transpile(qc, basis_gates=basis, optimization_level=3)\n",
    "# Draw the transpiled circuit\n",
    "# transpiled_qc.draw(output='mpl')"
   ]
  },
  {
   "cell_type": "code",
   "execution_count": 36,
   "metadata": {},
   "outputs": [
    {
     "name": "stdout",
     "output_type": "stream",
     "text": [
      "\\documentclass[border=2px]{standalone}\n",
      "\n",
      "\\usepackage[braket, qm]{qcircuit}\n",
      "\\usepackage{graphicx}\n",
      "\n",
      "\\begin{document}\n",
      "\\scalebox{1.0}{{$\\mathrm{global\\,phase:\\,} \\mathrm{\\pi}$}\n",
      "\\Qcircuit @C=1.0em @R=0.2em @!R { \\\\\n",
      "\t \t\\nghost{{p\\_2} :  } & \\lstick{{p\\_2} :  } & \\gate{\\mathrm{R_Z}\\,(\\mathrm{\\frac{-\\pi}{2}})} & \\gate{\\mathrm{\\sqrt{X}}} & \\gate{\\mathrm{R_Z}\\,(\\mathrm{\\frac{\\pi}{2}})} & \\targ & \\gate{\\mathrm{R_Z}\\,(\\mathrm{\\frac{-\\pi}{2}})} & \\gate{\\mathrm{\\sqrt{X}}} & \\gate{\\mathrm{R_Z}\\,(\\mathrm{\\frac{\\pi}{2}})} & \\targ & \\qw & \\qw\\\\\n",
      "\t \t\\nghost{{q\\_2} :  } & \\lstick{{q\\_2} :  } & \\gate{\\mathrm{R_Z}\\,(\\mathrm{\\frac{-\\pi}{2}})} & \\gate{\\mathrm{\\sqrt{X}}} & \\gate{\\mathrm{R_Z}\\,(\\mathrm{\\frac{\\pi}{2}})} & \\ctrl{-1} & \\qw & \\qw & \\qw & \\ctrl{-1} & \\qw & \\qw\\\\\n",
      "\t \t\\nghost{{q\\_1} :  } & \\lstick{{q\\_1} :  } & \\gate{\\mathrm{R_Z}\\,(\\mathrm{\\frac{-\\pi}{2}})} & \\gate{\\mathrm{\\sqrt{X}}} & \\gate{\\mathrm{R_Z}\\,(\\mathrm{\\frac{\\pi}{2}})} & \\qw & \\qw & \\qw & \\qw & \\qw & \\qw & \\qw\\\\\n",
      "\\\\ }}\n",
      "\\end{document}\n"
     ]
    }
   ],
   "source": [
    "print(transpiled_qc.draw(\"latex_source\"))"
   ]
  },
  {
   "cell_type": "code",
   "execution_count": 37,
   "metadata": {},
   "outputs": [
    {
     "name": "stdout",
     "output_type": "stream",
     "text": [
      "Gate Counts: OrderedDict([('rz', 8), ('sx', 4), ('cx', 2)])\n"
     ]
    }
   ],
   "source": [
    "# Count the gates in the circuit\n",
    "gate_counts = transpiled_qc.count_ops()\n",
    "\n",
    "# Print the gate counts\n",
    "print(\"Gate Counts:\", gate_counts)"
   ]
  },
  {
   "cell_type": "code",
   "execution_count": 38,
   "metadata": {},
   "outputs": [
    {
     "data": {
      "text/latex": [
       "$$\n",
       "\n",
       "\\begin{bmatrix}\n",
       "0 & \\frac{1}{2} & \\frac{1}{2} & 0 & 0 & \\frac{1}{2} & \\frac{1}{2} & 0  \\\\\n",
       " \\end{bmatrix}\n",
       "$$"
      ],
      "text/plain": [
       "<IPython.core.display.Latex object>"
      ]
     },
     "execution_count": 38,
     "metadata": {},
     "output_type": "execute_result"
    }
   ],
   "source": [
    "from src.clause_utils import statevector\n",
    "\n",
    "output_state = statevector(transpiled_qc)\n",
    "array_to_latex(output_state)"
   ]
  },
  {
   "cell_type": "code",
   "execution_count": 39,
   "metadata": {},
   "outputs": [
    {
     "name": "stdout",
     "output_type": "stream",
     "text": [
      "Fidelity: 1.0\n"
     ]
    }
   ],
   "source": [
    "from qiskit.quantum_info import state_fidelity\n",
    "\n",
    "fid = state_fidelity(desired_state, output_state)\n",
    "print(f\"Fidelity: {round(fid,5)}\")"
   ]
  },
  {
   "cell_type": "code",
   "execution_count": 40,
   "metadata": {},
   "outputs": [
    {
     "data": {
      "text/html": [
       "<div>\n",
       "<style scoped>\n",
       "    .dataframe tbody tr th:only-of-type {\n",
       "        vertical-align: middle;\n",
       "    }\n",
       "\n",
       "    .dataframe tbody tr th {\n",
       "        vertical-align: top;\n",
       "    }\n",
       "\n",
       "    .dataframe thead th {\n",
       "        text-align: right;\n",
       "    }\n",
       "</style>\n",
       "<table border=\"1\" class=\"dataframe\">\n",
       "  <thead>\n",
       "    <tr style=\"text-align: right;\">\n",
       "      <th></th>\n",
       "      <th>p_6</th>\n",
       "      <th>q_3</th>\n",
       "    </tr>\n",
       "  </thead>\n",
       "  <tbody>\n",
       "    <tr>\n",
       "      <th>0</th>\n",
       "      <td>0</td>\n",
       "      <td>0</td>\n",
       "    </tr>\n",
       "    <tr>\n",
       "      <th>1</th>\n",
       "      <td>0</td>\n",
       "      <td>1</td>\n",
       "    </tr>\n",
       "    <tr>\n",
       "      <th>2</th>\n",
       "      <td>1</td>\n",
       "      <td>0</td>\n",
       "    </tr>\n",
       "  </tbody>\n",
       "</table>\n",
       "</div>"
      ],
      "text/plain": [
       "   p_6  q_3\n",
       "0    0    0\n",
       "1    0    1\n",
       "2    1    0"
      ]
     },
     "metadata": {},
     "output_type": "display_data"
    }
   ],
   "source": [
    "table = superposition_tables[1]\n",
    "display(table.table)"
   ]
  },
  {
   "cell_type": "code",
   "execution_count": 41,
   "metadata": {},
   "outputs": [
    {
     "data": {
      "text/latex": [
       "$$\n",
       "\n",
       "\\begin{bmatrix}\n",
       "\\frac{\\sqrt{3}}{3} & \\frac{\\sqrt{3}}{3} & \\frac{\\sqrt{3}}{3} & 0  \\\\\n",
       " \\end{bmatrix}\n",
       "$$"
      ],
      "text/plain": [
       "<IPython.core.display.Latex object>"
      ]
     },
     "execution_count": 41,
     "metadata": {},
     "output_type": "execute_result"
    }
   ],
   "source": [
    "from qiskit.visualization import array_to_latex\n",
    "\n",
    "desired_state = table.get_init_state()\n",
    "array_to_latex(desired_state)"
   ]
  },
  {
   "cell_type": "code",
   "execution_count": 42,
   "metadata": {},
   "outputs": [
    {
     "data": {
      "text/plain": [
       "(array([0, 1, 2], dtype=int64),)"
      ]
     },
     "execution_count": 42,
     "metadata": {},
     "output_type": "execute_result"
    }
   ],
   "source": [
    "import numpy as np\n",
    "\n",
    "np.nonzero(desired_state)"
   ]
  },
  {
   "cell_type": "code",
   "execution_count": 43,
   "metadata": {},
   "outputs": [
    {
     "data": {
      "image/png": "[encoded data removed]",
      "text/plain": [
       "<Figure size 385.732x200.667 with 1 Axes>"
      ]
     },
     "execution_count": 43,
     "metadata": {},
     "output_type": "execute_result"
    }
   ],
   "source": [
    "from qiskit import QuantumCircuit, QuantumRegister\n",
    "\n",
    "bits = list(table.table.columns)[::-1]\n",
    "\n",
    "q_regs = []\n",
    "for i in range(len(bits)):\n",
    "    q_regs.append(QuantumRegister(1, bits[i]))\n",
    "\n",
    "qc = QuantumCircuit(*q_regs)\n",
    "qc.initialize(desired_state, range(len(q_regs)))\n",
    "qc.draw(output=\"mpl\")"
   ]
  },
  {
   "cell_type": "code",
   "execution_count": 44,
   "metadata": {},
   "outputs": [],
   "source": [
    "from qiskit import transpile\n",
    "\n",
    "basis = [\"cx\", \"h\", \"x\", \"rz\", \"sx\"]\n",
    "transpiled_qc = transpile(qc, basis_gates=basis, optimization_level=3)\n",
    "# Draw the transpiled circuit\n",
    "# transpiled_qc.draw(output='mpl')"
   ]
  },
  {
   "cell_type": "code",
   "execution_count": 45,
   "metadata": {},
   "outputs": [
    {
     "name": "stdout",
     "output_type": "stream",
     "text": [
      "\\documentclass[border=2px]{standalone}\n",
      "\n",
      "\\usepackage[braket, qm]{qcircuit}\n",
      "\\usepackage{graphicx}\n",
      "\n",
      "\\begin{document}\n",
      "\\scalebox{1.0}{{$\\mathrm{global\\,phase:\\,} \\mathrm{\\frac{\\pi}{2}}$}\n",
      "\\Qcircuit @C=1.0em @R=0.2em @!R { \\\\\n",
      "\t \t\\nghost{{q\\_3} :  } & \\lstick{{q\\_3} :  } & \\gate{\\mathrm{R_Z}\\,(\\mathrm{-\\pi})} & \\gate{\\mathrm{\\sqrt{X}}} & \\gate{\\mathrm{R_Z}\\,(\\mathrm{\\frac{3\\pi}{4}})} & \\gate{\\mathrm{\\sqrt{X}}} & \\targ & \\gate{\\mathrm{R_Z}\\,(\\mathrm{-\\pi})} & \\gate{\\mathrm{\\sqrt{X}}} & \\gate{\\mathrm{R_Z}\\,(\\mathrm{\\frac{3\\pi}{4}})} & \\gate{\\mathrm{\\sqrt{X}}} & \\targ & \\qw & \\qw\\\\\n",
      "\t \t\\nghost{{p\\_6} :  } & \\lstick{{p\\_6} :  } & \\gate{\\mathrm{R_Z}\\,(\\mathrm{-\\pi})} & \\gate{\\mathrm{\\sqrt{X}}} & \\gate{\\mathrm{R_Z}\\,(\\mathrm{1.911})} & \\gate{\\mathrm{\\sqrt{X}}} & \\ctrl{-1} & \\qw & \\qw & \\qw & \\qw & \\ctrl{-1} & \\qw & \\qw\\\\\n",
      "\\\\ }}\n",
      "\\end{document}\n"
     ]
    }
   ],
   "source": [
    "print(transpiled_qc.draw(\"latex_source\"))"
   ]
  },
  {
   "cell_type": "code",
   "execution_count": 46,
   "metadata": {},
   "outputs": [
    {
     "name": "stdout",
     "output_type": "stream",
     "text": [
      "Gate Counts: OrderedDict([('rz', 6), ('sx', 6), ('cx', 2)])\n"
     ]
    }
   ],
   "source": [
    "# Count the gates in the circuit\n",
    "gate_counts = transpiled_qc.count_ops()\n",
    "\n",
    "# Print the gate counts\n",
    "print(\"Gate Counts:\", gate_counts)"
   ]
  },
  {
   "cell_type": "code",
   "execution_count": 47,
   "metadata": {},
   "outputs": [
    {
     "data": {
      "text/latex": [
       "$$\n",
       "\n",
       "\\begin{bmatrix}\n",
       "\\frac{\\sqrt{3}}{3} & \\frac{\\sqrt{3}}{3} & \\frac{\\sqrt{3}}{3} & 0  \\\\\n",
       " \\end{bmatrix}\n",
       "$$"
      ],
      "text/plain": [
       "<IPython.core.display.Latex object>"
      ]
     },
     "execution_count": 47,
     "metadata": {},
     "output_type": "execute_result"
    }
   ],
   "source": [
    "output_state = statevector(transpiled_qc)\n",
    "array_to_latex(output_state)"
   ]
  },
  {
   "cell_type": "code",
   "execution_count": 48,
   "metadata": {},
   "outputs": [
    {
     "name": "stdout",
     "output_type": "stream",
     "text": [
      "Fidelity: 1.0\n"
     ]
    }
   ],
   "source": [
    "from qiskit.quantum_info import state_fidelity\n",
    "\n",
    "fid = state_fidelity(desired_state, output_state)\n",
    "print(f\"Fidelity: {round(fid,5)}\")"
   ]
  },
  {
   "cell_type": "code",
   "execution_count": null,
   "metadata": {},
   "outputs": [],
   "source": []
  }
 ],
 "metadata": {
  "kernelspec": {
   "display_name": ".venv",
   "language": "python",
   "name": "python3"
  },
  "language_info": {
   "codemirror_mode": {
    "name": "ipython",
    "version": 3
   },
   "file_extension": ".py",
   "mimetype": "text/x-python",
   "name": "python",
   "nbconvert_exporter": "python",
   "pygments_lexer": "ipython3",
   "version": "3.11.4"
  },
  "orig_nbformat": 4
 },
 "nbformat": 4,
 "nbformat_minor": 2
}
