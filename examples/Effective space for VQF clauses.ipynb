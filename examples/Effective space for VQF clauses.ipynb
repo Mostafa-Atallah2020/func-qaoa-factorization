{
 "cells": [
  {
   "cell_type": "code",
   "execution_count": 48,
   "metadata": {},
   "outputs": [
    {
     "name": "stdout",
     "output_type": "stream",
     "text": [
      "The autoreload extension is already loaded. To reload it, use:\n",
      "  %reload_ext autoreload\n"
     ]
    }
   ],
   "source": [
    "%load_ext autoreload\n",
    "%autoreload 2"
   ]
  },
  {
   "cell_type": "code",
   "execution_count": 49,
   "metadata": {},
   "outputs": [],
   "source": [
    "from vqf.preprocessing import create_clauses\n",
    "from IPython.display import display\n",
    "import sys\n",
    "\n",
    "import warnings\n",
    "\n",
    "warnings.filterwarnings(\"ignore\")\n",
    "\n",
    "sys.path.append(f\"./../\")\n",
    "from src import SpaceEfficientVQF"
   ]
  },
  {
   "cell_type": "code",
   "execution_count": 50,
   "metadata": {},
   "outputs": [],
   "source": [
    "# p = 5\n",
    "# q = 3\n",
    "\n",
    "# p = 31\n",
    "# q = 23\n",
    "\n",
    "# p = 11\n",
    "# q = 7\n",
    "\n",
    "p = 241\n",
    "q = 233\n",
    "\n",
    "# p = 13\n",
    "# q = 11\n",
    "\n",
    "# p = 557\n",
    "# q = 523\n",
    "\n",
    "m = p * q"
   ]
  },
  {
   "cell_type": "code",
   "execution_count": 51,
   "metadata": {},
   "outputs": [
    {
     "data": {
      "text/latex": [
       "$\\displaystyle 0$"
      ],
      "text/plain": [
       "0"
      ]
     },
     "metadata": {},
     "output_type": "display_data"
    },
    {
     "data": {
      "text/latex": [
       "$\\displaystyle 0$"
      ],
      "text/plain": [
       "0"
      ]
     },
     "metadata": {},
     "output_type": "display_data"
    },
    {
     "data": {
      "text/latex": [
       "$\\displaystyle q_{1} + q_{2} - z_{2 3} - 2 z_{2 4}$"
      ],
      "text/plain": [
       "q_1 + q_2 - z_2_3 - 2*z_2_4"
      ]
     },
     "metadata": {},
     "output_type": "display_data"
    },
    {
     "data": {
      "text/latex": [
       "$\\displaystyle p_{3} + 2 q_{1} q_{2} + q_{3} + z_{2 3} - 2 z_{3 4} - 4 z_{3 5} - 1$"
      ],
      "text/plain": [
       "p_3 + 2*q_1*q_2 + q_3 + z_2_3 - 2*z_3_4 - 4*z_3_5 - 1"
      ]
     },
     "metadata": {},
     "output_type": "display_data"
    },
    {
     "data": {
      "text/latex": [
       "$\\displaystyle p_{3} q_{1} + p_{4} + q_{1} q_{3} + q_{2} + q_{4} + z_{2 4} + z_{3 4} - 2 z_{4 5} - 4 z_{4 6} - 1$"
      ],
      "text/plain": [
       "p_3*q_1 + p_4 + q_1*q_3 + q_2 + q_4 + z_2_4 + z_3_4 - 2*z_4_5 - 4*z_4_6 - 1"
      ]
     },
     "metadata": {},
     "output_type": "display_data"
    },
    {
     "data": {
      "text/latex": [
       "$\\displaystyle p_{3} q_{2} + p_{4} q_{1} + p_{5} + q_{1} q_{4} + q_{2} q_{3} + q_{5} + z_{3 5} + z_{4 5} - 2 z_{5 6} - 4 z_{5 7} - 8 z_{5 8}$"
      ],
      "text/plain": [
       "p_3*q_2 + p_4*q_1 + p_5 + q_1*q_4 + q_2*q_3 + q_5 + z_3_5 + z_4_5 - 2*z_5_6 - 4*z_5_7 - 8*z_5_8"
      ]
     },
     "metadata": {},
     "output_type": "display_data"
    },
    {
     "data": {
      "text/latex": [
       "$\\displaystyle p_{3} q_{3} + p_{4} q_{2} + p_{5} q_{1} + p_{6} + q_{1} q_{5} + q_{2} q_{4} + q_{6} + z_{4 6} + z_{5 6} - 2 z_{6 7} - 4 z_{6 8} - 8 z_{6 9} - 1$"
      ],
      "text/plain": [
       "p_3*q_3 + p_4*q_2 + p_5*q_1 + p_6 + q_1*q_5 + q_2*q_4 + q_6 + z_4_6 + z_5_6 - 2*z_6_7 - 4*z_6_8 - 8*z_6_9 - 1"
      ]
     },
     "metadata": {},
     "output_type": "display_data"
    },
    {
     "data": {
      "text/latex": [
       "$\\displaystyle p_{3} q_{4} + p_{4} q_{3} + p_{5} q_{2} + p_{6} q_{1} + p_{7} + q_{1} q_{6} + q_{2} q_{5} + q_{7} + z_{5 7} + z_{6 7} - 8 z_{7 10} - 2 z_{7 8} - 4 z_{7 9}$"
      ],
      "text/plain": [
       "p_3*q_4 + p_4*q_3 + p_5*q_2 + p_6*q_1 + p_7 + q_1*q_6 + q_2*q_5 + q_7 + z_5_7 + z_6_7 - 8*z_7_10 - 2*z_7_8 - 4*z_7_9"
      ]
     },
     "metadata": {},
     "output_type": "display_data"
    },
    {
     "data": {
      "text/latex": [
       "$\\displaystyle p_{3} q_{5} + p_{4} q_{4} + p_{5} q_{3} + p_{6} q_{2} + p_{7} q_{1} + p_{8} + q_{1} q_{7} + q_{2} q_{6} + z_{5 8} + z_{6 8} + z_{7 8} - 4 z_{8 10} - 8 z_{8 11} - 2 z_{8 9} - 1$"
      ],
      "text/plain": [
       "p_3*q_5 + p_4*q_4 + p_5*q_3 + p_6*q_2 + p_7*q_1 + p_8 + q_1*q_7 + q_2*q_6 + z_5_8 + z_6_8 + z_7_8 - 4*z_8_10 - 8*z_8_11 - 2*z_8_9 - 1"
      ]
     },
     "metadata": {},
     "output_type": "display_data"
    },
    {
     "data": {
      "text/latex": [
       "$\\displaystyle p_{3} q_{6} + p_{4} q_{5} + p_{5} q_{4} + p_{6} q_{3} + p_{7} q_{2} + p_{8} q_{1} + p_{9} + q_{2} q_{7} + z_{6 9} + z_{7 9} + z_{8 9} - 2 z_{9 10} - 4 z_{9 11} - 8 z_{9 12} - 1$"
      ],
      "text/plain": [
       "p_3*q_6 + p_4*q_5 + p_5*q_4 + p_6*q_3 + p_7*q_2 + p_8*q_1 + p_9 + q_2*q_7 + z_6_9 + z_7_9 + z_8_9 - 2*z_9_10 - 4*z_9_11 - 8*z_9_12 - 1"
      ]
     },
     "metadata": {},
     "output_type": "display_data"
    },
    {
     "data": {
      "text/latex": [
       "$\\displaystyle p_{10} + p_{3} q_{7} + p_{4} q_{6} + p_{5} q_{5} + p_{6} q_{4} + p_{7} q_{3} + p_{8} q_{2} + p_{9} q_{1} - 2 z_{10 11} - 4 z_{10 12} - 8 z_{10 13} + z_{7 10} + z_{8 10} + z_{9 10}$"
      ],
      "text/plain": [
       "p_10 + p_3*q_7 + p_4*q_6 + p_5*q_5 + p_6*q_4 + p_7*q_3 + p_8*q_2 + p_9*q_1 - 2*z_10_11 - 4*z_10_12 - 8*z_10_13 + z_7_10 + z_8_10 + z_9_10"
      ]
     },
     "metadata": {},
     "output_type": "display_data"
    },
    {
     "data": {
      "text/latex": [
       "$\\displaystyle p_{10} q_{1} + p_{11} + p_{4} q_{7} + p_{5} q_{6} + p_{6} q_{5} + p_{7} q_{4} + p_{8} q_{3} + p_{9} q_{2} + z_{10 11} - 2 z_{11 12} - 4 z_{11 13} - 8 z_{11 14} + z_{8 11} + z_{9 11} - 1$"
      ],
      "text/plain": [
       "p_10*q_1 + p_11 + p_4*q_7 + p_5*q_6 + p_6*q_5 + p_7*q_4 + p_8*q_3 + p_9*q_2 + z_10_11 - 2*z_11_12 - 4*z_11_13 - 8*z_11_14 + z_8_11 + z_9_11 - 1"
      ]
     },
     "metadata": {},
     "output_type": "display_data"
    },
    {
     "data": {
      "text/latex": [
       "$\\displaystyle p_{10} q_{2} + p_{11} q_{1} + p_{12} + p_{5} q_{7} + p_{6} q_{6} + p_{7} q_{5} + p_{8} q_{4} + p_{9} q_{3} + z_{10 12} + z_{11 12} - 2 z_{12 13} - 4 z_{12 14} - 8 z_{12 15} + z_{9 12} - 1$"
      ],
      "text/plain": [
       "p_10*q_2 + p_11*q_1 + p_12 + p_5*q_7 + p_6*q_6 + p_7*q_5 + p_8*q_4 + p_9*q_3 + z_10_12 + z_11_12 - 2*z_12_13 - 4*z_12_14 - 8*z_12_15 + z_9_12 - 1"
      ]
     },
     "metadata": {},
     "output_type": "display_data"
    },
    {
     "data": {
      "text/latex": [
       "$\\displaystyle p_{10} q_{3} + p_{11} q_{2} + p_{12} q_{1} + p_{13} + p_{6} q_{7} + p_{7} q_{6} + p_{8} q_{5} + p_{9} q_{4} + z_{10 13} + z_{11 13} + z_{12 13} - 2 z_{13 14} - 4 z_{13 15}$"
      ],
      "text/plain": [
       "p_10*q_3 + p_11*q_2 + p_12*q_1 + p_13 + p_6*q_7 + p_7*q_6 + p_8*q_5 + p_9*q_4 + z_10_13 + z_11_13 + z_12_13 - 2*z_13_14 - 4*z_13_15"
      ]
     },
     "metadata": {},
     "output_type": "display_data"
    },
    {
     "data": {
      "text/latex": [
       "$\\displaystyle p_{10} q_{4} + p_{11} q_{3} + p_{12} q_{2} + p_{13} q_{1} + p_{14} + p_{7} q_{7} + p_{8} q_{6} + p_{9} q_{5} + z_{11 14} + z_{12 14} + z_{13 14} - 2 z_{14 15} - 1$"
      ],
      "text/plain": [
       "p_10*q_4 + p_11*q_3 + p_12*q_2 + p_13*q_1 + p_14 + p_7*q_7 + p_8*q_6 + p_9*q_5 + z_11_14 + z_12_14 + z_13_14 - 2*z_14_15 - 1"
      ]
     },
     "metadata": {},
     "output_type": "display_data"
    },
    {
     "data": {
      "text/latex": [
       "$\\displaystyle p_{10} q_{5} + p_{11} q_{4} + p_{12} q_{3} + p_{13} q_{2} + p_{14} q_{1} + p_{15} + p_{8} q_{7} + p_{9} q_{6} + z_{12 15} + z_{13 15} + z_{14 15} - 1$"
      ],
      "text/plain": [
       "p_10*q_5 + p_11*q_4 + p_12*q_3 + p_13*q_2 + p_14*q_1 + p_15 + p_8*q_7 + p_9*q_6 + z_12_15 + z_13_15 + z_14_15 - 1"
      ]
     },
     "metadata": {},
     "output_type": "display_data"
    },
    {
     "data": {
      "text/latex": [
       "$\\displaystyle p_{10} q_{6} + p_{11} q_{5} + p_{12} q_{4} + p_{13} q_{3} + p_{14} q_{2} + p_{15} q_{1} + p_{9} q_{7}$"
      ],
      "text/plain": [
       "p_10*q_6 + p_11*q_5 + p_12*q_4 + p_13*q_3 + p_14*q_2 + p_15*q_1 + p_9*q_7"
      ]
     },
     "metadata": {},
     "output_type": "display_data"
    },
    {
     "data": {
      "text/latex": [
       "$\\displaystyle p_{10} q_{7} + p_{11} q_{6} + p_{12} q_{5} + p_{13} q_{4} + p_{14} q_{3} + p_{15} q_{2}$"
      ],
      "text/plain": [
       "p_10*q_7 + p_11*q_6 + p_12*q_5 + p_13*q_4 + p_14*q_3 + p_15*q_2"
      ]
     },
     "metadata": {},
     "output_type": "display_data"
    },
    {
     "data": {
      "text/latex": [
       "$\\displaystyle p_{11} q_{7} + p_{12} q_{6} + p_{13} q_{5} + p_{14} q_{4} + p_{15} q_{3}$"
      ],
      "text/plain": [
       "p_11*q_7 + p_12*q_6 + p_13*q_5 + p_14*q_4 + p_15*q_3"
      ]
     },
     "metadata": {},
     "output_type": "display_data"
    },
    {
     "data": {
      "text/latex": [
       "$\\displaystyle p_{12} q_{7} + p_{13} q_{6} + p_{14} q_{5} + p_{15} q_{4}$"
      ],
      "text/plain": [
       "p_12*q_7 + p_13*q_6 + p_14*q_5 + p_15*q_4"
      ]
     },
     "metadata": {},
     "output_type": "display_data"
    },
    {
     "data": {
      "text/latex": [
       "$\\displaystyle p_{13} q_{7} + p_{14} q_{6} + p_{15} q_{5}$"
      ],
      "text/plain": [
       "p_13*q_7 + p_14*q_6 + p_15*q_5"
      ]
     },
     "metadata": {},
     "output_type": "display_data"
    },
    {
     "data": {
      "text/latex": [
       "$\\displaystyle p_{14} q_{7} + p_{15} q_{6}$"
      ],
      "text/plain": [
       "p_14*q_7 + p_15*q_6"
      ]
     },
     "metadata": {},
     "output_type": "display_data"
    },
    {
     "data": {
      "text/latex": [
       "$\\displaystyle p_{15} q_{7}$"
      ],
      "text/plain": [
       "p_15*q_7"
      ]
     },
     "metadata": {},
     "output_type": "display_data"
    }
   ],
   "source": [
    "vqf = SpaceEfficientVQF(m)\n",
    "simplified_clauses = vqf.simplified_clauses\n",
    "for c in simplified_clauses:\n",
    "    display(c)"
   ]
  },
  {
   "cell_type": "code",
   "execution_count": 52,
   "metadata": {},
   "outputs": [
    {
     "data": {
      "text/html": [
       "<div>\n",
       "<style scoped>\n",
       "    .dataframe tbody tr th:only-of-type {\n",
       "        vertical-align: middle;\n",
       "    }\n",
       "\n",
       "    .dataframe tbody tr th {\n",
       "        vertical-align: top;\n",
       "    }\n",
       "\n",
       "    .dataframe thead th {\n",
       "        text-align: right;\n",
       "    }\n",
       "</style>\n",
       "<table border=\"1\" class=\"dataframe\">\n",
       "  <thead>\n",
       "    <tr style=\"text-align: right;\">\n",
       "      <th></th>\n",
       "      <th>q_1</th>\n",
       "      <th>q_2</th>\n",
       "      <th>q_3</th>\n",
       "      <th>q_4</th>\n",
       "      <th>p_15</th>\n",
       "      <th>p_14</th>\n",
       "      <th>p_13</th>\n",
       "      <th>p_12</th>\n",
       "      <th>p_9</th>\n",
       "      <th>p_11</th>\n",
       "      <th>q_5</th>\n",
       "      <th>q_6</th>\n",
       "      <th>q_7</th>\n",
       "      <th>p_10</th>\n",
       "    </tr>\n",
       "  </thead>\n",
       "  <tbody>\n",
       "    <tr>\n",
       "      <th>0</th>\n",
       "      <td>0</td>\n",
       "      <td>0</td>\n",
       "      <td>0</td>\n",
       "      <td>0</td>\n",
       "      <td>0</td>\n",
       "      <td>0</td>\n",
       "      <td>0</td>\n",
       "      <td>0</td>\n",
       "      <td>0</td>\n",
       "      <td>0</td>\n",
       "      <td>0</td>\n",
       "      <td>0</td>\n",
       "      <td>0</td>\n",
       "      <td>0</td>\n",
       "    </tr>\n",
       "    <tr>\n",
       "      <th>1</th>\n",
       "      <td>0</td>\n",
       "      <td>0</td>\n",
       "      <td>0</td>\n",
       "      <td>0</td>\n",
       "      <td>0</td>\n",
       "      <td>0</td>\n",
       "      <td>0</td>\n",
       "      <td>0</td>\n",
       "      <td>0</td>\n",
       "      <td>0</td>\n",
       "      <td>0</td>\n",
       "      <td>0</td>\n",
       "      <td>0</td>\n",
       "      <td>1</td>\n",
       "    </tr>\n",
       "    <tr>\n",
       "      <th>2</th>\n",
       "      <td>0</td>\n",
       "      <td>0</td>\n",
       "      <td>0</td>\n",
       "      <td>0</td>\n",
       "      <td>0</td>\n",
       "      <td>0</td>\n",
       "      <td>0</td>\n",
       "      <td>0</td>\n",
       "      <td>0</td>\n",
       "      <td>0</td>\n",
       "      <td>0</td>\n",
       "      <td>0</td>\n",
       "      <td>1</td>\n",
       "      <td>0</td>\n",
       "    </tr>\n",
       "    <tr>\n",
       "      <th>3</th>\n",
       "      <td>0</td>\n",
       "      <td>0</td>\n",
       "      <td>0</td>\n",
       "      <td>0</td>\n",
       "      <td>0</td>\n",
       "      <td>0</td>\n",
       "      <td>0</td>\n",
       "      <td>0</td>\n",
       "      <td>0</td>\n",
       "      <td>0</td>\n",
       "      <td>0</td>\n",
       "      <td>0</td>\n",
       "      <td>1</td>\n",
       "      <td>1</td>\n",
       "    </tr>\n",
       "    <tr>\n",
       "      <th>4</th>\n",
       "      <td>0</td>\n",
       "      <td>0</td>\n",
       "      <td>0</td>\n",
       "      <td>0</td>\n",
       "      <td>0</td>\n",
       "      <td>0</td>\n",
       "      <td>0</td>\n",
       "      <td>0</td>\n",
       "      <td>0</td>\n",
       "      <td>0</td>\n",
       "      <td>0</td>\n",
       "      <td>1</td>\n",
       "      <td>0</td>\n",
       "      <td>0</td>\n",
       "    </tr>\n",
       "    <tr>\n",
       "      <th>...</th>\n",
       "      <td>...</td>\n",
       "      <td>...</td>\n",
       "      <td>...</td>\n",
       "      <td>...</td>\n",
       "      <td>...</td>\n",
       "      <td>...</td>\n",
       "      <td>...</td>\n",
       "      <td>...</td>\n",
       "      <td>...</td>\n",
       "      <td>...</td>\n",
       "      <td>...</td>\n",
       "      <td>...</td>\n",
       "      <td>...</td>\n",
       "      <td>...</td>\n",
       "    </tr>\n",
       "    <tr>\n",
       "      <th>2182</th>\n",
       "      <td>1</td>\n",
       "      <td>1</td>\n",
       "      <td>1</td>\n",
       "      <td>1</td>\n",
       "      <td>0</td>\n",
       "      <td>0</td>\n",
       "      <td>0</td>\n",
       "      <td>0</td>\n",
       "      <td>1</td>\n",
       "      <td>0</td>\n",
       "      <td>1</td>\n",
       "      <td>0</td>\n",
       "      <td>0</td>\n",
       "      <td>1</td>\n",
       "    </tr>\n",
       "    <tr>\n",
       "      <th>2183</th>\n",
       "      <td>1</td>\n",
       "      <td>1</td>\n",
       "      <td>1</td>\n",
       "      <td>1</td>\n",
       "      <td>0</td>\n",
       "      <td>0</td>\n",
       "      <td>0</td>\n",
       "      <td>0</td>\n",
       "      <td>1</td>\n",
       "      <td>0</td>\n",
       "      <td>1</td>\n",
       "      <td>1</td>\n",
       "      <td>0</td>\n",
       "      <td>0</td>\n",
       "    </tr>\n",
       "    <tr>\n",
       "      <th>2184</th>\n",
       "      <td>1</td>\n",
       "      <td>1</td>\n",
       "      <td>1</td>\n",
       "      <td>1</td>\n",
       "      <td>0</td>\n",
       "      <td>0</td>\n",
       "      <td>0</td>\n",
       "      <td>0</td>\n",
       "      <td>1</td>\n",
       "      <td>1</td>\n",
       "      <td>0</td>\n",
       "      <td>0</td>\n",
       "      <td>0</td>\n",
       "      <td>0</td>\n",
       "    </tr>\n",
       "    <tr>\n",
       "      <th>2185</th>\n",
       "      <td>1</td>\n",
       "      <td>1</td>\n",
       "      <td>1</td>\n",
       "      <td>1</td>\n",
       "      <td>0</td>\n",
       "      <td>0</td>\n",
       "      <td>0</td>\n",
       "      <td>0</td>\n",
       "      <td>1</td>\n",
       "      <td>1</td>\n",
       "      <td>0</td>\n",
       "      <td>0</td>\n",
       "      <td>0</td>\n",
       "      <td>1</td>\n",
       "    </tr>\n",
       "    <tr>\n",
       "      <th>2186</th>\n",
       "      <td>1</td>\n",
       "      <td>1</td>\n",
       "      <td>1</td>\n",
       "      <td>1</td>\n",
       "      <td>0</td>\n",
       "      <td>0</td>\n",
       "      <td>0</td>\n",
       "      <td>0</td>\n",
       "      <td>1</td>\n",
       "      <td>1</td>\n",
       "      <td>0</td>\n",
       "      <td>1</td>\n",
       "      <td>0</td>\n",
       "      <td>0</td>\n",
       "    </tr>\n",
       "  </tbody>\n",
       "</table>\n",
       "<p>2187 rows × 14 columns</p>\n",
       "</div>"
      ],
      "text/plain": [
       "     q_1 q_2 q_3 q_4 p_15 p_14 p_13 p_12 p_9 p_11 q_5 q_6 q_7 p_10\n",
       "0      0   0   0   0    0    0    0    0   0    0   0   0   0    0\n",
       "1      0   0   0   0    0    0    0    0   0    0   0   0   0    1\n",
       "2      0   0   0   0    0    0    0    0   0    0   0   0   1    0\n",
       "3      0   0   0   0    0    0    0    0   0    0   0   0   1    1\n",
       "4      0   0   0   0    0    0    0    0   0    0   0   1   0    0\n",
       "...   ..  ..  ..  ..  ...  ...  ...  ...  ..  ...  ..  ..  ..  ...\n",
       "2182   1   1   1   1    0    0    0    0   1    0   1   0   0    1\n",
       "2183   1   1   1   1    0    0    0    0   1    0   1   1   0    0\n",
       "2184   1   1   1   1    0    0    0    0   1    1   0   0   0    0\n",
       "2185   1   1   1   1    0    0    0    0   1    1   0   0   0    1\n",
       "2186   1   1   1   1    0    0    0    0   1    1   0   1   0    0\n",
       "\n",
       "[2187 rows x 14 columns]"
      ]
     },
     "execution_count": 52,
     "metadata": {},
     "output_type": "execute_result"
    }
   ],
   "source": [
    "best_table = vqf.best_superposition_table\n",
    "best_table"
   ]
  },
  {
   "cell_type": "code",
   "execution_count": 53,
   "metadata": {},
   "outputs": [
    {
     "data": {
      "text/html": [
       "<div>\n",
       "<style scoped>\n",
       "    .dataframe tbody tr th:only-of-type {\n",
       "        vertical-align: middle;\n",
       "    }\n",
       "\n",
       "    .dataframe tbody tr th {\n",
       "        vertical-align: top;\n",
       "    }\n",
       "\n",
       "    .dataframe thead th {\n",
       "        text-align: right;\n",
       "    }\n",
       "</style>\n",
       "<table border=\"1\" class=\"dataframe\">\n",
       "  <thead>\n",
       "    <tr style=\"text-align: right;\">\n",
       "      <th></th>\n",
       "      <th>q_1</th>\n",
       "      <th>q_2</th>\n",
       "    </tr>\n",
       "  </thead>\n",
       "  <tbody>\n",
       "    <tr>\n",
       "      <th>0</th>\n",
       "      <td>0</td>\n",
       "      <td>0</td>\n",
       "    </tr>\n",
       "    <tr>\n",
       "      <th>1</th>\n",
       "      <td>0</td>\n",
       "      <td>1</td>\n",
       "    </tr>\n",
       "    <tr>\n",
       "      <th>2</th>\n",
       "      <td>1</td>\n",
       "      <td>0</td>\n",
       "    </tr>\n",
       "    <tr>\n",
       "      <th>3</th>\n",
       "      <td>1</td>\n",
       "      <td>1</td>\n",
       "    </tr>\n",
       "  </tbody>\n",
       "</table>\n",
       "</div>"
      ],
      "text/plain": [
       "  q_1 q_2\n",
       "0   0   0\n",
       "1   0   1\n",
       "2   1   0\n",
       "3   1   1"
      ]
     },
     "metadata": {},
     "output_type": "display_data"
    },
    {
     "data": {
      "text/html": [
       "<div>\n",
       "<style scoped>\n",
       "    .dataframe tbody tr th:only-of-type {\n",
       "        vertical-align: middle;\n",
       "    }\n",
       "\n",
       "    .dataframe tbody tr th {\n",
       "        vertical-align: top;\n",
       "    }\n",
       "\n",
       "    .dataframe thead th {\n",
       "        text-align: right;\n",
       "    }\n",
       "</style>\n",
       "<table border=\"1\" class=\"dataframe\">\n",
       "  <thead>\n",
       "    <tr style=\"text-align: right;\">\n",
       "      <th></th>\n",
       "      <th>p_15</th>\n",
       "      <th>p_14</th>\n",
       "      <th>q_3</th>\n",
       "      <th>q_4</th>\n",
       "      <th>p_13</th>\n",
       "      <th>p_12</th>\n",
       "      <th>p_11</th>\n",
       "      <th>q_5</th>\n",
       "      <th>q_6</th>\n",
       "      <th>q_7</th>\n",
       "    </tr>\n",
       "  </thead>\n",
       "  <tbody>\n",
       "    <tr>\n",
       "      <th>0</th>\n",
       "      <td>0</td>\n",
       "      <td>0</td>\n",
       "      <td>0</td>\n",
       "      <td>0</td>\n",
       "      <td>0</td>\n",
       "      <td>0</td>\n",
       "      <td>0</td>\n",
       "      <td>0</td>\n",
       "      <td>0</td>\n",
       "      <td>0</td>\n",
       "    </tr>\n",
       "    <tr>\n",
       "      <th>1</th>\n",
       "      <td>0</td>\n",
       "      <td>0</td>\n",
       "      <td>0</td>\n",
       "      <td>0</td>\n",
       "      <td>0</td>\n",
       "      <td>0</td>\n",
       "      <td>0</td>\n",
       "      <td>0</td>\n",
       "      <td>0</td>\n",
       "      <td>1</td>\n",
       "    </tr>\n",
       "    <tr>\n",
       "      <th>2</th>\n",
       "      <td>0</td>\n",
       "      <td>0</td>\n",
       "      <td>0</td>\n",
       "      <td>0</td>\n",
       "      <td>0</td>\n",
       "      <td>0</td>\n",
       "      <td>0</td>\n",
       "      <td>0</td>\n",
       "      <td>1</td>\n",
       "      <td>0</td>\n",
       "    </tr>\n",
       "    <tr>\n",
       "      <th>3</th>\n",
       "      <td>0</td>\n",
       "      <td>0</td>\n",
       "      <td>0</td>\n",
       "      <td>0</td>\n",
       "      <td>0</td>\n",
       "      <td>0</td>\n",
       "      <td>0</td>\n",
       "      <td>0</td>\n",
       "      <td>1</td>\n",
       "      <td>1</td>\n",
       "    </tr>\n",
       "    <tr>\n",
       "      <th>4</th>\n",
       "      <td>0</td>\n",
       "      <td>0</td>\n",
       "      <td>0</td>\n",
       "      <td>0</td>\n",
       "      <td>0</td>\n",
       "      <td>0</td>\n",
       "      <td>0</td>\n",
       "      <td>1</td>\n",
       "      <td>0</td>\n",
       "      <td>0</td>\n",
       "    </tr>\n",
       "    <tr>\n",
       "      <th>...</th>\n",
       "      <td>...</td>\n",
       "      <td>...</td>\n",
       "      <td>...</td>\n",
       "      <td>...</td>\n",
       "      <td>...</td>\n",
       "      <td>...</td>\n",
       "      <td>...</td>\n",
       "      <td>...</td>\n",
       "      <td>...</td>\n",
       "      <td>...</td>\n",
       "    </tr>\n",
       "    <tr>\n",
       "      <th>238</th>\n",
       "      <td>1</td>\n",
       "      <td>1</td>\n",
       "      <td>0</td>\n",
       "      <td>0</td>\n",
       "      <td>1</td>\n",
       "      <td>0</td>\n",
       "      <td>1</td>\n",
       "      <td>0</td>\n",
       "      <td>0</td>\n",
       "      <td>0</td>\n",
       "    </tr>\n",
       "    <tr>\n",
       "      <th>239</th>\n",
       "      <td>1</td>\n",
       "      <td>1</td>\n",
       "      <td>0</td>\n",
       "      <td>0</td>\n",
       "      <td>1</td>\n",
       "      <td>0</td>\n",
       "      <td>1</td>\n",
       "      <td>0</td>\n",
       "      <td>1</td>\n",
       "      <td>0</td>\n",
       "    </tr>\n",
       "    <tr>\n",
       "      <th>240</th>\n",
       "      <td>1</td>\n",
       "      <td>1</td>\n",
       "      <td>0</td>\n",
       "      <td>0</td>\n",
       "      <td>1</td>\n",
       "      <td>1</td>\n",
       "      <td>0</td>\n",
       "      <td>0</td>\n",
       "      <td>0</td>\n",
       "      <td>0</td>\n",
       "    </tr>\n",
       "    <tr>\n",
       "      <th>241</th>\n",
       "      <td>1</td>\n",
       "      <td>1</td>\n",
       "      <td>0</td>\n",
       "      <td>0</td>\n",
       "      <td>1</td>\n",
       "      <td>1</td>\n",
       "      <td>0</td>\n",
       "      <td>0</td>\n",
       "      <td>0</td>\n",
       "      <td>1</td>\n",
       "    </tr>\n",
       "    <tr>\n",
       "      <th>242</th>\n",
       "      <td>1</td>\n",
       "      <td>1</td>\n",
       "      <td>0</td>\n",
       "      <td>0</td>\n",
       "      <td>1</td>\n",
       "      <td>1</td>\n",
       "      <td>1</td>\n",
       "      <td>0</td>\n",
       "      <td>0</td>\n",
       "      <td>0</td>\n",
       "    </tr>\n",
       "  </tbody>\n",
       "</table>\n",
       "<p>243 rows × 10 columns</p>\n",
       "</div>"
      ],
      "text/plain": [
       "    p_15 p_14 q_3 q_4 p_13 p_12 p_11 q_5 q_6 q_7\n",
       "0      0    0   0   0    0    0    0   0   0   0\n",
       "1      0    0   0   0    0    0    0   0   0   1\n",
       "2      0    0   0   0    0    0    0   0   1   0\n",
       "3      0    0   0   0    0    0    0   0   1   1\n",
       "4      0    0   0   0    0    0    0   1   0   0\n",
       "..   ...  ...  ..  ..  ...  ...  ...  ..  ..  ..\n",
       "238    1    1   0   0    1    0    1   0   0   0\n",
       "239    1    1   0   0    1    0    1   0   1   0\n",
       "240    1    1   0   0    1    1    0   0   0   0\n",
       "241    1    1   0   0    1    1    0   0   0   1\n",
       "242    1    1   0   0    1    1    1   0   0   0\n",
       "\n",
       "[243 rows x 10 columns]"
      ]
     },
     "metadata": {},
     "output_type": "display_data"
    }
   ],
   "source": [
    "superposition_tables = vqf.superposition_tables\n",
    "for table in superposition_tables:\n",
    "    display(table)"
   ]
  },
  {
   "cell_type": "code",
   "execution_count": null,
   "metadata": {},
   "outputs": [],
   "source": []
  }
 ],
 "metadata": {
  "kernelspec": {
   "display_name": ".venv",
   "language": "python",
   "name": "python3"
  },
  "language_info": {
   "codemirror_mode": {
    "name": "ipython",
    "version": 3
   },
   "file_extension": ".py",
   "mimetype": "text/x-python",
   "name": "python",
   "nbconvert_exporter": "python",
   "pygments_lexer": "ipython3",
   "version": "3.10.6"
  },
  "orig_nbformat": 4
 },
 "nbformat": 4,
 "nbformat_minor": 2
}
