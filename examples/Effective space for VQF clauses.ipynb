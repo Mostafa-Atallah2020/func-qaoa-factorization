{
 "cells": [
  {
   "cell_type": "code",
   "execution_count": 4,
   "metadata": {},
   "outputs": [
    {
     "name": "stdout",
     "output_type": "stream",
     "text": [
      "The autoreload extension is already loaded. To reload it, use:\n",
      "  %reload_ext autoreload\n"
     ]
    }
   ],
   "source": [
    "%load_ext autoreload\n",
    "%autoreload 2"
   ]
  },
  {
   "cell_type": "code",
   "execution_count": 5,
   "metadata": {},
   "outputs": [],
   "source": [
    "from vqf.preprocessing import create_clauses\n",
    "from IPython.display import display\n",
    "import sys\n",
    "\n",
    "import warnings\n",
    "\n",
    "warnings.filterwarnings(\"ignore\")\n",
    "\n",
    "sys.path.append(f\"./../\")\n",
    "from src import SpaceEfficientVQF, Clause"
   ]
  },
  {
   "cell_type": "code",
   "execution_count": 6,
   "metadata": {},
   "outputs": [],
   "source": [
    "# p = 5\n",
    "# q = 3\n",
    "\n",
    "# p = 31\n",
    "# q = 23\n",
    "\n",
    "# p = 11\n",
    "# q = 7\n",
    "\n",
    "# p = 241\n",
    "# q = 233\n",
    "\n",
    "# p = 13\n",
    "# q = 11\n",
    "\n",
    "# p = 557\n",
    "# q = 523\n",
    "\n",
    "p, q = 1481, 997\n",
    "\n",
    "m = p * q\n",
    "vqf = SpaceEfficientVQF(m)"
   ]
  },
  {
   "attachments": {},
   "cell_type": "markdown",
   "metadata": {},
   "source": [
    "## The original simplified clauses from Michal Code"
   ]
  },
  {
   "cell_type": "code",
   "execution_count": 7,
   "metadata": {},
   "outputs": [
    {
     "data": {
      "text/latex": [
       "$\\displaystyle p_{2} + 2 q_{1} + q_{2} - 2 z_{2 3} - 1$"
      ],
      "text/plain": [
       "p_2 + 2*q_1 + q_2 - 2*z_2_3 - 1"
      ]
     },
     "metadata": {},
     "output_type": "display_data"
    },
    {
     "data": {
      "text/latex": [
       "$\\displaystyle p_{2} q_{1} + p_{3} + q_{1} q_{2} + q_{3} + z_{2 3} - 2 z_{3 4} - 4 z_{3 5} - 1$"
      ],
      "text/plain": [
       "p_2*q_1 + p_3 + q_1*q_2 + q_3 + z_2_3 - 2*z_3_4 - 4*z_3_5 - 1"
      ]
     },
     "metadata": {},
     "output_type": "display_data"
    },
    {
     "data": {
      "text/latex": [
       "$\\displaystyle p_{2} q_{2} + p_{3} q_{1} + p_{4} + q_{1} q_{3} + q_{4} + z_{3 4} - 2 z_{4 5} - 4 z_{4 6}$"
      ],
      "text/plain": [
       "p_2*q_2 + p_3*q_1 + p_4 + q_1*q_3 + q_4 + z_3_4 - 2*z_4_5 - 4*z_4_6"
      ]
     },
     "metadata": {},
     "output_type": "display_data"
    },
    {
     "data": {
      "text/latex": [
       "$\\displaystyle p_{2} q_{3} + p_{3} q_{2} + p_{4} q_{1} + p_{5} + q_{1} q_{4} + q_{5} + z_{3 5} + z_{4 5} - 2 z_{5 6} - 4 z_{5 7} - 8 z_{5 8}$"
      ],
      "text/plain": [
       "p_2*q_3 + p_3*q_2 + p_4*q_1 + p_5 + q_1*q_4 + q_5 + z_3_5 + z_4_5 - 2*z_5_6 - 4*z_5_7 - 8*z_5_8"
      ]
     },
     "metadata": {},
     "output_type": "display_data"
    },
    {
     "data": {
      "text/latex": [
       "$\\displaystyle p_{2} q_{4} + p_{3} q_{3} + p_{4} q_{2} + p_{5} q_{1} + p_{6} + q_{1} q_{5} + q_{6} + z_{4 6} + z_{5 6} - 2 z_{6 7} - 4 z_{6 8} - 8 z_{6 9} - 1$"
      ],
      "text/plain": [
       "p_2*q_4 + p_3*q_3 + p_4*q_2 + p_5*q_1 + p_6 + q_1*q_5 + q_6 + z_4_6 + z_5_6 - 2*z_6_7 - 4*z_6_8 - 8*z_6_9 - 1"
      ]
     },
     "metadata": {},
     "output_type": "display_data"
    },
    {
     "data": {
      "text/latex": [
       "$\\displaystyle p_{2} q_{5} + p_{3} q_{4} + p_{4} q_{3} + p_{5} q_{2} + p_{6} q_{1} + p_{7} + q_{1} q_{6} + q_{7} + z_{5 7} + z_{6 7} - 8 z_{7 10} - 2 z_{7 8} - 4 z_{7 9} - 1$"
      ],
      "text/plain": [
       "p_2*q_5 + p_3*q_4 + p_4*q_3 + p_5*q_2 + p_6*q_1 + p_7 + q_1*q_6 + q_7 + z_5_7 + z_6_7 - 8*z_7_10 - 2*z_7_8 - 4*z_7_9 - 1"
      ]
     },
     "metadata": {},
     "output_type": "display_data"
    },
    {
     "data": {
      "text/latex": [
       "$\\displaystyle p_{2} q_{6} + p_{3} q_{5} + p_{4} q_{4} + p_{5} q_{3} + p_{6} q_{2} + p_{7} q_{1} + p_{8} + q_{1} q_{7} + q_{8} + z_{5 8} + z_{6 8} + z_{7 8} - 4 z_{8 10} - 8 z_{8 11} - 2 z_{8 9} - 1$"
      ],
      "text/plain": [
       "p_2*q_6 + p_3*q_5 + p_4*q_4 + p_5*q_3 + p_6*q_2 + p_7*q_1 + p_8 + q_1*q_7 + q_8 + z_5_8 + z_6_8 + z_7_8 - 4*z_8_10 - 8*z_8_11 - 2*z_8_9 - 1"
      ]
     },
     "metadata": {},
     "output_type": "display_data"
    },
    {
     "data": {
      "text/latex": [
       "$\\displaystyle p_{2} q_{7} + p_{3} q_{6} + p_{4} q_{5} + p_{5} q_{4} + p_{6} q_{3} + p_{7} q_{2} + p_{8} q_{1} + p_{9} + q_{1} q_{8} + q_{9} + z_{6 9} + z_{7 9} + z_{8 9} - 2 z_{9 10} - 4 z_{9 11} - 8 z_{9 12} - 1$"
      ],
      "text/plain": [
       "p_2*q_7 + p_3*q_6 + p_4*q_5 + p_5*q_4 + p_6*q_3 + p_7*q_2 + p_8*q_1 + p_9 + q_1*q_8 + q_9 + z_6_9 + z_7_9 + z_8_9 - 2*z_9_10 - 4*z_9_11 - 8*z_9_12 - 1"
      ]
     },
     "metadata": {},
     "output_type": "display_data"
    },
    {
     "data": {
      "text/latex": [
       "$\\displaystyle p_{10} + p_{2} q_{8} + p_{3} q_{7} + p_{4} q_{6} + p_{5} q_{5} + p_{6} q_{4} + p_{7} q_{3} + p_{8} q_{2} + p_{9} q_{1} + q_{1} q_{9} + q_{10} - 2 z_{10 11} - 4 z_{10 12} - 8 z_{10 13} + z_{7 10} + z_{8 10} + z_{9 10} - 1$"
      ],
      "text/plain": [
       "p_10 + p_2*q_8 + p_3*q_7 + p_4*q_6 + p_5*q_5 + p_6*q_4 + p_7*q_3 + p_8*q_2 + p_9*q_1 + q_1*q_9 + q_10 - 2*z_10_11 - 4*z_10_12 - 8*z_10_13 + z_7_10 + z_8_10 + z_9_10 - 1"
      ]
     },
     "metadata": {},
     "output_type": "display_data"
    },
    {
     "data": {
      "text/latex": [
       "$\\displaystyle p_{10} q_{1} + p_{11} + p_{2} q_{9} + p_{3} q_{8} + p_{4} q_{7} + p_{5} q_{6} + p_{6} q_{5} + p_{7} q_{4} + p_{8} q_{3} + p_{9} q_{2} + q_{1} q_{10} + z_{10 11} - 2 z_{11 12} - 4 z_{11 13} - 8 z_{11 14} + z_{8 11} + z_{9 11}$"
      ],
      "text/plain": [
       "p_10*q_1 + p_11 + p_2*q_9 + p_3*q_8 + p_4*q_7 + p_5*q_6 + p_6*q_5 + p_7*q_4 + p_8*q_3 + p_9*q_2 + q_1*q_10 + z_10_11 - 2*z_11_12 - 4*z_11_13 - 8*z_11_14 + z_8_11 + z_9_11"
      ]
     },
     "metadata": {},
     "output_type": "display_data"
    },
    {
     "data": {
      "text/latex": [
       "$\\displaystyle p_{10} q_{2} + p_{11} q_{1} + p_{12} + p_{2} q_{10} + p_{3} q_{9} + p_{4} q_{8} + p_{5} q_{7} + p_{6} q_{6} + p_{7} q_{5} + p_{8} q_{4} + p_{9} q_{3} + z_{10 12} + z_{11 12} - 2 z_{12 13} - 4 z_{12 14} - 8 z_{12 15} + z_{9 12}$"
      ],
      "text/plain": [
       "p_10*q_2 + p_11*q_1 + p_12 + p_2*q_10 + p_3*q_9 + p_4*q_8 + p_5*q_7 + p_6*q_6 + p_7*q_5 + p_8*q_4 + p_9*q_3 + z_10_12 + z_11_12 - 2*z_12_13 - 4*z_12_14 - 8*z_12_15 + z_9_12"
      ]
     },
     "metadata": {},
     "output_type": "display_data"
    },
    {
     "data": {
      "text/latex": [
       "$\\displaystyle p_{10} q_{3} + p_{11} q_{2} + p_{12} q_{1} + p_{13} + p_{3} q_{10} + p_{4} q_{9} + p_{5} q_{8} + p_{6} q_{7} + p_{7} q_{6} + p_{8} q_{5} + p_{9} q_{4} + z_{10 13} + z_{11 13} + z_{12 13} - 2 z_{13 14} - 4 z_{13 15} - 8 z_{13 16}$"
      ],
      "text/plain": [
       "p_10*q_3 + p_11*q_2 + p_12*q_1 + p_13 + p_3*q_10 + p_4*q_9 + p_5*q_8 + p_6*q_7 + p_7*q_6 + p_8*q_5 + p_9*q_4 + z_10_13 + z_11_13 + z_12_13 - 2*z_13_14 - 4*z_13_15 - 8*z_13_16"
      ]
     },
     "metadata": {},
     "output_type": "display_data"
    },
    {
     "data": {
      "text/latex": [
       "$\\displaystyle p_{10} q_{4} + p_{11} q_{3} + p_{12} q_{2} + p_{13} q_{1} + p_{14} + p_{4} q_{10} + p_{5} q_{9} + p_{6} q_{8} + p_{7} q_{7} + p_{8} q_{6} + p_{9} q_{5} + z_{11 14} + z_{12 14} + z_{13 14} - 2 z_{14 15} - 4 z_{14 16} - 8 z_{14 17}$"
      ],
      "text/plain": [
       "p_10*q_4 + p_11*q_3 + p_12*q_2 + p_13*q_1 + p_14 + p_4*q_10 + p_5*q_9 + p_6*q_8 + p_7*q_7 + p_8*q_6 + p_9*q_5 + z_11_14 + z_12_14 + z_13_14 - 2*z_14_15 - 4*z_14_16 - 8*z_14_17"
      ]
     },
     "metadata": {},
     "output_type": "display_data"
    },
    {
     "data": {
      "text/latex": [
       "$\\displaystyle p_{10} q_{5} + p_{11} q_{4} + p_{12} q_{3} + p_{13} q_{2} + p_{14} q_{1} + p_{15} + p_{5} q_{10} + p_{6} q_{9} + p_{7} q_{8} + p_{8} q_{7} + p_{9} q_{6} + z_{12 15} + z_{13 15} + z_{14 15} - 2 z_{15 16} - 4 z_{15 17} - 8 z_{15 18} - 1$"
      ],
      "text/plain": [
       "p_10*q_5 + p_11*q_4 + p_12*q_3 + p_13*q_2 + p_14*q_1 + p_15 + p_5*q_10 + p_6*q_9 + p_7*q_8 + p_8*q_7 + p_9*q_6 + z_12_15 + z_13_15 + z_14_15 - 2*z_15_16 - 4*z_15_17 - 8*z_15_18 - 1"
      ]
     },
     "metadata": {},
     "output_type": "display_data"
    },
    {
     "data": {
      "text/latex": [
       "$\\displaystyle p_{10} q_{6} + p_{11} q_{5} + p_{12} q_{4} + p_{13} q_{3} + p_{14} q_{2} + p_{15} q_{1} + p_{16} + p_{6} q_{10} + p_{7} q_{9} + p_{8} q_{8} + p_{9} q_{7} + z_{13 16} + z_{14 16} + z_{15 16} - 2 z_{16 17} - 4 z_{16 18} - 8 z_{16 19}$"
      ],
      "text/plain": [
       "p_10*q_6 + p_11*q_5 + p_12*q_4 + p_13*q_3 + p_14*q_2 + p_15*q_1 + p_16 + p_6*q_10 + p_7*q_9 + p_8*q_8 + p_9*q_7 + z_13_16 + z_14_16 + z_15_16 - 2*z_16_17 - 4*z_16_18 - 8*z_16_19"
      ]
     },
     "metadata": {},
     "output_type": "display_data"
    },
    {
     "data": {
      "text/latex": [
       "$\\displaystyle p_{10} q_{7} + p_{11} q_{6} + p_{12} q_{5} + p_{13} q_{4} + p_{14} q_{3} + p_{15} q_{2} + p_{16} q_{1} + p_{17} + p_{7} q_{10} + p_{8} q_{9} + p_{9} q_{8} + z_{14 17} + z_{15 17} + z_{16 17} - 2 z_{17 18} - 4 z_{17 19} - 8 z_{17 20} - 1$"
      ],
      "text/plain": [
       "p_10*q_7 + p_11*q_6 + p_12*q_5 + p_13*q_4 + p_14*q_3 + p_15*q_2 + p_16*q_1 + p_17 + p_7*q_10 + p_8*q_9 + p_9*q_8 + z_14_17 + z_15_17 + z_16_17 - 2*z_17_18 - 4*z_17_19 - 8*z_17_20 - 1"
      ]
     },
     "metadata": {},
     "output_type": "display_data"
    },
    {
     "data": {
      "text/latex": [
       "$\\displaystyle p_{10} q_{8} + p_{11} q_{7} + p_{12} q_{6} + p_{13} q_{5} + p_{14} q_{4} + p_{15} q_{3} + p_{16} q_{2} + p_{17} q_{1} + p_{18} + p_{8} q_{10} + p_{9} q_{9} + z_{15 18} + z_{16 18} + z_{17 18} - 2 z_{18 19} - 4 z_{18 20} - 1$"
      ],
      "text/plain": [
       "p_10*q_8 + p_11*q_7 + p_12*q_6 + p_13*q_5 + p_14*q_4 + p_15*q_3 + p_16*q_2 + p_17*q_1 + p_18 + p_8*q_10 + p_9*q_9 + z_15_18 + z_16_18 + z_17_18 - 2*z_18_19 - 4*z_18_20 - 1"
      ]
     },
     "metadata": {},
     "output_type": "display_data"
    },
    {
     "data": {
      "text/latex": [
       "$\\displaystyle p_{10} q_{9} + p_{11} q_{8} + p_{12} q_{7} + p_{13} q_{6} + p_{14} q_{5} + p_{15} q_{4} + p_{16} q_{3} + p_{17} q_{2} + p_{18} q_{1} + p_{19} + p_{9} q_{10} + z_{16 19} + z_{17 19} + z_{18 19} - 2 z_{19 20}$"
      ],
      "text/plain": [
       "p_10*q_9 + p_11*q_8 + p_12*q_7 + p_13*q_6 + p_14*q_5 + p_15*q_4 + p_16*q_3 + p_17*q_2 + p_18*q_1 + p_19 + p_9*q_10 + z_16_19 + z_17_19 + z_18_19 - 2*z_19_20"
      ]
     },
     "metadata": {},
     "output_type": "display_data"
    },
    {
     "data": {
      "text/latex": [
       "$\\displaystyle p_{10} q_{10} + p_{11} q_{9} + p_{12} q_{8} + p_{13} q_{7} + p_{14} q_{6} + p_{15} q_{5} + p_{16} q_{4} + p_{17} q_{3} + p_{18} q_{2} + p_{19} q_{1} + p_{20} + z_{17 20} + z_{18 20} + z_{19 20} - 1$"
      ],
      "text/plain": [
       "p_10*q_10 + p_11*q_9 + p_12*q_8 + p_13*q_7 + p_14*q_6 + p_15*q_5 + p_16*q_4 + p_17*q_3 + p_18*q_2 + p_19*q_1 + p_20 + z_17_20 + z_18_20 + z_19_20 - 1"
      ]
     },
     "metadata": {},
     "output_type": "display_data"
    },
    {
     "data": {
      "text/latex": [
       "$\\displaystyle p_{11} q_{10} + p_{12} q_{9} + p_{13} q_{8} + p_{14} q_{7} + p_{15} q_{6} + p_{16} q_{5} + p_{17} q_{4} + p_{18} q_{3} + p_{19} q_{2} + p_{20} q_{1}$"
      ],
      "text/plain": [
       "p_11*q_10 + p_12*q_9 + p_13*q_8 + p_14*q_7 + p_15*q_6 + p_16*q_5 + p_17*q_4 + p_18*q_3 + p_19*q_2 + p_20*q_1"
      ]
     },
     "metadata": {},
     "output_type": "display_data"
    },
    {
     "data": {
      "text/latex": [
       "$\\displaystyle p_{12} q_{10} + p_{13} q_{9} + p_{14} q_{8} + p_{15} q_{7} + p_{16} q_{6} + p_{17} q_{5} + p_{18} q_{4} + p_{19} q_{3} + p_{20} q_{2}$"
      ],
      "text/plain": [
       "p_12*q_10 + p_13*q_9 + p_14*q_8 + p_15*q_7 + p_16*q_6 + p_17*q_5 + p_18*q_4 + p_19*q_3 + p_20*q_2"
      ]
     },
     "metadata": {},
     "output_type": "display_data"
    },
    {
     "data": {
      "text/latex": [
       "$\\displaystyle p_{13} q_{10} + p_{14} q_{9} + p_{15} q_{8} + p_{16} q_{7} + p_{17} q_{6} + p_{18} q_{5} + p_{19} q_{4} + p_{20} q_{3}$"
      ],
      "text/plain": [
       "p_13*q_10 + p_14*q_9 + p_15*q_8 + p_16*q_7 + p_17*q_6 + p_18*q_5 + p_19*q_4 + p_20*q_3"
      ]
     },
     "metadata": {},
     "output_type": "display_data"
    },
    {
     "data": {
      "text/latex": [
       "$\\displaystyle p_{14} q_{10} + p_{15} q_{9} + p_{16} q_{8} + p_{17} q_{7} + p_{18} q_{6} + p_{19} q_{5} + p_{20} q_{4}$"
      ],
      "text/plain": [
       "p_14*q_10 + p_15*q_9 + p_16*q_8 + p_17*q_7 + p_18*q_6 + p_19*q_5 + p_20*q_4"
      ]
     },
     "metadata": {},
     "output_type": "display_data"
    },
    {
     "data": {
      "text/latex": [
       "$\\displaystyle p_{15} q_{10} + p_{16} q_{9} + p_{17} q_{8} + p_{18} q_{7} + p_{19} q_{6} + p_{20} q_{5}$"
      ],
      "text/plain": [
       "p_15*q_10 + p_16*q_9 + p_17*q_8 + p_18*q_7 + p_19*q_6 + p_20*q_5"
      ]
     },
     "metadata": {},
     "output_type": "display_data"
    },
    {
     "data": {
      "text/latex": [
       "$\\displaystyle p_{16} q_{10} + p_{17} q_{9} + p_{18} q_{8} + p_{19} q_{7} + p_{20} q_{6}$"
      ],
      "text/plain": [
       "p_16*q_10 + p_17*q_9 + p_18*q_8 + p_19*q_7 + p_20*q_6"
      ]
     },
     "metadata": {},
     "output_type": "display_data"
    },
    {
     "data": {
      "text/latex": [
       "$\\displaystyle p_{17} q_{10} + p_{18} q_{9} + p_{19} q_{8} + p_{20} q_{7}$"
      ],
      "text/plain": [
       "p_17*q_10 + p_18*q_9 + p_19*q_8 + p_20*q_7"
      ]
     },
     "metadata": {},
     "output_type": "display_data"
    },
    {
     "data": {
      "text/latex": [
       "$\\displaystyle p_{18} q_{10} + p_{19} q_{9} + p_{20} q_{8}$"
      ],
      "text/plain": [
       "p_18*q_10 + p_19*q_9 + p_20*q_8"
      ]
     },
     "metadata": {},
     "output_type": "display_data"
    },
    {
     "data": {
      "text/latex": [
       "$\\displaystyle p_{19} q_{10} + p_{20} q_{9}$"
      ],
      "text/plain": [
       "p_19*q_10 + p_20*q_9"
      ]
     },
     "metadata": {},
     "output_type": "display_data"
    },
    {
     "data": {
      "text/latex": [
       "$\\displaystyle p_{20} q_{10}$"
      ],
      "text/plain": [
       "p_20*q_10"
      ]
     },
     "metadata": {},
     "output_type": "display_data"
    }
   ],
   "source": [
    "for c in vqf.simplified_clauses:\n",
    "    if c != 0:\n",
    "        display(c)"
   ]
  },
  {
   "attachments": {},
   "cell_type": "markdown",
   "metadata": {},
   "source": [
    "## The Limited Clauses "
   ]
  },
  {
   "cell_type": "code",
   "execution_count": 13,
   "metadata": {},
   "outputs": [
    {
     "data": {
      "text/latex": [
       "$\\displaystyle p_{2} + 2 q_{1} + q_{2} - 2 z_{2 3} - 1$"
      ],
      "text/plain": [
       "p_2 + 2*q_1 + q_2 - 2*z_2_3 - 1"
      ]
     },
     "metadata": {},
     "output_type": "display_data"
    },
    {
     "name": "stdout",
     "output_type": "stream",
     "text": [
      "The number of pq variables: 3\n"
     ]
    },
    {
     "data": {
      "text/latex": [
       "$\\displaystyle p_{2} q_{1} + p_{3} + q_{1} q_{2} + q_{3} + z_{2 3} - 2 z_{3 4} - 4 z_{3 5} - 1$"
      ],
      "text/plain": [
       "p_2*q_1 + p_3 + q_1*q_2 + q_3 + z_2_3 - 2*z_3_4 - 4*z_3_5 - 1"
      ]
     },
     "metadata": {},
     "output_type": "display_data"
    },
    {
     "name": "stdout",
     "output_type": "stream",
     "text": [
      "The number of pq variables: 5\n"
     ]
    },
    {
     "data": {
      "text/latex": [
       "$\\displaystyle p_{2} q_{2} + p_{3} q_{1} + p_{4} + q_{1} q_{3} + q_{4} + z_{3 4} - 2 z_{4 5} - 4 z_{4 6}$"
      ],
      "text/plain": [
       "p_2*q_2 + p_3*q_1 + p_4 + q_1*q_3 + q_4 + z_3_4 - 2*z_4_5 - 4*z_4_6"
      ]
     },
     "metadata": {},
     "output_type": "display_data"
    },
    {
     "name": "stdout",
     "output_type": "stream",
     "text": [
      "The number of pq variables: 7\n"
     ]
    },
    {
     "data": {
      "text/latex": [
       "$\\displaystyle p_{2} q_{3} + p_{3} q_{2} + p_{4} q_{1} + p_{5} + q_{1} q_{4} + q_{5} + z_{3 5} + z_{4 5} - 2 z_{5 6} - 4 z_{5 7} - 8 z_{5 8}$"
      ],
      "text/plain": [
       "p_2*q_3 + p_3*q_2 + p_4*q_1 + p_5 + q_1*q_4 + q_5 + z_3_5 + z_4_5 - 2*z_5_6 - 4*z_5_7 - 8*z_5_8"
      ]
     },
     "metadata": {},
     "output_type": "display_data"
    },
    {
     "name": "stdout",
     "output_type": "stream",
     "text": [
      "The number of pq variables: 9\n"
     ]
    },
    {
     "data": {
      "text/latex": [
       "$\\displaystyle p_{2} q_{4} + p_{3} q_{3} + p_{4} q_{2} + p_{5} q_{1} + p_{6} + q_{1} q_{5} + q_{6} + z_{4 6} + z_{5 6} - 2 z_{6 7} - 4 z_{6 8} - 8 z_{6 9} - 1$"
      ],
      "text/plain": [
       "p_2*q_4 + p_3*q_3 + p_4*q_2 + p_5*q_1 + p_6 + q_1*q_5 + q_6 + z_4_6 + z_5_6 - 2*z_6_7 - 4*z_6_8 - 8*z_6_9 - 1"
      ]
     },
     "metadata": {},
     "output_type": "display_data"
    },
    {
     "name": "stdout",
     "output_type": "stream",
     "text": [
      "The number of pq variables: 11\n"
     ]
    },
    {
     "data": {
      "text/latex": [
       "$\\displaystyle p_{2} q_{5} + p_{3} q_{4} + p_{4} q_{3} + p_{5} q_{2} + p_{6} q_{1} + p_{7} + q_{1} q_{6} + q_{7} + z_{5 7} + z_{6 7} - 8 z_{7 10} - 2 z_{7 8} - 4 z_{7 9} - 1$"
      ],
      "text/plain": [
       "p_2*q_5 + p_3*q_4 + p_4*q_3 + p_5*q_2 + p_6*q_1 + p_7 + q_1*q_6 + q_7 + z_5_7 + z_6_7 - 8*z_7_10 - 2*z_7_8 - 4*z_7_9 - 1"
      ]
     },
     "metadata": {},
     "output_type": "display_data"
    },
    {
     "name": "stdout",
     "output_type": "stream",
     "text": [
      "The number of pq variables: 13\n"
     ]
    },
    {
     "data": {
      "text/latex": [
       "$\\displaystyle p_{2} q_{6} + p_{3} q_{5} + p_{4} q_{4} + p_{5} q_{3} + p_{6} q_{2} + p_{7} q_{1} + p_{8} + q_{1} q_{7} + q_{8} + z_{5 8} + z_{6 8} + z_{7 8} - 4 z_{8 10} - 8 z_{8 11} - 2 z_{8 9} - 1$"
      ],
      "text/plain": [
       "p_2*q_6 + p_3*q_5 + p_4*q_4 + p_5*q_3 + p_6*q_2 + p_7*q_1 + p_8 + q_1*q_7 + q_8 + z_5_8 + z_6_8 + z_7_8 - 4*z_8_10 - 8*z_8_11 - 2*z_8_9 - 1"
      ]
     },
     "metadata": {},
     "output_type": "display_data"
    },
    {
     "name": "stdout",
     "output_type": "stream",
     "text": [
      "The number of pq variables: 15\n"
     ]
    },
    {
     "data": {
      "text/latex": [
       "$\\displaystyle p_{13} q_{10} + p_{14} q_{9} + p_{15} q_{8} + p_{16} q_{7} + p_{17} q_{6} + p_{18} q_{5} + p_{19} q_{4} + p_{20} q_{3}$"
      ],
      "text/plain": [
       "p_13*q_10 + p_14*q_9 + p_15*q_8 + p_16*q_7 + p_17*q_6 + p_18*q_5 + p_19*q_4 + p_20*q_3"
      ]
     },
     "metadata": {},
     "output_type": "display_data"
    },
    {
     "name": "stdout",
     "output_type": "stream",
     "text": [
      "The number of pq variables: 16\n"
     ]
    },
    {
     "data": {
      "text/latex": [
       "$\\displaystyle p_{14} q_{10} + p_{15} q_{9} + p_{16} q_{8} + p_{17} q_{7} + p_{18} q_{6} + p_{19} q_{5} + p_{20} q_{4}$"
      ],
      "text/plain": [
       "p_14*q_10 + p_15*q_9 + p_16*q_8 + p_17*q_7 + p_18*q_6 + p_19*q_5 + p_20*q_4"
      ]
     },
     "metadata": {},
     "output_type": "display_data"
    },
    {
     "name": "stdout",
     "output_type": "stream",
     "text": [
      "The number of pq variables: 14\n"
     ]
    },
    {
     "data": {
      "text/latex": [
       "$\\displaystyle p_{15} q_{10} + p_{16} q_{9} + p_{17} q_{8} + p_{18} q_{7} + p_{19} q_{6} + p_{20} q_{5}$"
      ],
      "text/plain": [
       "p_15*q_10 + p_16*q_9 + p_17*q_8 + p_18*q_7 + p_19*q_6 + p_20*q_5"
      ]
     },
     "metadata": {},
     "output_type": "display_data"
    },
    {
     "name": "stdout",
     "output_type": "stream",
     "text": [
      "The number of pq variables: 12\n"
     ]
    },
    {
     "data": {
      "text/latex": [
       "$\\displaystyle p_{16} q_{10} + p_{17} q_{9} + p_{18} q_{8} + p_{19} q_{7} + p_{20} q_{6}$"
      ],
      "text/plain": [
       "p_16*q_10 + p_17*q_9 + p_18*q_8 + p_19*q_7 + p_20*q_6"
      ]
     },
     "metadata": {},
     "output_type": "display_data"
    },
    {
     "name": "stdout",
     "output_type": "stream",
     "text": [
      "The number of pq variables: 10\n"
     ]
    },
    {
     "data": {
      "text/latex": [
       "$\\displaystyle p_{17} q_{10} + p_{18} q_{9} + p_{19} q_{8} + p_{20} q_{7}$"
      ],
      "text/plain": [
       "p_17*q_10 + p_18*q_9 + p_19*q_8 + p_20*q_7"
      ]
     },
     "metadata": {},
     "output_type": "display_data"
    },
    {
     "name": "stdout",
     "output_type": "stream",
     "text": [
      "The number of pq variables: 8\n"
     ]
    },
    {
     "data": {
      "text/latex": [
       "$\\displaystyle p_{18} q_{10} + p_{19} q_{9} + p_{20} q_{8}$"
      ],
      "text/plain": [
       "p_18*q_10 + p_19*q_9 + p_20*q_8"
      ]
     },
     "metadata": {},
     "output_type": "display_data"
    },
    {
     "name": "stdout",
     "output_type": "stream",
     "text": [
      "The number of pq variables: 6\n"
     ]
    },
    {
     "data": {
      "text/latex": [
       "$\\displaystyle p_{19} q_{10} + p_{20} q_{9}$"
      ],
      "text/plain": [
       "p_19*q_10 + p_20*q_9"
      ]
     },
     "metadata": {},
     "output_type": "display_data"
    },
    {
     "name": "stdout",
     "output_type": "stream",
     "text": [
      "The number of pq variables: 4\n"
     ]
    },
    {
     "data": {
      "text/latex": [
       "$\\displaystyle p_{20} q_{10}$"
      ],
      "text/plain": [
       "p_20*q_10"
      ]
     },
     "metadata": {},
     "output_type": "display_data"
    },
    {
     "name": "stdout",
     "output_type": "stream",
     "text": [
      "The number of pq variables: 2\n"
     ]
    }
   ],
   "source": [
    "for c in vqf.selected_clauses:\n",
    "    display(c.clause)\n",
    "    print(f\"The number of pq variables: {len(c.pq_part.free_symbols)}\")"
   ]
  },
  {
   "attachments": {},
   "cell_type": "markdown",
   "metadata": {},
   "source": [
    "## The Generated superposition Tables"
   ]
  },
  {
   "cell_type": "code",
   "execution_count": 9,
   "metadata": {},
   "outputs": [
    {
     "data": {
      "text/html": [
       "<div>\n",
       "<style scoped>\n",
       "    .dataframe tbody tr th:only-of-type {\n",
       "        vertical-align: middle;\n",
       "    }\n",
       "\n",
       "    .dataframe tbody tr th {\n",
       "        vertical-align: top;\n",
       "    }\n",
       "\n",
       "    .dataframe thead th {\n",
       "        text-align: right;\n",
       "    }\n",
       "</style>\n",
       "<table border=\"1\" class=\"dataframe\">\n",
       "  <thead>\n",
       "    <tr style=\"text-align: right;\">\n",
       "      <th></th>\n",
       "      <th>q_1</th>\n",
       "      <th>q_2</th>\n",
       "      <th>p_2</th>\n",
       "    </tr>\n",
       "  </thead>\n",
       "  <tbody>\n",
       "    <tr>\n",
       "      <th>0</th>\n",
       "      <td>0</td>\n",
       "      <td>0</td>\n",
       "      <td>1</td>\n",
       "    </tr>\n",
       "    <tr>\n",
       "      <th>1</th>\n",
       "      <td>0</td>\n",
       "      <td>1</td>\n",
       "      <td>0</td>\n",
       "    </tr>\n",
       "    <tr>\n",
       "      <th>2</th>\n",
       "      <td>1</td>\n",
       "      <td>0</td>\n",
       "      <td>1</td>\n",
       "    </tr>\n",
       "    <tr>\n",
       "      <th>3</th>\n",
       "      <td>1</td>\n",
       "      <td>1</td>\n",
       "      <td>0</td>\n",
       "    </tr>\n",
       "  </tbody>\n",
       "</table>\n",
       "</div>"
      ],
      "text/plain": [
       "   q_1  q_2  p_2\n",
       "0    0    0    1\n",
       "1    0    1    0\n",
       "2    1    0    1\n",
       "3    1    1    0"
      ]
     },
     "metadata": {},
     "output_type": "display_data"
    },
    {
     "data": {
      "text/html": [
       "<div>\n",
       "<style scoped>\n",
       "    .dataframe tbody tr th:only-of-type {\n",
       "        vertical-align: middle;\n",
       "    }\n",
       "\n",
       "    .dataframe tbody tr th {\n",
       "        vertical-align: top;\n",
       "    }\n",
       "\n",
       "    .dataframe thead th {\n",
       "        text-align: right;\n",
       "    }\n",
       "</style>\n",
       "<table border=\"1\" class=\"dataframe\">\n",
       "  <thead>\n",
       "    <tr style=\"text-align: right;\">\n",
       "      <th></th>\n",
       "      <th>p_19</th>\n",
       "      <th>p_18</th>\n",
       "      <th>p_17</th>\n",
       "      <th>p_16</th>\n",
       "      <th>p_15</th>\n",
       "      <th>p_14</th>\n",
       "      <th>q_3</th>\n",
       "      <th>q_4</th>\n",
       "      <th>p_13</th>\n",
       "      <th>p_20</th>\n",
       "      <th>q_10</th>\n",
       "      <th>q_5</th>\n",
       "      <th>q_6</th>\n",
       "      <th>q_7</th>\n",
       "      <th>q_8</th>\n",
       "      <th>q_9</th>\n",
       "    </tr>\n",
       "  </thead>\n",
       "  <tbody>\n",
       "    <tr>\n",
       "      <th>0</th>\n",
       "      <td>0</td>\n",
       "      <td>0</td>\n",
       "      <td>0</td>\n",
       "      <td>0</td>\n",
       "      <td>0</td>\n",
       "      <td>0</td>\n",
       "      <td>0</td>\n",
       "      <td>0</td>\n",
       "      <td>0</td>\n",
       "      <td>0</td>\n",
       "      <td>0</td>\n",
       "      <td>0</td>\n",
       "      <td>0</td>\n",
       "      <td>0</td>\n",
       "      <td>0</td>\n",
       "      <td>0</td>\n",
       "    </tr>\n",
       "    <tr>\n",
       "      <th>1</th>\n",
       "      <td>0</td>\n",
       "      <td>0</td>\n",
       "      <td>0</td>\n",
       "      <td>0</td>\n",
       "      <td>0</td>\n",
       "      <td>0</td>\n",
       "      <td>0</td>\n",
       "      <td>0</td>\n",
       "      <td>0</td>\n",
       "      <td>0</td>\n",
       "      <td>0</td>\n",
       "      <td>0</td>\n",
       "      <td>0</td>\n",
       "      <td>0</td>\n",
       "      <td>0</td>\n",
       "      <td>1</td>\n",
       "    </tr>\n",
       "    <tr>\n",
       "      <th>2</th>\n",
       "      <td>0</td>\n",
       "      <td>0</td>\n",
       "      <td>0</td>\n",
       "      <td>0</td>\n",
       "      <td>0</td>\n",
       "      <td>0</td>\n",
       "      <td>0</td>\n",
       "      <td>0</td>\n",
       "      <td>0</td>\n",
       "      <td>0</td>\n",
       "      <td>0</td>\n",
       "      <td>0</td>\n",
       "      <td>0</td>\n",
       "      <td>0</td>\n",
       "      <td>1</td>\n",
       "      <td>0</td>\n",
       "    </tr>\n",
       "    <tr>\n",
       "      <th>3</th>\n",
       "      <td>0</td>\n",
       "      <td>0</td>\n",
       "      <td>0</td>\n",
       "      <td>0</td>\n",
       "      <td>0</td>\n",
       "      <td>0</td>\n",
       "      <td>0</td>\n",
       "      <td>0</td>\n",
       "      <td>0</td>\n",
       "      <td>0</td>\n",
       "      <td>0</td>\n",
       "      <td>0</td>\n",
       "      <td>0</td>\n",
       "      <td>0</td>\n",
       "      <td>1</td>\n",
       "      <td>1</td>\n",
       "    </tr>\n",
       "    <tr>\n",
       "      <th>4</th>\n",
       "      <td>0</td>\n",
       "      <td>0</td>\n",
       "      <td>0</td>\n",
       "      <td>0</td>\n",
       "      <td>0</td>\n",
       "      <td>0</td>\n",
       "      <td>0</td>\n",
       "      <td>0</td>\n",
       "      <td>0</td>\n",
       "      <td>0</td>\n",
       "      <td>0</td>\n",
       "      <td>0</td>\n",
       "      <td>0</td>\n",
       "      <td>1</td>\n",
       "      <td>0</td>\n",
       "      <td>0</td>\n",
       "    </tr>\n",
       "    <tr>\n",
       "      <th>...</th>\n",
       "      <td>...</td>\n",
       "      <td>...</td>\n",
       "      <td>...</td>\n",
       "      <td>...</td>\n",
       "      <td>...</td>\n",
       "      <td>...</td>\n",
       "      <td>...</td>\n",
       "      <td>...</td>\n",
       "      <td>...</td>\n",
       "      <td>...</td>\n",
       "      <td>...</td>\n",
       "      <td>...</td>\n",
       "      <td>...</td>\n",
       "      <td>...</td>\n",
       "      <td>...</td>\n",
       "      <td>...</td>\n",
       "    </tr>\n",
       "    <tr>\n",
       "      <th>6556</th>\n",
       "      <td>1</td>\n",
       "      <td>1</td>\n",
       "      <td>1</td>\n",
       "      <td>1</td>\n",
       "      <td>1</td>\n",
       "      <td>1</td>\n",
       "      <td>0</td>\n",
       "      <td>0</td>\n",
       "      <td>1</td>\n",
       "      <td>0</td>\n",
       "      <td>0</td>\n",
       "      <td>0</td>\n",
       "      <td>0</td>\n",
       "      <td>0</td>\n",
       "      <td>0</td>\n",
       "      <td>0</td>\n",
       "    </tr>\n",
       "    <tr>\n",
       "      <th>6557</th>\n",
       "      <td>1</td>\n",
       "      <td>1</td>\n",
       "      <td>1</td>\n",
       "      <td>1</td>\n",
       "      <td>1</td>\n",
       "      <td>1</td>\n",
       "      <td>0</td>\n",
       "      <td>0</td>\n",
       "      <td>1</td>\n",
       "      <td>1</td>\n",
       "      <td>0</td>\n",
       "      <td>0</td>\n",
       "      <td>0</td>\n",
       "      <td>0</td>\n",
       "      <td>0</td>\n",
       "      <td>0</td>\n",
       "    </tr>\n",
       "    <tr>\n",
       "      <th>6558</th>\n",
       "      <td>1</td>\n",
       "      <td>1</td>\n",
       "      <td>1</td>\n",
       "      <td>1</td>\n",
       "      <td>1</td>\n",
       "      <td>1</td>\n",
       "      <td>1</td>\n",
       "      <td>0</td>\n",
       "      <td>0</td>\n",
       "      <td>0</td>\n",
       "      <td>0</td>\n",
       "      <td>0</td>\n",
       "      <td>0</td>\n",
       "      <td>0</td>\n",
       "      <td>0</td>\n",
       "      <td>0</td>\n",
       "    </tr>\n",
       "    <tr>\n",
       "      <th>6559</th>\n",
       "      <td>1</td>\n",
       "      <td>1</td>\n",
       "      <td>1</td>\n",
       "      <td>1</td>\n",
       "      <td>1</td>\n",
       "      <td>1</td>\n",
       "      <td>1</td>\n",
       "      <td>0</td>\n",
       "      <td>0</td>\n",
       "      <td>0</td>\n",
       "      <td>1</td>\n",
       "      <td>0</td>\n",
       "      <td>0</td>\n",
       "      <td>0</td>\n",
       "      <td>0</td>\n",
       "      <td>0</td>\n",
       "    </tr>\n",
       "    <tr>\n",
       "      <th>6560</th>\n",
       "      <td>1</td>\n",
       "      <td>1</td>\n",
       "      <td>1</td>\n",
       "      <td>1</td>\n",
       "      <td>1</td>\n",
       "      <td>1</td>\n",
       "      <td>1</td>\n",
       "      <td>0</td>\n",
       "      <td>1</td>\n",
       "      <td>0</td>\n",
       "      <td>0</td>\n",
       "      <td>0</td>\n",
       "      <td>0</td>\n",
       "      <td>0</td>\n",
       "      <td>0</td>\n",
       "      <td>0</td>\n",
       "    </tr>\n",
       "  </tbody>\n",
       "</table>\n",
       "<p>6561 rows × 16 columns</p>\n",
       "</div>"
      ],
      "text/plain": [
       "      p_19  p_18  p_17  p_16  p_15  p_14  q_3  q_4  p_13  p_20  q_10  q_5   \n",
       "0        0     0     0     0     0     0    0    0     0     0     0    0  \\\n",
       "1        0     0     0     0     0     0    0    0     0     0     0    0   \n",
       "2        0     0     0     0     0     0    0    0     0     0     0    0   \n",
       "3        0     0     0     0     0     0    0    0     0     0     0    0   \n",
       "4        0     0     0     0     0     0    0    0     0     0     0    0   \n",
       "...    ...   ...   ...   ...   ...   ...  ...  ...   ...   ...   ...  ...   \n",
       "6556     1     1     1     1     1     1    0    0     1     0     0    0   \n",
       "6557     1     1     1     1     1     1    0    0     1     1     0    0   \n",
       "6558     1     1     1     1     1     1    1    0     0     0     0    0   \n",
       "6559     1     1     1     1     1     1    1    0     0     0     1    0   \n",
       "6560     1     1     1     1     1     1    1    0     1     0     0    0   \n",
       "\n",
       "      q_6  q_7  q_8  q_9  \n",
       "0       0    0    0    0  \n",
       "1       0    0    0    1  \n",
       "2       0    0    1    0  \n",
       "3       0    0    1    1  \n",
       "4       0    1    0    0  \n",
       "...   ...  ...  ...  ...  \n",
       "6556    0    0    0    0  \n",
       "6557    0    0    0    0  \n",
       "6558    0    0    0    0  \n",
       "6559    0    0    0    0  \n",
       "6560    0    0    0    0  \n",
       "\n",
       "[6561 rows x 16 columns]"
      ]
     },
     "metadata": {},
     "output_type": "display_data"
    }
   ],
   "source": [
    "superposition_tables = vqf.superposition_tables\n",
    "for table in superposition_tables:\n",
    "    display(table)"
   ]
  },
  {
   "cell_type": "code",
   "execution_count": 10,
   "metadata": {},
   "outputs": [
    {
     "data": {
      "text/html": [
       "<div>\n",
       "<style scoped>\n",
       "    .dataframe tbody tr th:only-of-type {\n",
       "        vertical-align: middle;\n",
       "    }\n",
       "\n",
       "    .dataframe tbody tr th {\n",
       "        vertical-align: top;\n",
       "    }\n",
       "\n",
       "    .dataframe thead th {\n",
       "        text-align: right;\n",
       "    }\n",
       "</style>\n",
       "<table border=\"1\" class=\"dataframe\">\n",
       "  <thead>\n",
       "    <tr style=\"text-align: right;\">\n",
       "      <th></th>\n",
       "      <th>q_1</th>\n",
       "      <th>q_2</th>\n",
       "      <th>p_2</th>\n",
       "    </tr>\n",
       "  </thead>\n",
       "  <tbody>\n",
       "    <tr>\n",
       "      <th>0</th>\n",
       "      <td>0</td>\n",
       "      <td>0</td>\n",
       "      <td>1</td>\n",
       "    </tr>\n",
       "    <tr>\n",
       "      <th>1</th>\n",
       "      <td>0</td>\n",
       "      <td>1</td>\n",
       "      <td>0</td>\n",
       "    </tr>\n",
       "    <tr>\n",
       "      <th>2</th>\n",
       "      <td>1</td>\n",
       "      <td>0</td>\n",
       "      <td>1</td>\n",
       "    </tr>\n",
       "    <tr>\n",
       "      <th>3</th>\n",
       "      <td>1</td>\n",
       "      <td>1</td>\n",
       "      <td>0</td>\n",
       "    </tr>\n",
       "  </tbody>\n",
       "</table>\n",
       "</div>"
      ],
      "text/plain": [
       "   q_1  q_2  p_2\n",
       "0    0    0    1\n",
       "1    0    1    0\n",
       "2    1    0    1\n",
       "3    1    1    0"
      ]
     },
     "execution_count": 10,
     "metadata": {},
     "output_type": "execute_result"
    }
   ],
   "source": [
    "best_table = vqf.best_superposition_table\n",
    "best_table"
   ]
  },
  {
   "cell_type": "code",
   "execution_count": null,
   "metadata": {},
   "outputs": [],
   "source": []
  }
 ],
 "metadata": {
  "kernelspec": {
   "display_name": ".venv",
   "language": "python",
   "name": "python3"
  },
  "language_info": {
   "codemirror_mode": {
    "name": "ipython",
    "version": 3
   },
   "file_extension": ".py",
   "mimetype": "text/x-python",
   "name": "python",
   "nbconvert_exporter": "python",
   "pygments_lexer": "ipython3",
   "version": "3.10.6"
  },
  "orig_nbformat": 4
 },
 "nbformat": 4,
 "nbformat_minor": 2
}
