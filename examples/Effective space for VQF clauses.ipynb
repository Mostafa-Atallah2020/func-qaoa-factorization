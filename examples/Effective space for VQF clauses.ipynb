{
 "cells": [
  {
   "cell_type": "code",
   "execution_count": 2,
   "metadata": {},
   "outputs": [],
   "source": [
    "from vqf.preprocessing import create_clauses\n",
    "from itertools import product\n",
    "import pandas as pd\n",
    "from IPython.display import display\n",
    "from sympy import simplify\n",
    "\n",
    "import sys\n",
    "sys.path.append(f'./../')\n",
    "from src.clause_utils import table_form"
   ]
  },
  {
   "cell_type": "code",
   "execution_count": 3,
   "metadata": {},
   "outputs": [
    {
     "data": {
      "text/latex": [
       "$\\displaystyle p_{0} q_{0} - 1$"
      ],
      "text/plain": [
       "p_0*q_0 - 1"
      ]
     },
     "metadata": {},
     "output_type": "display_data"
    },
    {
     "data": {
      "text/latex": [
       "$\\displaystyle p_{0} q_{1} + p_{1} q_{0} - 2 z_{1 2} - 4 z_{1 3} - 8 z_{1 4} - 16 z_{1 5} - 32 z_{1 6}$"
      ],
      "text/plain": [
       "p_0*q_1 + p_1*q_0 - 2*z_1_2 - 4*z_1_3 - 8*z_1_4 - 16*z_1_5 - 32*z_1_6"
      ]
     },
     "metadata": {},
     "output_type": "display_data"
    },
    {
     "data": {
      "text/latex": [
       "$\\displaystyle p_{0} q_{2} + p_{1} q_{1} + p_{2} q_{0} + z_{1 2} - 2 z_{2 3} - 4 z_{2 4} - 8 z_{2 5} - 16 z_{2 6} - 1$"
      ],
      "text/plain": [
       "p_0*q_2 + p_1*q_1 + p_2*q_0 + z_1_2 - 2*z_2_3 - 4*z_2_4 - 8*z_2_5 - 16*z_2_6 - 1"
      ]
     },
     "metadata": {},
     "output_type": "display_data"
    },
    {
     "data": {
      "text/latex": [
       "$\\displaystyle p_{0} q_{3} + p_{1} q_{2} + p_{2} q_{1} + p_{3} q_{0} + z_{1 3} + z_{2 3} - 2 z_{3 4} - 4 z_{3 5} - 8 z_{3 6} - 1$"
      ],
      "text/plain": [
       "p_0*q_3 + p_1*q_2 + p_2*q_1 + p_3*q_0 + z_1_3 + z_2_3 - 2*z_3_4 - 4*z_3_5 - 8*z_3_6 - 1"
      ]
     },
     "metadata": {},
     "output_type": "display_data"
    },
    {
     "data": {
      "text/latex": [
       "$\\displaystyle p_{1} q_{3} + p_{2} q_{2} + p_{3} q_{1} + p_{4} q_{0} + z_{1 4} + z_{2 4} + z_{3 4} - 2 z_{4 5} - 4 z_{4 6}$"
      ],
      "text/plain": [
       "p_1*q_3 + p_2*q_2 + p_3*q_1 + p_4*q_0 + z_1_4 + z_2_4 + z_3_4 - 2*z_4_5 - 4*z_4_6"
      ]
     },
     "metadata": {},
     "output_type": "display_data"
    },
    {
     "data": {
      "text/latex": [
       "$\\displaystyle p_{2} q_{3} + p_{3} q_{2} + p_{4} q_{1} + p_{5} q_{0} + z_{1 5} + z_{2 5} + z_{3 5} + z_{4 5} - 2 z_{5 6}$"
      ],
      "text/plain": [
       "p_2*q_3 + p_3*q_2 + p_4*q_1 + p_5*q_0 + z_1_5 + z_2_5 + z_3_5 + z_4_5 - 2*z_5_6"
      ]
     },
     "metadata": {},
     "output_type": "display_data"
    },
    {
     "data": {
      "text/latex": [
       "$\\displaystyle p_{3} q_{3} + p_{4} q_{2} + p_{5} q_{1} + p_{6} q_{0} + z_{1 6} + z_{2 6} + z_{3 6} + z_{4 6} + z_{5 6} - 1$"
      ],
      "text/plain": [
       "p_3*q_3 + p_4*q_2 + p_5*q_1 + p_6*q_0 + z_1_6 + z_2_6 + z_3_6 + z_4_6 + z_5_6 - 1"
      ]
     },
     "metadata": {},
     "output_type": "display_data"
    },
    {
     "data": {
      "text/latex": [
       "$\\displaystyle p_{4} q_{3} + p_{5} q_{2} + p_{6} q_{1}$"
      ],
      "text/plain": [
       "p_4*q_3 + p_5*q_2 + p_6*q_1"
      ]
     },
     "metadata": {},
     "output_type": "display_data"
    },
    {
     "data": {
      "text/latex": [
       "$\\displaystyle p_{5} q_{3} + p_{6} q_{2}$"
      ],
      "text/plain": [
       "p_5*q_3 + p_6*q_2"
      ]
     },
     "metadata": {},
     "output_type": "display_data"
    },
    {
     "data": {
      "text/latex": [
       "$\\displaystyle p_{6} q_{3}$"
      ],
      "text/plain": [
       "p_6*q_3"
      ]
     },
     "metadata": {},
     "output_type": "display_data"
    }
   ],
   "source": [
    "p = 11\n",
    "q = 7\n",
    "m = p * q\n",
    "\n",
    "p_bits, q_bits, z_bits, clauses = create_clauses(\n",
    "    m, apply_preprocessing=False, verbose=False\n",
    ")\n",
    "\n",
    "for c in clauses:\n",
    "    display(c)"
   ]
  },
  {
   "cell_type": "code",
   "execution_count": 4,
   "metadata": {},
   "outputs": [
    {
     "data": {
      "text/latex": [
       "$\\displaystyle 0$"
      ],
      "text/plain": [
       "0"
      ]
     },
     "metadata": {},
     "output_type": "display_data"
    },
    {
     "data": {
      "text/latex": [
       "$\\displaystyle 0$"
      ],
      "text/plain": [
       "0"
      ]
     },
     "metadata": {},
     "output_type": "display_data"
    },
    {
     "data": {
      "text/latex": [
       "$\\displaystyle p_{2} + 2 q_{1} + q_{2} - 2 z_{2 3} - 1$"
      ],
      "text/plain": [
       "p_2 + 2*q_1 + q_2 - 2*z_2_3 - 1"
      ]
     },
     "metadata": {},
     "output_type": "display_data"
    },
    {
     "data": {
      "text/latex": [
       "$\\displaystyle p_{2} q_{1} + p_{3} + q_{1} q_{2} + q_{3} + z_{2 3} - 2 z_{3 4} - 4 z_{3 5} - 1$"
      ],
      "text/plain": [
       "p_2*q_1 + p_3 + q_1*q_2 + q_3 + z_2_3 - 2*z_3_4 - 4*z_3_5 - 1"
      ]
     },
     "metadata": {},
     "output_type": "display_data"
    },
    {
     "data": {
      "text/latex": [
       "$\\displaystyle p_{2} q_{2} + p_{3} q_{1} + p_{4} + q_{1} q_{3} + z_{3 4} - 2 z_{4 5} - 4 z_{4 6}$"
      ],
      "text/plain": [
       "p_2*q_2 + p_3*q_1 + p_4 + q_1*q_3 + z_3_4 - 2*z_4_5 - 4*z_4_6"
      ]
     },
     "metadata": {},
     "output_type": "display_data"
    },
    {
     "data": {
      "text/latex": [
       "$\\displaystyle p_{2} q_{3} + p_{3} q_{2} + p_{4} q_{1} + p_{5} + z_{3 5} + z_{4 5} - 2 z_{5 6}$"
      ],
      "text/plain": [
       "p_2*q_3 + p_3*q_2 + p_4*q_1 + p_5 + z_3_5 + z_4_5 - 2*z_5_6"
      ]
     },
     "metadata": {},
     "output_type": "display_data"
    },
    {
     "data": {
      "text/latex": [
       "$\\displaystyle p_{3} q_{3} + p_{4} q_{2} + p_{5} q_{1} + p_{6} + z_{4 6} + z_{5 6} - 1$"
      ],
      "text/plain": [
       "p_3*q_3 + p_4*q_2 + p_5*q_1 + p_6 + z_4_6 + z_5_6 - 1"
      ]
     },
     "metadata": {},
     "output_type": "display_data"
    },
    {
     "data": {
      "text/latex": [
       "$\\displaystyle p_{4} q_{3} + p_{5} q_{2} + p_{6} q_{1}$"
      ],
      "text/plain": [
       "p_4*q_3 + p_5*q_2 + p_6*q_1"
      ]
     },
     "metadata": {},
     "output_type": "display_data"
    },
    {
     "data": {
      "text/latex": [
       "$\\displaystyle p_{5} q_{3} + p_{6} q_{2}$"
      ],
      "text/plain": [
       "p_5*q_3 + p_6*q_2"
      ]
     },
     "metadata": {},
     "output_type": "display_data"
    },
    {
     "data": {
      "text/latex": [
       "$\\displaystyle p_{6} q_{3}$"
      ],
      "text/plain": [
       "p_6*q_3"
      ]
     },
     "metadata": {},
     "output_type": "display_data"
    }
   ],
   "source": [
    "p_bits_simple, q_bits_simple, z_bits_simple, simplified_clauses = create_clauses(\n",
    "    m, apply_preprocessing=True, verbose=False\n",
    ")\n",
    "\n",
    "for c in simplified_clauses:\n",
    "    display(c)"
   ]
  },
  {
   "cell_type": "code",
   "execution_count": 5,
   "metadata": {},
   "outputs": [
    {
     "data": {
      "text/latex": [
       "$\\displaystyle p_{6} q_{3}$"
      ],
      "text/plain": [
       "p_6*q_3"
      ]
     },
     "metadata": {},
     "output_type": "display_data"
    },
    {
     "data": {
      "text/latex": [
       "$\\displaystyle p_{2} + 2 q_{1} + q_{2} - 2 z_{2 3} - 1$"
      ],
      "text/plain": [
       "p_2 + 2*q_1 + q_2 - 2*z_2_3 - 1"
      ]
     },
     "metadata": {},
     "output_type": "display_data"
    }
   ],
   "source": [
    "def max_disjoint_sets(sets):\n",
    "    \"\"\"\n",
    "    Finds the maximum number of disjoint sets from a given list of sets.\n",
    "\n",
    "    Args:\n",
    "    -----\n",
    "\n",
    "        `sets` (`list`): A list of sets.\n",
    "\n",
    "    Returns:\n",
    "    --------\n",
    "\n",
    "        `tuple`: A tuple containing the disjoint sets themselves, and their indices in the original list.\n",
    "\n",
    "    Raises:\n",
    "    --------\n",
    "\n",
    "        `ValueError`: If the maximum number of disjoint sets is 1, indicating that no disjoint sets were found.\n",
    "    \"\"\"\n",
    "\n",
    "    # Sort the list of sets in increasing order of their sizes\n",
    "    sorted_set = sorted(sets, key=len, reverse=False)\n",
    "\n",
    "    # Initialize an empty list to store the disjoint sets\n",
    "    disjoint_sets = []\n",
    "\n",
    "    # Iterate over the sorted list of sets\n",
    "    for i, s in enumerate(sorted_set):\n",
    "        # Check if the current set intersects with any of the sets in the disjoint sets list\n",
    "        if not any(s.intersection(ds) for ds in disjoint_sets):\n",
    "            # If not, add it to the disjoint sets list\n",
    "            if s:\n",
    "                disjoint_sets.append(s)\n",
    "\n",
    "    max_num_sets = len(disjoint_sets)\n",
    "\n",
    "    if max_num_sets == 1:\n",
    "        raise ValueError(\"No disjoint sets found. Choose another set of sets.\")\n",
    "\n",
    "    # Get the indices of the disjoint sets in the original list\n",
    "    indices = [sets.index(ds) for ds in disjoint_sets]\n",
    "\n",
    "    # Return the disjoint sets along with their indices in the original list\n",
    "    return disjoint_sets, indices\n",
    "\n",
    "def get_disjoint_clauses(simplified_clauses):\n",
    "    disjoint_clauses = []\n",
    "    var_sets = [c.free_symbols for c in simplified_clauses]\n",
    "    disjoint_sets, indices = max_disjoint_sets(var_sets)\n",
    "\n",
    "    for i in indices:\n",
    "        disjoint_clauses.append(simplified_clauses[i])\n",
    "    \n",
    "    return disjoint_clauses\n",
    "\n",
    "disjoint_clauses = get_disjoint_clauses(simplified_clauses)\n",
    "\n",
    "for c in disjoint_clauses:\n",
    "    display(c)"
   ]
  },
  {
   "cell_type": "code",
   "execution_count": 6,
   "metadata": {},
   "outputs": [
    {
     "data": {
      "text/html": [
       "<div>\n",
       "<style scoped>\n",
       "    .dataframe tbody tr th:only-of-type {\n",
       "        vertical-align: middle;\n",
       "    }\n",
       "\n",
       "    .dataframe tbody tr th {\n",
       "        vertical-align: top;\n",
       "    }\n",
       "\n",
       "    .dataframe thead th {\n",
       "        text-align: right;\n",
       "    }\n",
       "</style>\n",
       "<table border=\"1\" class=\"dataframe\">\n",
       "  <thead>\n",
       "    <tr style=\"text-align: right;\">\n",
       "      <th></th>\n",
       "      <th>p_6</th>\n",
       "      <th>q_3</th>\n",
       "    </tr>\n",
       "  </thead>\n",
       "  <tbody>\n",
       "    <tr>\n",
       "      <th>0</th>\n",
       "      <td>0</td>\n",
       "      <td>0</td>\n",
       "    </tr>\n",
       "    <tr>\n",
       "      <th>1</th>\n",
       "      <td>0</td>\n",
       "      <td>1</td>\n",
       "    </tr>\n",
       "    <tr>\n",
       "      <th>2</th>\n",
       "      <td>1</td>\n",
       "      <td>0</td>\n",
       "    </tr>\n",
       "  </tbody>\n",
       "</table>\n",
       "</div>"
      ],
      "text/plain": [
       "   p_6  q_3\n",
       "0    0    0\n",
       "1    0    1\n",
       "2    1    0"
      ]
     },
     "metadata": {},
     "output_type": "display_data"
    },
    {
     "data": {
      "text/html": [
       "<div>\n",
       "<style scoped>\n",
       "    .dataframe tbody tr th:only-of-type {\n",
       "        vertical-align: middle;\n",
       "    }\n",
       "\n",
       "    .dataframe tbody tr th {\n",
       "        vertical-align: top;\n",
       "    }\n",
       "\n",
       "    .dataframe thead th {\n",
       "        text-align: right;\n",
       "    }\n",
       "</style>\n",
       "<table border=\"1\" class=\"dataframe\">\n",
       "  <thead>\n",
       "    <tr style=\"text-align: right;\">\n",
       "      <th></th>\n",
       "      <th>q_2</th>\n",
       "      <th>p_2</th>\n",
       "      <th>q_1</th>\n",
       "      <th>z_2_3</th>\n",
       "    </tr>\n",
       "  </thead>\n",
       "  <tbody>\n",
       "    <tr>\n",
       "      <th>0</th>\n",
       "      <td>0</td>\n",
       "      <td>1</td>\n",
       "      <td>0</td>\n",
       "      <td>0</td>\n",
       "    </tr>\n",
       "    <tr>\n",
       "      <th>1</th>\n",
       "      <td>0</td>\n",
       "      <td>1</td>\n",
       "      <td>1</td>\n",
       "      <td>1</td>\n",
       "    </tr>\n",
       "    <tr>\n",
       "      <th>2</th>\n",
       "      <td>1</td>\n",
       "      <td>0</td>\n",
       "      <td>0</td>\n",
       "      <td>0</td>\n",
       "    </tr>\n",
       "    <tr>\n",
       "      <th>3</th>\n",
       "      <td>1</td>\n",
       "      <td>0</td>\n",
       "      <td>1</td>\n",
       "      <td>1</td>\n",
       "    </tr>\n",
       "  </tbody>\n",
       "</table>\n",
       "</div>"
      ],
      "text/plain": [
       "   q_2  p_2  q_1  z_2_3\n",
       "0    0    1    0      0\n",
       "1    0    1    1      1\n",
       "2    1    0    0      0\n",
       "3    1    0    1      1"
      ]
     },
     "metadata": {},
     "output_type": "display_data"
    }
   ],
   "source": [
    "def reduce_space(expr):\n",
    "    variables = list(expr.free_symbols)\n",
    "    values = product(range(2), repeat=len(variables))\n",
    "    reduced_space = []\n",
    "    for v in values:\n",
    "        subs_dict = dict(zip(variables, v))\n",
    "        subs_expr = expr.subs(subs_dict)\n",
    "        if simplify(subs_expr) == 0:\n",
    "            reduced_space.append(v)\n",
    "    return variables, reduced_space\n",
    "\n",
    "frames = []\n",
    "for c in disjoint_clauses:\n",
    "    variables, reduced_space = reduce_space(c)\n",
    "    df = pd.DataFrame(reduced_space, columns=variables)\n",
    "    frames.append(df)\n",
    "\n",
    "for df in frames:\n",
    "    display(df)"
   ]
  },
  {
   "cell_type": "code",
   "execution_count": 7,
   "metadata": {},
   "outputs": [
    {
     "data": {
      "text/html": [
       "<div>\n",
       "<style scoped>\n",
       "    .dataframe tbody tr th:only-of-type {\n",
       "        vertical-align: middle;\n",
       "    }\n",
       "\n",
       "    .dataframe tbody tr th {\n",
       "        vertical-align: top;\n",
       "    }\n",
       "\n",
       "    .dataframe thead th {\n",
       "        text-align: right;\n",
       "    }\n",
       "</style>\n",
       "<table border=\"1\" class=\"dataframe\">\n",
       "  <thead>\n",
       "    <tr style=\"text-align: right;\">\n",
       "      <th></th>\n",
       "      <th>p_6</th>\n",
       "      <th>q_3</th>\n",
       "    </tr>\n",
       "  </thead>\n",
       "  <tbody>\n",
       "    <tr>\n",
       "      <th>0</th>\n",
       "      <td>0</td>\n",
       "      <td>0</td>\n",
       "    </tr>\n",
       "    <tr>\n",
       "      <th>1</th>\n",
       "      <td>0</td>\n",
       "      <td>1</td>\n",
       "    </tr>\n",
       "    <tr>\n",
       "      <th>2</th>\n",
       "      <td>1</td>\n",
       "      <td>0</td>\n",
       "    </tr>\n",
       "  </tbody>\n",
       "</table>\n",
       "</div>"
      ],
      "text/plain": [
       "   p_6  q_3\n",
       "0    0    0\n",
       "1    0    1\n",
       "2    1    0"
      ]
     },
     "metadata": {},
     "output_type": "display_data"
    },
    {
     "data": {
      "text/html": [
       "<div>\n",
       "<style scoped>\n",
       "    .dataframe tbody tr th:only-of-type {\n",
       "        vertical-align: middle;\n",
       "    }\n",
       "\n",
       "    .dataframe tbody tr th {\n",
       "        vertical-align: top;\n",
       "    }\n",
       "\n",
       "    .dataframe thead th {\n",
       "        text-align: right;\n",
       "    }\n",
       "</style>\n",
       "<table border=\"1\" class=\"dataframe\">\n",
       "  <thead>\n",
       "    <tr style=\"text-align: right;\">\n",
       "      <th></th>\n",
       "      <th>q_2</th>\n",
       "      <th>p_2</th>\n",
       "      <th>q_1</th>\n",
       "    </tr>\n",
       "  </thead>\n",
       "  <tbody>\n",
       "    <tr>\n",
       "      <th>0</th>\n",
       "      <td>0</td>\n",
       "      <td>1</td>\n",
       "      <td>0</td>\n",
       "    </tr>\n",
       "    <tr>\n",
       "      <th>1</th>\n",
       "      <td>0</td>\n",
       "      <td>1</td>\n",
       "      <td>1</td>\n",
       "    </tr>\n",
       "    <tr>\n",
       "      <th>2</th>\n",
       "      <td>1</td>\n",
       "      <td>0</td>\n",
       "      <td>0</td>\n",
       "    </tr>\n",
       "    <tr>\n",
       "      <th>3</th>\n",
       "      <td>1</td>\n",
       "      <td>0</td>\n",
       "      <td>1</td>\n",
       "    </tr>\n",
       "  </tbody>\n",
       "</table>\n",
       "</div>"
      ],
      "text/plain": [
       "   q_2  p_2  q_1\n",
       "0    0    1    0\n",
       "1    0    1    1\n",
       "2    1    0    0\n",
       "3    1    0    1"
      ]
     },
     "metadata": {},
     "output_type": "display_data"
    }
   ],
   "source": [
    "def process_dataframe(df):\n",
    "    # Remove columns starting with \"z_\"\n",
    "    df = df.filter(regex=r'^(?!z_)')\n",
    "    \n",
    "    # Remove duplicate rows\n",
    "    df = df.drop_duplicates()\n",
    "    \n",
    "    return df\n",
    "\n",
    "for df in frames:\n",
    "    df = process_dataframe(df)\n",
    "    display(df)"
   ]
  },
  {
   "cell_type": "code",
   "execution_count": 9,
   "metadata": {},
   "outputs": [
    {
     "data": {
      "text/plain": [
       "{0: p_0, 1: p_1, 2: p_2, 3: p_3, 4: p_4, 5: p_5, 6: p_6}"
      ]
     },
     "execution_count": 9,
     "metadata": {},
     "output_type": "execute_result"
    }
   ],
   "source": [
    "p_bits"
   ]
  },
  {
   "cell_type": "code",
   "execution_count": 10,
   "metadata": {},
   "outputs": [
    {
     "data": {
      "text/plain": [
       "{0: 1, 1: q_1, 2: p_2, 3: p_3, 4: p_4, 5: p_5, 6: p_6}"
      ]
     },
     "execution_count": 10,
     "metadata": {},
     "output_type": "execute_result"
    }
   ],
   "source": [
    "p_bits_simple"
   ]
  },
  {
   "cell_type": "code",
   "execution_count": 11,
   "metadata": {},
   "outputs": [],
   "source": [
    "def create_merged_dict(dict1, dict2):\n",
    "    \"\"\"\n",
    "    Create a new dictionary by merging values from two dictionaries.\n",
    "\n",
    "    The function takes two dictionaries as input and returns a new dictionary\n",
    "    where the keys are the values from the first dictionary and the values are\n",
    "    the corresponding values from the second dictionary.\n",
    "\n",
    "    Args:\n",
    "    -----\n",
    "\n",
    "        `dict1` (`dict`): The first dictionary.\n",
    "        `dict2` (`dict`): The second dictionary.\n",
    "\n",
    "    Returns:\n",
    "    --------\n",
    "\n",
    "        `dict`: A new dictionary with merged values.\n",
    "\n",
    "    Examples:\n",
    "    ---------\n",
    "\n",
    "        >>> dict1 = {'apple': 'fruit', 'carrot': 'vegetable', 'banana': 'fruit'}\n",
    "        >>> dict2 = {'fruit': 'red', 'vegetable': 'orange'}\n",
    "        >>> merged_dict = create_merged_dictionary(dict1, dict2)\n",
    "        >>> merged_dict\n",
    "        {'fruit': 'red', 'vegetable': 'orange'}\n",
    "    \"\"\"\n",
    "    merged_dict = {}\n",
    "    for key, value in dict1.items():\n",
    "        merged_dict[value] = dict2[key]\n",
    "    return merged_dict\n",
    "\n",
    "p_bits = create_merged_dict(p_bits, p_bits_simple)\n",
    "q_bits = create_merged_dict(q_bits, q_bits_simple)"
   ]
  },
  {
   "cell_type": "code",
   "execution_count": 12,
   "metadata": {},
   "outputs": [
    {
     "name": "stdout",
     "output_type": "stream",
     "text": [
      "Key    Value\n",
      "-----  -------\n",
      "p_0    1\n",
      "p_1    q_1\n",
      "p_2    p_2\n",
      "p_3    p_3\n",
      "p_4    p_4\n",
      "p_5    p_5\n",
      "p_6    p_6\n"
     ]
    }
   ],
   "source": [
    "table_form(p_bits)"
   ]
  },
  {
   "cell_type": "code",
   "execution_count": 13,
   "metadata": {},
   "outputs": [
    {
     "name": "stdout",
     "output_type": "stream",
     "text": [
      "Key    Value\n",
      "-----  -------\n",
      "q_0    1\n",
      "q_1    q_1\n",
      "q_2    q_2\n",
      "q_3    q_3\n"
     ]
    }
   ],
   "source": [
    "table_form(q_bits)"
   ]
  }
 ],
 "metadata": {
  "kernelspec": {
   "display_name": ".venv",
   "language": "python",
   "name": "python3"
  },
  "language_info": {
   "codemirror_mode": {
    "name": "ipython",
    "version": 3
   },
   "file_extension": ".py",
   "mimetype": "text/x-python",
   "name": "python",
   "nbconvert_exporter": "python",
   "pygments_lexer": "ipython3",
   "version": "3.10.6"
  },
  "orig_nbformat": 4
 },
 "nbformat": 4,
 "nbformat_minor": 2
}
