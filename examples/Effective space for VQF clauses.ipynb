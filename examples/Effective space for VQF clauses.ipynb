{
 "cells": [
  {
   "cell_type": "code",
   "execution_count": 11,
   "metadata": {},
   "outputs": [],
   "source": [
    "from vqf.preprocessing import *\n",
    "from itertools import product\n",
    "import pandas as pd\n",
    "from IPython.display import display\n",
    "from sympy import simplify"
   ]
  },
  {
   "cell_type": "code",
   "execution_count": 12,
   "metadata": {},
   "outputs": [
    {
     "data": {
      "text/latex": [
       "$\\displaystyle p_{0} q_{0} - 1$"
      ],
      "text/plain": [
       "p_0*q_0 - 1"
      ]
     },
     "metadata": {},
     "output_type": "display_data"
    },
    {
     "data": {
      "text/latex": [
       "$\\displaystyle p_{0} q_{1} + p_{1} q_{0} - 2 z_{1 2} - 4 z_{1 3} - 8 z_{1 4} - 16 z_{1 5} - 32 z_{1 6} - 64 z_{1 7} - 1$"
      ],
      "text/plain": [
       "p_0*q_1 + p_1*q_0 - 2*z_1_2 - 4*z_1_3 - 8*z_1_4 - 16*z_1_5 - 32*z_1_6 - 64*z_1_7 - 1"
      ]
     },
     "metadata": {},
     "output_type": "display_data"
    },
    {
     "data": {
      "text/latex": [
       "$\\displaystyle p_{0} q_{2} + p_{1} q_{1} + p_{2} q_{0} + z_{1 2} - 2 z_{2 3} - 4 z_{2 4} - 8 z_{2 5} - 16 z_{2 6} - 32 z_{2 7} - 1$"
      ],
      "text/plain": [
       "p_0*q_2 + p_1*q_1 + p_2*q_0 + z_1_2 - 2*z_2_3 - 4*z_2_4 - 8*z_2_5 - 16*z_2_6 - 32*z_2_7 - 1"
      ]
     },
     "metadata": {},
     "output_type": "display_data"
    },
    {
     "data": {
      "text/latex": [
       "$\\displaystyle p_{0} q_{3} + p_{1} q_{2} + p_{2} q_{1} + p_{3} q_{0} + z_{1 3} + z_{2 3} - 2 z_{3 4} - 4 z_{3 5} - 8 z_{3 6} - 16 z_{3 7} - 1$"
      ],
      "text/plain": [
       "p_0*q_3 + p_1*q_2 + p_2*q_1 + p_3*q_0 + z_1_3 + z_2_3 - 2*z_3_4 - 4*z_3_5 - 8*z_3_6 - 16*z_3_7 - 1"
      ]
     },
     "metadata": {},
     "output_type": "display_data"
    },
    {
     "data": {
      "text/latex": [
       "$\\displaystyle p_{1} q_{3} + p_{2} q_{2} + p_{3} q_{1} + p_{4} q_{0} + z_{1 4} + z_{2 4} + z_{3 4} - 2 z_{4 5} - 4 z_{4 6} - 8 z_{4 7}$"
      ],
      "text/plain": [
       "p_1*q_3 + p_2*q_2 + p_3*q_1 + p_4*q_0 + z_1_4 + z_2_4 + z_3_4 - 2*z_4_5 - 4*z_4_6 - 8*z_4_7"
      ]
     },
     "metadata": {},
     "output_type": "display_data"
    },
    {
     "data": {
      "text/latex": [
       "$\\displaystyle p_{2} q_{3} + p_{3} q_{2} + p_{4} q_{1} + p_{5} q_{0} + z_{1 5} + z_{2 5} + z_{3 5} + z_{4 5} - 2 z_{5 6} - 4 z_{5 7}$"
      ],
      "text/plain": [
       "p_2*q_3 + p_3*q_2 + p_4*q_1 + p_5*q_0 + z_1_5 + z_2_5 + z_3_5 + z_4_5 - 2*z_5_6 - 4*z_5_7"
      ]
     },
     "metadata": {},
     "output_type": "display_data"
    },
    {
     "data": {
      "text/latex": [
       "$\\displaystyle p_{3} q_{3} + p_{4} q_{2} + p_{5} q_{1} + p_{6} q_{0} + z_{1 6} + z_{2 6} + z_{3 6} + z_{4 6} + z_{5 6} - 2 z_{6 7}$"
      ],
      "text/plain": [
       "p_3*q_3 + p_4*q_2 + p_5*q_1 + p_6*q_0 + z_1_6 + z_2_6 + z_3_6 + z_4_6 + z_5_6 - 2*z_6_7"
      ]
     },
     "metadata": {},
     "output_type": "display_data"
    },
    {
     "data": {
      "text/latex": [
       "$\\displaystyle p_{4} q_{3} + p_{5} q_{2} + p_{6} q_{1} + p_{7} q_{0} + z_{1 7} + z_{2 7} + z_{3 7} + z_{4 7} + z_{5 7} + z_{6 7} - 1$"
      ],
      "text/plain": [
       "p_4*q_3 + p_5*q_2 + p_6*q_1 + p_7*q_0 + z_1_7 + z_2_7 + z_3_7 + z_4_7 + z_5_7 + z_6_7 - 1"
      ]
     },
     "metadata": {},
     "output_type": "display_data"
    },
    {
     "data": {
      "text/latex": [
       "$\\displaystyle p_{5} q_{3} + p_{6} q_{2} + p_{7} q_{1}$"
      ],
      "text/plain": [
       "p_5*q_3 + p_6*q_2 + p_7*q_1"
      ]
     },
     "metadata": {},
     "output_type": "display_data"
    },
    {
     "data": {
      "text/latex": [
       "$\\displaystyle p_{6} q_{3} + p_{7} q_{2}$"
      ],
      "text/plain": [
       "p_6*q_3 + p_7*q_2"
      ]
     },
     "metadata": {},
     "output_type": "display_data"
    },
    {
     "data": {
      "text/latex": [
       "$\\displaystyle p_{7} q_{3}$"
      ],
      "text/plain": [
       "p_7*q_3"
      ]
     },
     "metadata": {},
     "output_type": "display_data"
    }
   ],
   "source": [
    "p = 11\n",
    "q = 13\n",
    "m = p * q\n",
    "\n",
    "_, _, _, clauses = create_clauses(m, apply_preprocessing=False, verbose=False)\n",
    "\n",
    "for c in clauses:\n",
    "    display(c)"
   ]
  },
  {
   "cell_type": "code",
   "execution_count": 13,
   "metadata": {},
   "outputs": [
    {
     "data": {
      "text/latex": [
       "$\\displaystyle 0$"
      ],
      "text/plain": [
       "0"
      ]
     },
     "metadata": {},
     "output_type": "display_data"
    },
    {
     "data": {
      "text/latex": [
       "$\\displaystyle 0$"
      ],
      "text/plain": [
       "0"
      ]
     },
     "metadata": {},
     "output_type": "display_data"
    },
    {
     "data": {
      "text/latex": [
       "$\\displaystyle 0$"
      ],
      "text/plain": [
       "0"
      ]
     },
     "metadata": {},
     "output_type": "display_data"
    },
    {
     "data": {
      "text/latex": [
       "$\\displaystyle p_{3} - 2 q_{1} q_{2} + q_{1} + q_{2} + q_{3} - 2 z_{3 4} - 1$"
      ],
      "text/plain": [
       "p_3 - 2*q_1*q_2 + q_1 + q_2 + q_3 - 2*z_3_4 - 1"
      ]
     },
     "metadata": {},
     "output_type": "display_data"
    },
    {
     "data": {
      "text/latex": [
       "$\\displaystyle p_{3} q_{1} + p_{4} - q_{1} q_{3} + q_{3} + z_{3 4} - 2 z_{4 5} - 4 z_{4 6}$"
      ],
      "text/plain": [
       "p_3*q_1 + p_4 - q_1*q_3 + q_3 + z_3_4 - 2*z_4_5 - 4*z_4_6"
      ]
     },
     "metadata": {},
     "output_type": "display_data"
    },
    {
     "data": {
      "text/latex": [
       "$\\displaystyle p_{3} q_{2} + p_{4} q_{1} + p_{5} - q_{2} q_{3} + q_{3} + z_{4 5} - 2 z_{5 6} - 4 z_{5 7}$"
      ],
      "text/plain": [
       "p_3*q_2 + p_4*q_1 + p_5 - q_2*q_3 + q_3 + z_4_5 - 2*z_5_6 - 4*z_5_7"
      ]
     },
     "metadata": {},
     "output_type": "display_data"
    },
    {
     "data": {
      "text/latex": [
       "$\\displaystyle p_{3} q_{3} + p_{4} q_{2} + p_{5} q_{1} + p_{6} + z_{4 6} + z_{5 6} - 2 z_{6 7}$"
      ],
      "text/plain": [
       "p_3*q_3 + p_4*q_2 + p_5*q_1 + p_6 + z_4_6 + z_5_6 - 2*z_6_7"
      ]
     },
     "metadata": {},
     "output_type": "display_data"
    },
    {
     "data": {
      "text/latex": [
       "$\\displaystyle p_{4} q_{3} + p_{5} q_{2} + p_{6} q_{1} + p_{7} + z_{5 7} + z_{6 7} - 1$"
      ],
      "text/plain": [
       "p_4*q_3 + p_5*q_2 + p_6*q_1 + p_7 + z_5_7 + z_6_7 - 1"
      ]
     },
     "metadata": {},
     "output_type": "display_data"
    },
    {
     "data": {
      "text/latex": [
       "$\\displaystyle p_{5} q_{3} + p_{6} q_{2} + p_{7} q_{1}$"
      ],
      "text/plain": [
       "p_5*q_3 + p_6*q_2 + p_7*q_1"
      ]
     },
     "metadata": {},
     "output_type": "display_data"
    },
    {
     "data": {
      "text/latex": [
       "$\\displaystyle p_{6} q_{3} + p_{7} q_{2}$"
      ],
      "text/plain": [
       "p_6*q_3 + p_7*q_2"
      ]
     },
     "metadata": {},
     "output_type": "display_data"
    },
    {
     "data": {
      "text/latex": [
       "$\\displaystyle p_{7} q_{3}$"
      ],
      "text/plain": [
       "p_7*q_3"
      ]
     },
     "metadata": {},
     "output_type": "display_data"
    }
   ],
   "source": [
    "_, _, _, simplified_clauses = create_clauses(m, apply_preprocessing=True, verbose=False)\n",
    "for c in simplified_clauses:\n",
    "    display(c)"
   ]
  },
  {
   "cell_type": "code",
   "execution_count": 14,
   "metadata": {},
   "outputs": [],
   "source": [
    "def ignore_z_terms(clause):\n",
    "    # Create a dictionary to substitute z terms with 0\n",
    "    subs_dict = {var: 0 for var in clause.free_symbols if str(var).startswith(\"z_\")}\n",
    "\n",
    "    # Substitute z terms with 0 in the expression\n",
    "    final_clause = clause.subs(subs_dict)\n",
    "    return final_clause\n",
    "\n",
    "\n",
    "non_z_clauses = []\n",
    "for c in simplified_clauses:\n",
    "    final_clause = ignore_z_terms(c)\n",
    "    non_z_clauses.append(final_clause)"
   ]
  },
  {
   "cell_type": "code",
   "execution_count": 15,
   "metadata": {},
   "outputs": [
    {
     "data": {
      "text/latex": [
       "$\\displaystyle 0$"
      ],
      "text/plain": [
       "0"
      ]
     },
     "metadata": {},
     "output_type": "display_data"
    },
    {
     "data": {
      "text/latex": [
       "$\\displaystyle 0$"
      ],
      "text/plain": [
       "0"
      ]
     },
     "metadata": {},
     "output_type": "display_data"
    },
    {
     "data": {
      "text/latex": [
       "$\\displaystyle 0$"
      ],
      "text/plain": [
       "0"
      ]
     },
     "metadata": {},
     "output_type": "display_data"
    },
    {
     "data": {
      "text/latex": [
       "$\\displaystyle p_{3} - 2 q_{1} q_{2} + q_{1} + q_{2} + q_{3} - 1$"
      ],
      "text/plain": [
       "p_3 - 2*q_1*q_2 + q_1 + q_2 + q_3 - 1"
      ]
     },
     "metadata": {},
     "output_type": "display_data"
    },
    {
     "data": {
      "text/latex": [
       "$\\displaystyle p_{3} q_{1} + p_{4} - q_{1} q_{3} + q_{3}$"
      ],
      "text/plain": [
       "p_3*q_1 + p_4 - q_1*q_3 + q_3"
      ]
     },
     "metadata": {},
     "output_type": "display_data"
    },
    {
     "data": {
      "text/latex": [
       "$\\displaystyle p_{3} q_{2} + p_{4} q_{1} + p_{5} - q_{2} q_{3} + q_{3}$"
      ],
      "text/plain": [
       "p_3*q_2 + p_4*q_1 + p_5 - q_2*q_3 + q_3"
      ]
     },
     "metadata": {},
     "output_type": "display_data"
    },
    {
     "data": {
      "text/latex": [
       "$\\displaystyle p_{3} q_{3} + p_{4} q_{2} + p_{5} q_{1} + p_{6}$"
      ],
      "text/plain": [
       "p_3*q_3 + p_4*q_2 + p_5*q_1 + p_6"
      ]
     },
     "metadata": {},
     "output_type": "display_data"
    },
    {
     "data": {
      "text/latex": [
       "$\\displaystyle p_{4} q_{3} + p_{5} q_{2} + p_{6} q_{1} + p_{7} - 1$"
      ],
      "text/plain": [
       "p_4*q_3 + p_5*q_2 + p_6*q_1 + p_7 - 1"
      ]
     },
     "metadata": {},
     "output_type": "display_data"
    },
    {
     "data": {
      "text/latex": [
       "$\\displaystyle p_{5} q_{3} + p_{6} q_{2} + p_{7} q_{1}$"
      ],
      "text/plain": [
       "p_5*q_3 + p_6*q_2 + p_7*q_1"
      ]
     },
     "metadata": {},
     "output_type": "display_data"
    },
    {
     "data": {
      "text/latex": [
       "$\\displaystyle p_{6} q_{3} + p_{7} q_{2}$"
      ],
      "text/plain": [
       "p_6*q_3 + p_7*q_2"
      ]
     },
     "metadata": {},
     "output_type": "display_data"
    },
    {
     "data": {
      "text/latex": [
       "$\\displaystyle p_{7} q_{3}$"
      ],
      "text/plain": [
       "p_7*q_3"
      ]
     },
     "metadata": {},
     "output_type": "display_data"
    }
   ],
   "source": [
    "for c in non_z_clauses:\n",
    "    display(c)"
   ]
  },
  {
   "cell_type": "code",
   "execution_count": 16,
   "metadata": {},
   "outputs": [],
   "source": [
    "def reduce_space(expr):\n",
    "    variables = list(expr.free_symbols)\n",
    "    values = product(range(2), repeat=len(variables))\n",
    "    reduced_space = []\n",
    "    for v in values:\n",
    "        subs_dict = dict(zip(variables, v))\n",
    "        subs_expr = expr.subs(subs_dict)\n",
    "        if simplify(subs_expr) == 0:\n",
    "            reduced_space.append(v)\n",
    "    return variables, reduced_space"
   ]
  },
  {
   "cell_type": "code",
   "execution_count": 17,
   "metadata": {},
   "outputs": [],
   "source": [
    "def max_disjoint_sets(sets):\n",
    "    # Sort the list of sets in decreasing order of their sizes\n",
    "    sorted_set = sorted(sets, key=len, reverse=False)\n",
    "\n",
    "    # Initialize an empty list to store the disjoint sets\n",
    "    disjoint_sets = []\n",
    "\n",
    "    # Iterate over the sorted list of sets\n",
    "    for i, s in enumerate(sorted_set):\n",
    "        # Check if the current set intersects with any of the sets in the disjoint sets list\n",
    "        if not any(s.intersection(ds) for ds in disjoint_sets):\n",
    "            # If not, add it to the disjoint sets list\n",
    "            if s:\n",
    "                disjoint_sets.append(s)\n",
    "\n",
    "    max_num_sets = len(disjoint_sets)\n",
    "\n",
    "    if max_num_sets == 1:\n",
    "        # disjoint_sets = [max(sets, key=len)]\n",
    "        raise ValueError(\"Choose another biprime to be factored.\")\n",
    "\n",
    "    indices = [sets.index(ds) for ds in disjoint_sets]\n",
    "\n",
    "    # Return the length of the disjoint sets list and the sets themselves along with their indices in the original list\n",
    "    return max_num_sets, disjoint_sets, indices"
   ]
  },
  {
   "cell_type": "code",
   "execution_count": 18,
   "metadata": {},
   "outputs": [
    {
     "name": "stdout",
     "output_type": "stream",
     "text": [
      "8\n"
     ]
    },
    {
     "ename": "ValueError",
     "evalue": "Choose another biprime to be factored.",
     "output_type": "error",
     "traceback": [
      "\u001b[0;31m---------------------------------------------------------------------------\u001b[0m",
      "\u001b[0;31mValueError\u001b[0m                                Traceback (most recent call last)",
      "Cell \u001b[0;32mIn[18], line 20\u001b[0m\n\u001b[1;32m      7\u001b[0m \u001b[39mprint\u001b[39m(\u001b[39mlen\u001b[39m(sample_space))\n\u001b[1;32m      9\u001b[0m \u001b[39m# for i in range(len(var_sets)):\u001b[39;00m\n\u001b[1;32m     10\u001b[0m \u001b[39m#         for j in range(i + 1, len(var_sets)):\u001b[39;00m\n\u001b[1;32m     11\u001b[0m \u001b[39m#             if bool(var_sets[i]) and bool(var_sets[j]):\u001b[39;00m\n\u001b[0;32m   (...)\u001b[0m\n\u001b[1;32m     17\u001b[0m \u001b[39m#             else:\u001b[39;00m\n\u001b[1;32m     18\u001b[0m \u001b[39m#                  continue\u001b[39;00m\n\u001b[0;32m---> 20\u001b[0m \u001b[39mprint\u001b[39m(max_disjoint_sets(var_sets))\n\u001b[1;32m     22\u001b[0m \u001b[39mfor\u001b[39;00m c \u001b[39min\u001b[39;00m disjoint_clauses:\n\u001b[1;32m     23\u001b[0m     display(c)\n",
      "Cell \u001b[0;32mIn[17], line 20\u001b[0m, in \u001b[0;36mmax_disjoint_sets\u001b[0;34m(sets)\u001b[0m\n\u001b[1;32m     16\u001b[0m max_num_sets \u001b[39m=\u001b[39m \u001b[39mlen\u001b[39m(disjoint_sets)\n\u001b[1;32m     18\u001b[0m \u001b[39mif\u001b[39;00m max_num_sets \u001b[39m==\u001b[39m \u001b[39m1\u001b[39m:\n\u001b[1;32m     19\u001b[0m     \u001b[39m#disjoint_sets = [max(sets, key=len)]\u001b[39;00m\n\u001b[0;32m---> 20\u001b[0m     \u001b[39mraise\u001b[39;00m \u001b[39mValueError\u001b[39;00m(\u001b[39m'\u001b[39m\u001b[39mChoose another biprime to be factored.\u001b[39m\u001b[39m'\u001b[39m)\n\u001b[1;32m     22\u001b[0m indices \u001b[39m=\u001b[39m [sets\u001b[39m.\u001b[39mindex(ds) \u001b[39mfor\u001b[39;00m ds \u001b[39min\u001b[39;00m disjoint_sets]\n\u001b[1;32m     24\u001b[0m \u001b[39m# Return the length of the disjoint sets list and the sets themselves along with their indices in the original list\u001b[39;00m\n",
      "\u001b[0;31mValueError\u001b[0m: Choose another biprime to be factored."
     ]
    }
   ],
   "source": [
    "import itertools\n",
    "\n",
    "disjoint_clauses = []\n",
    "\n",
    "var_sets = [c.free_symbols for c in non_z_clauses]\n",
    "sample_space = set().union(*var_sets)\n",
    "print(len(sample_space))\n",
    "\n",
    "# for i in range(len(var_sets)):\n",
    "#         for j in range(i + 1, len(var_sets)):\n",
    "#             if bool(var_sets[i]) and bool(var_sets[j]):\n",
    "#                 if var_sets[i].isdisjoint(var_sets[j]):\n",
    "#                     if non_z_clauses[i] not in disjoint_clauses:\n",
    "#                         disjoint_clauses.append(non_z_clauses[i])\n",
    "#                     if non_z_clauses[j] not in disjoint_clauses:\n",
    "#                         disjoint_clauses.append(non_z_clauses[j])\n",
    "#             else:\n",
    "#                  continue\n",
    "\n",
    "print(max_disjoint_sets(var_sets))\n",
    "\n",
    "for c in disjoint_clauses:\n",
    "    display(c)"
   ]
  },
  {
   "cell_type": "code",
   "execution_count": null,
   "metadata": {},
   "outputs": [],
   "source": [
    "frames = []\n",
    "for c in disjoint_clauses:\n",
    "    if c != 0:\n",
    "        variables, reduced_space = reduce_space(c)\n",
    "        df = pd.DataFrame(reduced_space, columns=variables)\n",
    "        frames.append(df)"
   ]
  },
  {
   "cell_type": "code",
   "execution_count": null,
   "metadata": {},
   "outputs": [],
   "source": [
    "for df in frames:\n",
    "    display(df)"
   ]
  },
  {
   "cell_type": "code",
   "execution_count": null,
   "metadata": {},
   "outputs": [],
   "source": []
  }
 ],
 "metadata": {
  "kernelspec": {
   "display_name": ".venv",
   "language": "python",
   "name": "python3"
  },
  "language_info": {
   "codemirror_mode": {
    "name": "ipython",
    "version": 3
   },
   "file_extension": ".py",
   "mimetype": "text/x-python",
   "name": "python",
   "nbconvert_exporter": "python",
   "pygments_lexer": "ipython3",
   "version": "3.10.6"
  },
  "orig_nbformat": 4
 },
 "nbformat": 4,
 "nbformat_minor": 2
}
