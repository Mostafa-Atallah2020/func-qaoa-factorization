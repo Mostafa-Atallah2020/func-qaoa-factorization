{
 "cells": [
  {
   "cell_type": "markdown",
   "id": "5215a5de-0ef9-47cc-b73f-6cb79783fb8a",
   "metadata": {},
   "source": [
    "### Imports"
   ]
  },
  {
   "cell_type": "code",
   "execution_count": 1,
   "id": "305c466a-0c74-4f5a-8281-ef3d6e4930c9",
   "metadata": {},
   "outputs": [
    {
     "name": "stderr",
     "output_type": "stream",
     "text": [
      "<frozen importlib._bootstrap>:219: RuntimeWarning: scipy._lib.messagestream.MessageStream size changed, may indicate binary incompatibility. Expected 56 from C header, got 64 from PyObject\n"
     ]
    }
   ],
   "source": [
    "import numpy as np\n",
    "import sys\n",
    "# Importing standard Qiskit libraries\n",
    "from qiskit import *\n",
    "from qiskit.tools.jupyter import *\n",
    "from qiskit.circuit.library.standard_gates import SXGate, SXdgGate\n",
    "from qiskit.visualization import *\n",
    "#from ibm_quantum_widgets import *\n",
    "from qiskit.providers.aer import QasmSimulator\n",
    "\n",
    "# Loading your IBM Quantum account(s)\n",
    "provider = IBMQ.load_account()"
   ]
  },
  {
   "cell_type": "markdown",
   "id": "70047bb2-2c7c-4834-abaf-2aadd869758b",
   "metadata": {},
   "source": [
    "### Load backend"
   ]
  },
  {
   "cell_type": "code",
   "execution_count": 43,
   "id": "4c40b149-ae18-46ea-b3f8-04e83d823750",
   "metadata": {},
   "outputs": [
    {
     "data": {
      "text/plain": [
       "[<AccountProvider for IBMQ(hub='ibm-q', group='open', project='main')>,\n",
       " <AccountProvider for IBMQ(hub='q-summer-school', group='main', project='project-4')>]"
      ]
     },
     "execution_count": 43,
     "metadata": {},
     "output_type": "execute_result"
    }
   ],
   "source": [
    "IBMQ.providers()"
   ]
  },
  {
   "cell_type": "code",
   "execution_count": 44,
   "id": "0f0462c6-7948-4ef0-baa2-105ee8c1774d",
   "metadata": {},
   "outputs": [
    {
     "data": {
      "text/plain": [
       "[<IBMQSimulator('ibmq_qasm_simulator') from IBMQ(hub='ibm-q', group='open', project='main')>,\n",
       " <IBMQBackend('ibmq_lima') from IBMQ(hub='ibm-q', group='open', project='main')>,\n",
       " <IBMQBackend('ibmq_belem') from IBMQ(hub='ibm-q', group='open', project='main')>,\n",
       " <IBMQBackend('ibmq_quito') from IBMQ(hub='ibm-q', group='open', project='main')>,\n",
       " <IBMQSimulator('simulator_statevector') from IBMQ(hub='ibm-q', group='open', project='main')>,\n",
       " <IBMQSimulator('simulator_mps') from IBMQ(hub='ibm-q', group='open', project='main')>,\n",
       " <IBMQSimulator('simulator_extended_stabilizer') from IBMQ(hub='ibm-q', group='open', project='main')>,\n",
       " <IBMQSimulator('simulator_stabilizer') from IBMQ(hub='ibm-q', group='open', project='main')>,\n",
       " <IBMQBackend('ibmq_manila') from IBMQ(hub='ibm-q', group='open', project='main')>,\n",
       " <IBMQBackend('ibm_nairobi') from IBMQ(hub='ibm-q', group='open', project='main')>,\n",
       " <IBMQBackend('ibm_oslo') from IBMQ(hub='ibm-q', group='open', project='main')>]"
      ]
     },
     "execution_count": 44,
     "metadata": {},
     "output_type": "execute_result"
    }
   ],
   "source": [
    "provider = IBMQ.get_provider(hub='ibm-q')\n",
    "provider.backends()"
   ]
  },
  {
   "cell_type": "code",
   "execution_count": 45,
   "id": "f9c2a5ce-9edc-43ae-9d61-ee91e05d2f9a",
   "metadata": {},
   "outputs": [],
   "source": [
    "backend = provider.get_backend('simulator_mps')"
   ]
  },
  {
   "cell_type": "markdown",
   "id": "a8405780-65b5-4f77-8af6-5b4b3b81f41d",
   "metadata": {},
   "source": [
    "### V Gate"
   ]
  },
  {
   "cell_type": "code",
   "execution_count": 46,
   "id": "9bd433d7-df75-43da-ad56-841aa471d7cc",
   "metadata": {},
   "outputs": [],
   "source": [
    "CV = SXGate().control(1)\n",
    "CVdg = SXdgGate().control(1)"
   ]
  },
  {
   "cell_type": "markdown",
   "id": "86884772-4991-4153-a237-c63fb7b392c8",
   "metadata": {},
   "source": [
    "### Peres Gate"
   ]
  },
  {
   "cell_type": "code",
   "execution_count": 47,
   "id": "5129c0ec-736a-49ba-9440-0d8e63053700",
   "metadata": {},
   "outputs": [],
   "source": [
    "qc = QuantumCircuit(3, name='Peres Gate')\n",
    "qc.append(CVdg, [0,2])\n",
    "qc.append(CVdg, [1,2])\n",
    "qc.cnot(0,1)\n",
    "qc.append(CV, [1,2])\n",
    "qc.draw('mpl')\n",
    "PeresGate = qc.to_instruction()"
   ]
  },
  {
   "cell_type": "markdown",
   "id": "b81946e8-ccbc-4ce3-8602-31ba0a86e69d",
   "metadata": {},
   "source": [
    "### TR Gate"
   ]
  },
  {
   "cell_type": "code",
   "execution_count": 48,
   "id": "4776ce2d-10d4-4901-b55a-1900086b1e90",
   "metadata": {},
   "outputs": [],
   "source": [
    "qc = QuantumCircuit(3, name='TR Gate')\n",
    "qc.append(CVdg, [1,2])\n",
    "qc.cnot(0,1)\n",
    "qc.append(CV, [0,2])\n",
    "qc.append(CV, [1,2])\n",
    "qc.draw('mpl')\n",
    "TRGate = qc.to_instruction()"
   ]
  },
  {
   "cell_type": "markdown",
   "id": "a43d0427-109f-41b0-948b-585fcc846dc9",
   "metadata": {},
   "source": [
    "#### Carry Look-ahead adder"
   ]
  },
  {
   "cell_type": "code",
   "execution_count": 49,
   "id": "c85e2804-8bff-4aab-a3d6-0adffae44809",
   "metadata": {},
   "outputs": [],
   "source": [
    "def adder(n):\n",
    "\n",
    "    a = QuantumRegister(n)\n",
    "    b = QuantumRegister(n)\n",
    "    zg = QuantumRegister(n)\n",
    "    zp = QuantumRegister(n-3)\n",
    "\n",
    "    qc = QuantumCircuit(a,b,zg,zp)\n",
    "\n",
    "    # Step 1\n",
    "    for i in range(n):\n",
    "        qc.append(PeresGate, [a[i], b[i], zg[i]])\n",
    "\n",
    "\n",
    "    #Step 2\n",
    "    qc.toffoli(b[2:n-1:2], b[3:n:2], zp[:n-3:2])\n",
    "    qc.toffoli(zg[0:n-1:2], b[1:n:2], zg[1:n:2])\n",
    "\n",
    "    # Step 3\n",
    "    qc.toffoli(zg[1], zp[0], zg[3])\n",
    "    qc.toffoli(zg[n//2+1], zp[n//2], zg[n//2+3])\n",
    "    qc.toffoli(zp[n//2-2], zp[n//2], zp[n//2-1])\n",
    "\n",
    "    # Step 4\n",
    "    qc.toffoli(zg[n-5], zp[n-6], zg[n-3])\n",
    "    qc.toffoli(zg[n-5], zp[n-5], zg[n-1])\n",
    "\n",
    "    # Step 5\n",
    "    qc.toffoli(zg[1:n-2:2], b[2:n-1:2], zg[2:n-1:2])\n",
    "    qc.toffoli(zp[n//2-2], zp[n//2], zp[n//2-1])\n",
    "\n",
    "    # Step 6\n",
    "    qc.toffoli(b[2:n-1:2], b[3:n:2], zp[0:n-3:2])\n",
    "\n",
    "    # Step 7\n",
    "    qc.cnot(zg[0:n-1], b[1:n])\n",
    "\n",
    "\n",
    "    # Step 8\n",
    "    qc.x(b)\n",
    "\n",
    "    # Step 9\n",
    "    qc.cnot(a[1:], b[1:])\n",
    "\n",
    "    # Step 10\n",
    "    qc.toffoli(b[2:n-1:2], b[3:n:2], zp[0:n-3:2])\n",
    "\n",
    "    # Step 11\n",
    "    qc.toffoli(zg[1:n-2:2], b[2:n-1:2], zg[2:n-1:2])\n",
    "    qc.toffoli(zp[n//2-2], zp[n//2], zp[n//2-1])\n",
    "\n",
    "    # Step 12\n",
    "    qc.toffoli(zg[n-5], zp[n-6], zg[n-3])\n",
    "    qc.toffoli(zg[n-5], zp[n-5], zg[n-1])\n",
    "\n",
    "    # Step 13\n",
    "    qc.toffoli(zg[1], zp[0], zg[3])\n",
    "    qc.toffoli(zg[n//2+1], zp[n//2], zg[n//2+3])\n",
    "\n",
    "    # Step 14\n",
    "    qc.toffoli(zg[0:n-1:2], b[1:n:2], zg[1:n:2])\n",
    "    qc.toffoli(zp[n//2-2], zp[n//2], zp[n//2-1])\n",
    "\n",
    "    # Step 15\n",
    "    qc.toffoli(b[2:n-1:2], b[3:n:2], zp[0:n-3:2])\n",
    "\n",
    "    # Step 16\n",
    "    qc.toffoli(a[0], b[0], zg[0])\n",
    "    for i in range(1,n):\n",
    "        qc.append(TRGate, [a[i], b[i], zg[i]])\n",
    "\n",
    "    # Step 17\n",
    "    qc.x(b)\n",
    "    \n",
    "    return qc"
   ]
  },
  {
   "cell_type": "markdown",
   "id": "ad47b975-a894-490f-85ff-01349ba8259c",
   "metadata": {},
   "source": [
    "#### Subtractor Circuit\n",
    "Computes b-a"
   ]
  },
  {
   "cell_type": "code",
   "execution_count": 54,
   "id": "7730f18a-f5df-4d8c-bc99-85a974785ca5",
   "metadata": {},
   "outputs": [],
   "source": [
    "def subtractor(n):\n",
    "    a = QuantumRegister(n)\n",
    "    b = QuantumRegister(n)\n",
    "    zg = QuantumRegister(n)\n",
    "    zp = QuantumRegister(n-3)\n",
    "\n",
    "    qc = QuantumCircuit(a,b,zg,zp)\n",
    "    \n",
    "    # Complement b\n",
    "    qc.x(b)\n",
    "\n",
    "    # Append adder circuit\n",
    "    adder_circ = adder(n)\n",
    "    qc.append(adder_circ, a[:] + b[:] + zg[:] + zp[:])\n",
    "    \n",
    "    # Complement b -> Now b stores b-a\n",
    "    qc.x(b)\n",
    "    \n",
    "    return qc"
   ]
  },
  {
   "cell_type": "markdown",
   "id": "5ed18a5e-7041-483b-9fe3-6e46d9a03fb3",
   "metadata": {},
   "source": [
    "### Adder-Subtractor Circuit\n",
    "If ctrl is low, it computes b+a<br/>\n",
    "Else it computes b-a"
   ]
  },
  {
   "cell_type": "code",
   "execution_count": 57,
   "id": "1dcec244-cb2b-4718-a074-f7d174260a2b",
   "metadata": {},
   "outputs": [],
   "source": [
    "def adder_subtractor(n):\n",
    "    \n",
    "    ctrl = QuantumRegister(1)\n",
    "    a = QuantumRegister(n)\n",
    "    b = QuantumRegister(n)\n",
    "    zg = QuantumRegister(n)\n",
    "    zp = QuantumRegister(n-3)\n",
    "\n",
    "    qc = QuantumCircuit(ctrl,a,b,zg,zp)\n",
    "    \n",
    "    # Complement b\n",
    "    qc.cx(ctrl, b)\n",
    "\n",
    "    # Append adder circuit\n",
    "    adder_circ = adder(n)\n",
    "    qc.append(adder_circ, a[:] + b[:] + zg[:] + zp[:])\n",
    "    \n",
    "    # Complement both a and b -> b stores b-a if ctrl is high\n",
    "    qc.cx(ctrl, b)\n",
    "    \n",
    "    return qc"
   ]
  },
  {
   "cell_type": "markdown",
   "id": "b3e6a2d1-dbff-458f-80f4-ac6baa80cdbb",
   "metadata": {},
   "source": [
    "### Controlled Adder"
   ]
  },
  {
   "cell_type": "code",
   "execution_count": 58,
   "id": "fc875efd-21a3-49a1-9b0f-b8270a9a29d0",
   "metadata": {},
   "outputs": [],
   "source": [
    "def ctrl_add(n):\n",
    "    \"\"\"This function takes the value n, which is the number of bits required to represent a or b and returns\n",
    "    the conditional adder circuit for them\"\"\"\n",
    "    \n",
    "    # Defining the Registers for CTRL a and b.\n",
    "    qr = QuantumRegister(1, name = \"ctrl\")\n",
    "    qr_b = QuantumRegister(n, name = \"b\")\n",
    "    qr_a = QuantumRegister(n, name = \"a\")\n",
    "    \n",
    "    # The quantum circuit\n",
    "    qc = QuantumCircuit(qr, qr_a, qr_b)\n",
    "    \n",
    "    # The corresponding gates:\n",
    "    qc.cx(qr_a[1:], qr_b[1:])\n",
    "        \n",
    "        \n",
    "    for j in range(n-1,1,-1):\n",
    "        qc.cx(qr_a[j-1], qr_a[j])\n",
    "        \n",
    "    qc.toffoli(qr_b[:n-1],qr_a[:n-1],qr_a[1:])\n",
    "        \n",
    "    for p in range(n-1, 0, -1):\n",
    "        qc.toffoli(qr,qr_a[p],qr_b[p])\n",
    "        qc.toffoli(qr_b[p-1],qr_a[p-1],qr_a[p])\n",
    "        \n",
    "    qc.toffoli(qr,qr_a[0], qr_b[0])\n",
    "    \n",
    "    \n",
    "    qc.cx(qr_a[1:n-1], qr_a[2:])\n",
    "    \n",
    "    qc.cx(qr_a[1:], qr_b[1:])\n",
    "    \n",
    "    return qc"
   ]
  },
  {
   "cell_type": "markdown",
   "id": "eb13f5ca-aa2c-4551-b2b2-40169819bc6b",
   "metadata": {},
   "source": [
    "### MODULO CIRCUIT"
   ]
  },
  {
   "cell_type": "code",
   "execution_count": 59,
   "id": "0564f447-7794-4a4b-be76-cf4440a051f9",
   "metadata": {},
   "outputs": [],
   "source": [
    "def modulo(a,b,n):\n",
    "    qr_b = QuantumRegister(n, name='b')\n",
    "    qr_R = QuantumRegister(n-1, name='r')\n",
    "    qr_Q = QuantumRegister(n, name='q')\n",
    "    qr_zg = QuantumRegister(n)\n",
    "    qr_zp = QuantumRegister(n-3)\n",
    "    cr = ClassicalRegister(n-1)\n",
    "    cq = ClassicalRegister(n)\n",
    "    \n",
    "    sub_circ = subtractor(n)\n",
    "    add_sub_circ = adder_subtractor(n)\n",
    "    ctrl_adder_circ = ctrl_add(n-1)\n",
    "    \n",
    "    qc = QuantumCircuit(qr_b, qr_R, qr_Q, qr_zg, qr_zp, cr, cq)\n",
    "    \n",
    "    # initialize ciruciit with input\n",
    "    b.reverse()\n",
    "    a.reverse()\n",
    "    for i, bi in enumerate(b):\n",
    "        if bi:\n",
    "            qc.x(qr_b[i])\n",
    "    \n",
    "    for i, ai in enumerate(a[:-1]):\n",
    "        if ai:\n",
    "            qc.x(qr_R[i])\n",
    "            \n",
    "    if a[-1]:\n",
    "        qc.x(qr_Q[0])\n",
    "        \n",
    "    \n",
    "    # Modulo circuit\n",
    "    qc.append(sub_circ, qr_b[:] + qr_Q[:] + qr_zg[:] + qr_zp[:])\n",
    "    \n",
    "    for i in range(n-1):\n",
    "        qc.x(qr_Q[n-i-1])\n",
    "#         print(len(qr_R[n-i-2:]), len(qr_Q[0:n-i-1]))\n",
    "        qc.append(add_sub_circ, [qr_Q[n-i-1]] + qr_b[:] + qr_R[n-i-2:] + qr_Q[0:n-i-1] + qr_zg[:] + qr_zp[:])\n",
    "        \n",
    "    qc.append(ctrl_adder_circ, [qr_Q[0]] + qr_b[:-1] + qr_R[:])\n",
    "    qc.x(qr_Q[0])\n",
    "    \n",
    "    qc.measure(qr_R, cr)\n",
    "    qc.measure(qr_Q, cq)\n",
    "    \n",
    "    return qc\n",
    "    "
   ]
  },
  {
   "cell_type": "code",
   "execution_count": 74,
   "id": "6e4dfc5e",
   "metadata": {},
   "outputs": [
    {
     "name": "stdout",
     "output_type": "stream",
     "text": [
      "N value: 32\n",
      "p value: 4\n",
      "[0, 0, 1, 0, 0, 0, 0, 0] [0, 0, 0, 0, 0, 1, 0, 0] 8\n",
      "The number of qubits in the circuit is:  36\n",
      "The number of classical bits in the circuit is:  15\n",
      "The  depth the circuit is:  1837\n",
      "The number of cx and u3 gates in the circuit is:  {'u3': 4996, 'cx': 3792, 'measure': 15}\n"
     ]
    }
   ],
   "source": [
    "def dec_to_bin(N,p):\n",
    "    N_b = list(bin(N).replace(\"0b\", \"\"))\n",
    "    p_b = list(bin(p).replace(\"0b\", \"\"))\n",
    "    \n",
    "    L_N = [int(x) for x in N_b]\n",
    "    L_p = [int(x) for x in p_b]\n",
    "    \n",
    "    m = len(L_N) + 2\n",
    "    for i in range(m-len(L_N)):\n",
    "        L_N = [0] + L_N\n",
    "        \n",
    "    for j in range(m-len(L_p)):\n",
    "        L_p = [0] + L_p\n",
    "            \n",
    "    return (L_N, L_p, m)\n",
    "\n",
    "\n",
    "\n",
    "def info_circ(qc):\n",
    "    q = qc.num_qubits\n",
    "    c = qc.num_clbits\n",
    "    d = qc.depth()\n",
    "    g = dict(qc.count_ops())\n",
    "    return (q,c,d,g)\n",
    "\n",
    "\n",
    "N_ = int(input(\"N value: \"))\n",
    "p_ = int(input(\"p value: \"))\n",
    "N, p, m = dec_to_bin(N_, p_)\n",
    "print(N,p,m)\n",
    "qc_ = modulo(N,p,m)\n",
    "qc = transpile(qc_  , basis_gates=['u3', 'cx'])\n",
    "num_qubits, num_clbits, depth, num_gates = info_circ(qc)\n",
    "print(\"The number of qubits in the circuit is: \", num_qubits)\n",
    "print(\"The number of classical bits in the circuit is: \", num_clbits)\n",
    "print(\"The  depth the circuit is: \", depth)\n",
    "print(\"The number of cx and u3 gates in the circuit is: \", num_gates)"
   ]
  },
  {
   "cell_type": "code",
   "execution_count": 75,
   "id": "45942ae4-8966-45ef-a07e-27992839086e",
   "metadata": {},
   "outputs": [
    {
     "data": {
      "image/png": "[encoded data removed]",
      "text/plain": [
       "<Figure size 700x500 with 1 Axes>"
      ]
     },
     "execution_count": 75,
     "metadata": {},
     "output_type": "execute_result"
    }
   ],
   "source": [
    "job = execute(qc_, backend, shots=1024)\n",
    "counts = job.result().get_counts()\n",
    "plot_histogram(counts)"
   ]
  }
 ],
 "metadata": {
  "kernelspec": {
   "display_name": "Python 3 (ipykernel)",
   "language": "python",
   "name": "python3"
  },
  "language_info": {
   "codemirror_mode": {
    "name": "ipython",
    "version": 3
   },
   "file_extension": ".py",
   "mimetype": "text/x-python",
   "name": "python",
   "nbconvert_exporter": "python",
   "pygments_lexer": "ipython3",
   "version": "3.8.13"
  },
  "widgets": {
   "application/vnd.jupyter.widget-state+json": {
    "state": {
     "03f390440e9f4c5181c60135ce180a70": {
      "model_module": "@jupyter-widgets/controls",
      "model_module_version": "1.5.0",
      "model_name": "HTMLModel",
      "state": {
       "layout": "IPY_MODEL_1fb0bd7906ac4c23bd026f1051b90657",
       "style": "IPY_MODEL_21618a46241e4d5b8342f7cac4059b8f",
       "value": "<h5>Job ID</h5>"
      }
     },
     "19ae72a8a7a7416287d9d5a7eb392059": {
      "model_module": "@jupyter-widgets/base",
      "model_module_version": "1.2.0",
      "model_name": "LayoutModel",
      "state": {
       "grid_template_areas": "\n                                       \". . . . right \"\n                                        ",
       "grid_template_columns": "20% 20% 20% 20% 20%",
       "width": "100%"
      }
     },
     "1fb0bd7906ac4c23bd026f1051b90657": {
      "model_module": "@jupyter-widgets/base",
      "model_module_version": "1.2.0",
      "model_name": "LayoutModel",
      "state": {
       "width": "190px"
      }
     },
     "21618a46241e4d5b8342f7cac4059b8f": {
      "model_module": "@jupyter-widgets/controls",
      "model_module_version": "1.5.0",
      "model_name": "DescriptionStyleModel",
      "state": {
       "description_width": ""
      }
     },
     "36a0fef080d148ef94b0aa0feb40c023": {
      "model_module": "@jupyter-widgets/controls",
      "model_module_version": "1.5.0",
      "model_name": "DescriptionStyleModel",
      "state": {
       "description_width": ""
      }
     },
     "3eec3fd9134d4fcb99e47c0ebc8cbe42": {
      "model_module": "@jupyter-widgets/controls",
      "model_module_version": "1.5.0",
      "model_name": "HTMLModel",
      "state": {
       "layout": "IPY_MODEL_ea35ac48ffe74aaea37630c84a04b700",
       "style": "IPY_MODEL_f1c6f0c00fac4dbe91d158ec72c7dd2e",
       "value": "<p style='font-family: IBM Plex Sans, Arial, Helvetica, sans-serif; font-size: 20px; font-weight: medium;'>Circuit Properties</p>"
      }
     },
     "3fa166935550423492c8bbffc064db02": {
      "model_module": "@jupyter-widgets/controls",
      "model_module_version": "1.5.0",
      "model_name": "ButtonModel",
      "state": {
       "button_style": "primary",
       "description": "Clear",
       "layout": "IPY_MODEL_90e6b4e18d5e4f46868f35c80a29c890",
       "style": "IPY_MODEL_ed659e7ed11a4655a4bcb5a0512a9d98"
      }
     },
     "47647e0cc09347099718a3c10f0ddd35": {
      "model_module": "@jupyter-widgets/base",
      "model_module_version": "1.2.0",
      "model_name": "LayoutModel",
      "state": {}
     },
     "4ec2955b0b4347529342c950a4539242": {
      "model_module": "@jupyter-widgets/controls",
      "model_module_version": "1.5.0",
      "model_name": "DescriptionStyleModel",
      "state": {
       "description_width": ""
      }
     },
     "5c57f9467b614c9f8346f0b41502ae20": {
      "model_module": "@jupyter-widgets/base",
      "model_module_version": "1.2.0",
      "model_name": "LayoutModel",
      "state": {
       "width": "70px"
      }
     },
     "5f5949e43de44549b1d1b0ebf88fa44c": {
      "model_module": "@jupyter-widgets/base",
      "model_module_version": "1.2.0",
      "model_name": "LayoutModel",
      "state": {
       "width": "145px"
      }
     },
     "6015d1a5a7154eb98a10b0d33e3d0454": {
      "model_module": "@jupyter-widgets/controls",
      "model_module_version": "1.5.0",
      "model_name": "HTMLModel",
      "state": {
       "layout": "IPY_MODEL_5c57f9467b614c9f8346f0b41502ae20",
       "style": "IPY_MODEL_bf9a3260d8e344908566e75f0e470413",
       "value": "<h5>Queue</h5>"
      }
     },
     "76c9e612b72e4b58b1c294362e095607": {
      "model_module": "@jupyter-widgets/controls",
      "model_module_version": "1.5.0",
      "model_name": "HTMLModel",
      "state": {
       "layout": "IPY_MODEL_47647e0cc09347099718a3c10f0ddd35",
       "style": "IPY_MODEL_36a0fef080d148ef94b0aa0feb40c023",
       "value": "<h5>Message</h5>"
      }
     },
     "88fc4718fad942cdaeadbfa671c3f805": {
      "model_module": "@jupyter-widgets/controls",
      "model_module_version": "1.5.0",
      "model_name": "DescriptionStyleModel",
      "state": {
       "description_width": ""
      }
     },
     "90e6b4e18d5e4f46868f35c80a29c890": {
      "model_module": "@jupyter-widgets/base",
      "model_module_version": "1.2.0",
      "model_name": "LayoutModel",
      "state": {
       "grid_area": "right",
       "padding": "0px 0px 0px 0px",
       "width": "70px"
      }
     },
     "a811bf4ab4d8487caad8f199ac88634c": {
      "model_module": "@jupyter-widgets/controls",
      "model_module_version": "1.5.0",
      "model_name": "HBoxModel",
      "state": {
       "children": [
        "IPY_MODEL_03f390440e9f4c5181c60135ce180a70",
        "IPY_MODEL_ef9b019151764b448566e94fc383bf3a",
        "IPY_MODEL_ccc54dddc17444acb728d84543f96474",
        "IPY_MODEL_6015d1a5a7154eb98a10b0d33e3d0454",
        "IPY_MODEL_76c9e612b72e4b58b1c294362e095607"
       ],
       "layout": "IPY_MODEL_d9b81699faca402498d9ea6748abed90"
      }
     },
     "bf9a3260d8e344908566e75f0e470413": {
      "model_module": "@jupyter-widgets/controls",
      "model_module_version": "1.5.0",
      "model_name": "DescriptionStyleModel",
      "state": {
       "description_width": ""
      }
     },
     "c46aebd3138e4208988607e80a1312d7": {
      "model_module": "@jupyter-widgets/base",
      "model_module_version": "1.2.0",
      "model_name": "LayoutModel",
      "state": {
       "width": "95px"
      }
     },
     "c4ebc2da799042768beba98a3d1b8bda": {
      "model_module": "@jupyter-widgets/controls",
      "model_module_version": "1.5.0",
      "model_name": "GridBoxModel",
      "state": {
       "children": [
        "IPY_MODEL_3fa166935550423492c8bbffc064db02"
       ],
       "layout": "IPY_MODEL_19ae72a8a7a7416287d9d5a7eb392059"
      }
     },
     "ccc54dddc17444acb728d84543f96474": {
      "model_module": "@jupyter-widgets/controls",
      "model_module_version": "1.5.0",
      "model_name": "HTMLModel",
      "state": {
       "layout": "IPY_MODEL_c46aebd3138e4208988607e80a1312d7",
       "style": "IPY_MODEL_88fc4718fad942cdaeadbfa671c3f805",
       "value": "<h5>Status</h5>"
      }
     },
     "d9b81699faca402498d9ea6748abed90": {
      "model_module": "@jupyter-widgets/base",
      "model_module_version": "1.2.0",
      "model_name": "LayoutModel",
      "state": {
       "margin": "0px 0px 0px 37px",
       "width": "600px"
      }
     },
     "ea35ac48ffe74aaea37630c84a04b700": {
      "model_module": "@jupyter-widgets/base",
      "model_module_version": "1.2.0",
      "model_name": "LayoutModel",
      "state": {
       "margin": "0px 0px 10px 0px"
      }
     },
     "ed659e7ed11a4655a4bcb5a0512a9d98": {
      "model_module": "@jupyter-widgets/controls",
      "model_module_version": "1.5.0",
      "model_name": "ButtonStyleModel",
      "state": {}
     },
     "ef9b019151764b448566e94fc383bf3a": {
      "model_module": "@jupyter-widgets/controls",
      "model_module_version": "1.5.0",
      "model_name": "HTMLModel",
      "state": {
       "layout": "IPY_MODEL_5f5949e43de44549b1d1b0ebf88fa44c",
       "style": "IPY_MODEL_4ec2955b0b4347529342c950a4539242",
       "value": "<h5>Backend</h5>"
      }
     },
     "f1c6f0c00fac4dbe91d158ec72c7dd2e": {
      "model_module": "@jupyter-widgets/controls",
      "model_module_version": "1.5.0",
      "model_name": "DescriptionStyleModel",
      "state": {
       "description_width": ""
      }
     }
    },
    "version_major": 2,
    "version_minor": 0
   }
  }
 },
 "nbformat": 4,
 "nbformat_minor": 5
}
