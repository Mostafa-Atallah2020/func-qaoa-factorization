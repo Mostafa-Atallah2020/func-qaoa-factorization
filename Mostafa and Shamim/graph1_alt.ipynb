{
 "cells": [
  {
   "cell_type": "code",
   "execution_count": 1,
   "id": "3e9cc728",
   "metadata": {},
   "outputs": [],
   "source": [
    "# imports\n",
    "import pdb\n",
    "import matplotlib.pyplot as plt\n",
    "import numpy as np\n",
    "import time\n",
    "import inspect, os, sys\n",
    "from graph1 import create_clauses, assess_number_of_unknowns, get_primes_lower_than_n"
   ]
  },
  {
   "cell_type": "code",
   "execution_count": 8,
   "id": "87a94f29",
   "metadata": {},
   "outputs": [],
   "source": [
    "threshold = 1e5\n",
    "primes = get_primes_lower_than_n(int(np.sqrt(threshold)))\n",
    "primes = primes[1:]  # excluding number 2"
   ]
  },
  {
   "cell_type": "code",
   "execution_count": 9,
   "id": "968b0220",
   "metadata": {},
   "outputs": [],
   "source": [
    "qubits_required_no_preprocessing = []\n",
    "qubits_required_with_preprocessing = []\n",
    "initial_time = time.time()"
   ]
  },
  {
   "cell_type": "code",
   "execution_count": 10,
   "id": "6f83e054",
   "metadata": {},
   "outputs": [],
   "source": [
    "file_name = \"preprocessing_5rules_results.csv\"\n",
    "plot_name = \"reprocessing_5rules_plot.png\""
   ]
  },
  {
   "cell_type": "code",
   "execution_count": 11,
   "id": "5519c3a3",
   "metadata": {
    "scrolled": true
   },
   "outputs": [],
   "source": [
    "for p in primes:\n",
    "    for q in primes:\n",
    "        if p < q:\n",
    "            continue\n",
    "        m = p * q\n",
    "        if m > threshold:\n",
    "            continue\n",
    "        start_time = time.time()\n",
    "\n",
    "        p_dict, q_dict, z_dict, _ = create_clauses(\n",
    "            m, p, q, apply_preprocessing=True, verbose=False\n",
    "        )\n",
    "        x, z = assess_number_of_unknowns(p_dict, q_dict, z_dict)\n",
    "        qubits_required_with_preprocessing.append([m, x, z])\n",
    "\n",
    "        end_time = time.time()\n",
    "        t = np.round(end_time - start_time, 3)\n",
    "        # print(p, q, m, x, z, t, \"    \")#, end=\"\\r\")\n",
    "\n",
    "    np.savetxt(\n",
    "        file_name,\n",
    "        np.array(qubits_required_with_preprocessing),\n",
    "        delimiter=\",\",\n",
    "        fmt=\"%.d\",\n",
    "        header=\"m,unknowns,carry_bits\",\n",
    "        comments=\"\",\n",
    "    )"
   ]
  },
  {
   "cell_type": "code",
   "execution_count": 12,
   "id": "048ab86e",
   "metadata": {},
   "outputs": [
    {
     "name": "stdout",
     "output_type": "stream",
     "text": [
      "Total time: 17.285 [min]\n"
     ]
    }
   ],
   "source": [
    "qubits_required_no_preprocessing = np.genfromtxt(\n",
    "    \"no_preprocessing.csv\", skip_header=1, delimiter=\",\"\n",
    ")\n",
    "qubits_required_with_preprocessing = np.genfromtxt(\n",
    "    \"preprocessing_5rules_results.csv\", skip_header=1, delimiter=\",\"\n",
    ")\n",
    "print(\"Total time:\", np.round((end_time - initial_time) / 60, 3), \"[min]\")\n",
    "\n",
    "data_1 = np.array(qubits_required_no_preprocessing)\n",
    "data_2 = np.array(qubits_required_with_preprocessing)"
   ]
  },
  {
   "cell_type": "code",
   "execution_count": 13,
   "id": "fe4a473c",
   "metadata": {},
   "outputs": [
    {
     "data": {
      "image/png": "[encoded data removed]",
      "text/plain": [
       "<Figure size 432x288 with 1 Axes>"
      ]
     },
     "metadata": {
      "needs_background": "light"
     },
     "output_type": "display_data"
    }
   ],
   "source": [
    "fig = plt.figure()\n",
    "ax = fig.add_subplot(1, 1, 1)\n",
    "\n",
    "ax.scatter(data_1[:, 0], data_1[:, 1], label=\"No classical preprocessing\", s=10)\n",
    "ax.scatter(data_2[:, 0], data_2[:, 1], label=\"Classical preprocessing\", s=10)\n",
    "ax.set_xlabel(\"Biprime to be factored\")\n",
    "ax.set_ylabel(\"Number of qubit required\")\n",
    "ax.set_xscale(\"log\")\n",
    "plt.legend()\n",
    "plt.savefig(plot_name)\n",
    "plt.show()"
   ]
  },
  {
   "cell_type": "code",
   "execution_count": null,
   "id": "6aab8b0d",
   "metadata": {},
   "outputs": [],
   "source": []
  }
 ],
 "metadata": {
  "kernelspec": {
   "display_name": "Python 3 (ipykernel)",
   "language": "python",
   "name": "python3"
  },
  "language_info": {
   "codemirror_mode": {
    "name": "ipython",
    "version": 3
   },
   "file_extension": ".py",
   "mimetype": "text/x-python",
   "name": "python",
   "nbconvert_exporter": "python",
   "pygments_lexer": "ipython3",
   "version": "3.8.10"
  }
 },
 "nbformat": 4,
 "nbformat_minor": 5
}
