{
 "cells": [
  {
   "cell_type": "code",
   "execution_count": 1,
   "id": "f1e5e437",
   "metadata": {},
   "outputs": [],
   "source": [
    "import matplotlib.pyplot as plt\n",
    "from fns import * \n",
    "# a module that contains all the required functions \n",
    "# that generate graph 1 of https://arxiv.org/abs/1808.08927"
   ]
  },
  {
   "cell_type": "markdown",
   "id": "a3ce5c89",
   "metadata": {},
   "source": [
    "primes = np.array([], dtype='int32')\n",
    "for i in range(20, 332): #332\n",
    "    if is_prime(i):\n",
    "        primes = np.append(primes, i)\n",
    "        \n",
    "        np.savetxt('primes.txt', primes)"
   ]
  },
  {
   "cell_type": "code",
   "execution_count": 3,
   "id": "1a7b54e3",
   "metadata": {},
   "outputs": [],
   "source": [
    "primes = np.loadtxt('primes.txt')"
   ]
  },
  {
   "cell_type": "markdown",
   "id": "106314e2",
   "metadata": {},
   "source": [
    "biprimes = np.array([], dtype='int32')\n",
    "for i in range(len(primes)):\n",
    "    for j in range(i + 1, len(primes)):\n",
    "        if i != j:\n",
    "            res = primes[i] * primes[j]\n",
    "            biprimes = np.append(biprimes, res)\n",
    "            \n",
    "            np.savetxt('biprimes.txt', biprimes)"
   ]
  },
  {
   "cell_type": "code",
   "execution_count": 5,
   "id": "a5427399",
   "metadata": {},
   "outputs": [],
   "source": [
    "biprimes = np.loadtxt('biprimes.txt').astype('int32')"
   ]
  },
  {
   "cell_type": "markdown",
   "id": "dfc73280",
   "metadata": {},
   "source": [
    "biprimes_final = np.array([], dtype='int32')\n",
    "number_of_qubits = np.array([], dtype='int32')\n",
    "for i in range(len(biprimes)):\n",
    "    num_variables = num_variables_final(biprimes[i])\n",
    "    biprimes_final = np.append(biprimes_final, biprimes[i])\n",
    "    number_of_qubits = np.append(number_of_qubits, num_variables)\n",
    "    \n",
    "    np.savetxt('biprimes_final.txt', biprimes_final)\n",
    "    np.savetxt('number_of_qubits.txt', number_of_qubits)"
   ]
  },
  {
   "cell_type": "code",
   "execution_count": 7,
   "id": "8738f083",
   "metadata": {},
   "outputs": [],
   "source": [
    "biprimes_final = np.loadtxt('biprimes_final.txt')\n",
    "number_of_qubits = np.loadtxt('number_of_qubits.txt').astype('int32')"
   ]
  },
  {
   "cell_type": "code",
   "execution_count": 9,
   "id": "efa1c3c3",
   "metadata": {
    "scrolled": true
   },
   "outputs": [
    {
     "data": {
      "image/png": "[encoded data removed]",
      "text/plain": [
       "<Figure size 432x288 with 1 Axes>"
      ]
     },
     "metadata": {
      "needs_background": "light"
     },
     "output_type": "display_data"
    }
   ],
   "source": [
    "plt.scatter(biprimes_final, number_of_qubits)\n",
    "plt.title('Factoring with simplification Rules')\n",
    "plt.xscale('log')\n",
    "plt.xlabel('BiPrimes')\n",
    "plt.ylabel('Number of Qubits')\n",
    "plt.savefig('graph1.png')\n",
    "plt.show()"
   ]
  },
  {
   "cell_type": "code",
   "execution_count": null,
   "id": "564ba55e",
   "metadata": {},
   "outputs": [],
   "source": []
  }
 ],
 "metadata": {
  "kernelspec": {
   "display_name": "Python 3 (ipykernel)",
   "language": "python",
   "name": "python3"
  },
  "language_info": {
   "codemirror_mode": {
    "name": "ipython",
    "version": 3
   },
   "file_extension": ".py",
   "mimetype": "text/x-python",
   "name": "python",
   "nbconvert_exporter": "python",
   "pygments_lexer": "ipython3",
   "version": "3.8.10"
  },
  "vscode": {
   "interpreter": {
    "hash": "f9f85f796d01129d0dd105a088854619f454435301f6ffec2fea96ecbd9be4ac"
   }
  }
 },
 "nbformat": 4,
 "nbformat_minor": 5
}
