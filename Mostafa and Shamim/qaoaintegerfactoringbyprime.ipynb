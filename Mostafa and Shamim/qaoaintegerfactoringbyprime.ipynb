{
 "cells": [
  {
   "cell_type": "code",
   "execution_count": 1,
   "id": "f1e5e437",
   "metadata": {},
   "outputs": [],
   "source": [
    "import matplotlib.pyplot as plt\n",
    "\n",
    "from fns import *"
   ]
  },
  {
   "cell_type": "markdown",
   "id": "68c73f55",
   "metadata": {},
   "source": [
    "l = []\n",
    "for i in range(20, 100):\n",
    "    if is_prime(i):\n",
    "        l.append(i)\n",
    "f = []\n",
    "for i in range(len(l)):\n",
    "    for j in range(i + 1, len(l)):\n",
    "        if i != j:\n",
    "            f.append(l[i] * l[j])\n",
    "print(f)\n",
    "\n",
    "x = []\n",
    "y = []\n",
    "for i in range(len(f)):\n",
    "\n",
    "    num_variables = num_variables_final(f[i])\n",
    "    print(num_variables)\n",
    "    x.append(f[i])\n",
    "    y.append(num_variables)\n",
    "\n",
    "a = plt.figure()\n",
    "axes = a.add_axes([0.1, 0.1, 0.8, 0.8])\n",
    "axes.set_xlim([2, 100000])\n",
    "axes.set_ylim([0, 140])\n",
    "axes.scatter(x, y)\n",
    "plt.show()"
   ]
  },
  {
   "cell_type": "markdown",
   "id": "a4708b19",
   "metadata": {},
   "source": [
    "z = []\n",
    "for i in range(len(y)):\n",
    "    z.append(2 * y[i])\n",
    "a = plt.figure()\n",
    "axes = a.add_axes([0.1, 0.1, 0.8, 0.8])\n",
    "axes.set_xlim([2, 160000])\n",
    "axes.set_ylim([0, 140])\n",
    "axes.scatter(x, z)\n",
    "plt.show()"
   ]
  },
  {
   "cell_type": "code",
   "execution_count": 6,
   "id": "4a0ab759",
   "metadata": {},
   "outputs": [
    {
     "data": {
      "text/plain": [
       "{(1, 2): z12,\n",
       " (1, 3): z13,\n",
       " (2, 3): z23,\n",
       " (1, 4): 0,\n",
       " (2, 4): z24,\n",
       " (3, 4): z34,\n",
       " (1, 5): 0,\n",
       " (2, 5): 0,\n",
       " (3, 5): z35,\n",
       " (4, 5): z45,\n",
       " (1, 6): 0,\n",
       " (2, 6): 0,\n",
       " (3, 6): 0,\n",
       " (4, 6): z46,\n",
       " (5, 6): z56,\n",
       " (1, 7): 0,\n",
       " (2, 7): 0,\n",
       " (3, 7): 0,\n",
       " (4, 7): 0,\n",
       " (5, 7): z57,\n",
       " (6, 7): z67}"
      ]
     },
     "execution_count": 6,
     "metadata": {},
     "output_type": "execute_result"
    }
   ],
   "source": [
    "m = 143\n",
    "m_dict, q_dict, p_dict, z_dict = create_dicts(m)\n",
    "z_dict"
   ]
  },
  {
   "cell_type": "code",
   "execution_count": null,
   "id": "b9482b0f",
   "metadata": {},
   "outputs": [],
   "source": []
  }
 ],
 "metadata": {
  "kernelspec": {
   "display_name": "Python 3 (ipykernel)",
   "language": "python",
   "name": "python3"
  },
  "language_info": {
   "codemirror_mode": {
    "name": "ipython",
    "version": 3
   },
   "file_extension": ".py",
   "mimetype": "text/x-python",
   "name": "python",
   "nbconvert_exporter": "python",
   "pygments_lexer": "ipython3",
   "version": "3.8.10"
  },
  "vscode": {
   "interpreter": {
    "hash": "f9f85f796d01129d0dd105a088854619f454435301f6ffec2fea96ecbd9be4ac"
   }
  }
 },
 "nbformat": 4,
 "nbformat_minor": 5
}
