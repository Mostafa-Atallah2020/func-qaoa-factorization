{
 "cells": [
  {
   "cell_type": "code",
   "execution_count": 1,
   "id": "f1e5e437",
   "metadata": {},
   "outputs": [],
   "source": [
    "import matplotlib.pyplot as plt\n",
    "\n",
    "from fns import *"
   ]
  },
  {
   "cell_type": "code",
   "execution_count": 2,
   "id": "b181598b",
   "metadata": {},
   "outputs": [
    {
     "name": "stdout",
     "output_type": "stream",
     "text": [
      "[667, 713, 851, 943, 989, 1081, 1219, 1357, 1403, 1541, 1633, 1679, 1817, 1909, 2047, 2231, 899, 1073, 1189, 1247, 1363, 1537, 1711, 1769, 1943, 2059, 2117, 2291, 2407, 2581, 2813, 1147, 1271, 1333, 1457, 1643, 1829, 1891, 2077, 2201, 2263, 2449, 2573, 2759, 3007, 1517, 1591, 1739, 1961, 2183, 2257, 2479, 2627, 2701, 2923, 3071, 3293, 3589, 1763, 1927, 2173, 2419, 2501, 2747, 2911, 2993, 3239, 3403, 3649, 3977, 2021, 2279, 2537, 2623, 2881, 3053, 3139, 3397, 3569, 3827, 4171, 2491, 2773, 2867, 3149, 3337, 3431, 3713, 3901, 4183, 4559, 3127, 3233, 3551, 3763, 3869, 4187, 4399, 4717, 5141, 3599, 3953, 4189, 4307, 4661, 4897, 5251, 5723, 4087, 4331, 4453, 4819, 5063, 5429, 5917, 4757, 4891, 5293, 5561, 5963, 6499, 5183, 5609, 5893, 6319, 6887, 5767, 6059, 6497, 7081, 6557, 7031, 7663, 7387, 8051, 8633]\n",
      "2\n",
      "2\n",
      "1\n",
      "3\n",
      "2\n",
      "0\n",
      "4\n",
      "3\n",
      "0\n",
      "3\n",
      "1\n",
      "3\n",
      "3\n",
      "2\n",
      "3\n",
      "4\n",
      "4\n",
      "0\n",
      "2\n",
      "6\n",
      "5\n",
      "0\n",
      "8\n",
      "0\n",
      "3\n",
      "5\n",
      "4\n",
      "2\n",
      "4\n",
      "4\n",
      "3\n",
      "2\n",
      "4\n",
      "2\n",
      "0\n",
      "3\n",
      "2\n",
      "5\n",
      "4\n",
      "3\n",
      "6\n",
      "3\n",
      "4\n",
      "6\n",
      "4\n",
      "2\n",
      "14\n",
      "5\n",
      "2\n",
      "6\n",
      "3\n",
      "4\n",
      "6\n",
      "4\n",
      "2\n",
      "4\n",
      "3\n",
      "3\n",
      "4\n",
      "3\n",
      "3\n",
      "2\n",
      "4\n",
      "2\n",
      "6\n",
      "2\n",
      "4\n",
      "5\n",
      "0\n",
      "3\n",
      "2\n",
      "4\n",
      "2\n",
      "4\n",
      "3\n",
      "3\n",
      "5\n",
      "3\n",
      "0\n",
      "5\n",
      "3\n",
      "2\n",
      "4\n",
      "2\n",
      "3\n",
      "2\n",
      "3\n",
      "0\n",
      "2\n",
      "18\n",
      "7\n",
      "14\n",
      "2\n",
      "3\n",
      "5\n",
      "3\n",
      "3\n",
      "8\n",
      "3\n",
      "6\n",
      "14\n",
      "2\n",
      "3\n",
      "3\n",
      "6\n",
      "5\n",
      "3\n",
      "3\n",
      "3\n",
      "3\n",
      "3\n",
      "5\n",
      "8\n",
      "6\n",
      "6\n",
      "6\n",
      "6\n",
      "6\n",
      "6\n",
      "3\n",
      "7\n",
      "18\n",
      "2\n",
      "6\n",
      "2\n",
      "1\n",
      "6\n",
      "2\n",
      "4\n",
      "6\n",
      "6\n",
      "3\n",
      "3\n",
      "6\n",
      "6\n",
      "6\n"
     ]
    },
    {
     "data": {
      "image/png": "[encoded data removed]",
      "text/plain": [
       "<Figure size 432x288 with 1 Axes>"
      ]
     },
     "metadata": {
      "needs_background": "light"
     },
     "output_type": "display_data"
    }
   ],
   "source": [
    "l=[]\n",
    "for i in range(20,100):\n",
    "    if is_prime(i):\n",
    "        l.append(i)\n",
    "f=[]\n",
    "for i in range(len(l)):\n",
    "    for j in range(i+1,len(l)):\n",
    "        if i!=j:\n",
    "            f.append(l[i]* l[j])\n",
    "print(f)\n",
    "\n",
    "x=[]\n",
    "y=[]\n",
    "for i in range(len(f)):\n",
    "    \n",
    "    num_variables=num_variables_final(f[i])\n",
    "    print(num_variables)\n",
    "    x.append(f[i])\n",
    "    y.append(num_variables)\n",
    "    \n",
    "a=plt.figure()\n",
    "axes= a.add_axes([0.1,0.1,0.8,0.8])\n",
    "axes.set_xlim([2,100000])\n",
    "axes.set_ylim([0,140])\n",
    "axes.scatter(x,y)\n",
    "plt.show()       "
   ]
  },
  {
   "cell_type": "code",
   "execution_count": 3,
   "id": "46292cd2",
   "metadata": {},
   "outputs": [
    {
     "data": {
      "image/png": "[encoded data removed]",
      "text/plain": [
       "<Figure size 432x288 with 1 Axes>"
      ]
     },
     "metadata": {
      "needs_background": "light"
     },
     "output_type": "display_data"
    }
   ],
   "source": [
    "z=[]\n",
    "for i in range (len(y)):\n",
    "    z.append(2*y[i])\n",
    "a=plt.figure()\n",
    "axes= a.add_axes([0.1,0.1,0.8,0.8])\n",
    "axes.set_xlim([2,160000])\n",
    "axes.set_ylim([0,140])\n",
    "axes.scatter(x,z)\n",
    "plt.show()      "
   ]
  }
 ],
 "metadata": {
  "kernelspec": {
   "display_name": "Python 3 (ipykernel)",
   "language": "python",
   "name": "python3"
  },
  "language_info": {
   "codemirror_mode": {
    "name": "ipython",
    "version": 3
   },
   "file_extension": ".py",
   "mimetype": "text/x-python",
   "name": "python",
   "nbconvert_exporter": "python",
   "pygments_lexer": "ipython3",
   "version": "3.8.10"
  },
  "vscode": {
   "interpreter": {
    "hash": "f9f85f796d01129d0dd105a088854619f454435301f6ffec2fea96ecbd9be4ac"
   }
  }
 },
 "nbformat": 4,
 "nbformat_minor": 5
}
