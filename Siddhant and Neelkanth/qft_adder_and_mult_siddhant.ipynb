{
 "cells": [
  {
   "cell_type": "code",
   "execution_count": 98,
   "metadata": {},
   "outputs": [],
   "source": [
    "import numpy as np\n",
    "from numpy import pi\n",
    "# importing Qiskit \n",
    "from qiskit import QuantumCircuit, transpile, assemble, Aer, IBMQ\n",
    "from qiskit.providers.ibmq import least_busy\n",
    "from qiskit.tools.monitor import job_monitor\n",
    "from qiskit.visualization import plot_histogram, plot_bloch_multivector\n",
    "from qiskit import execute\n",
    "from qiskit import QuantumRegister, ClassicalRegister, QuantumCircuit"
   ]
  },
  {
   "cell_type": "code",
   "execution_count": 99,
   "metadata": {},
   "outputs": [],
   "source": [
    "#QFT Block \n",
    "#Note that the order of qubits is as in Nielson and Chuang\n",
    "def swap_circuit(quantum_circuit, qubit_array):\n",
    "        nqubits = len(qubit_array)\n",
    "        for i in range(int(len(qubit_array)/2)):\n",
    "            quantum_circuit.swap(qubit_array[i],qubit_array[nqubits - 1-i])\n",
    "        return quantum_circuit \n",
    "def qft_routine(quantum_circuit,qubit_array):\n",
    "    if (len(qubit_array) == 1):\n",
    "        quantum_circuit.h(qubit_array[0])\n",
    "        return quantum_circuit\n",
    "    last_qubit = qubit_array[-1]\n",
    "    quantum_circuit.h(last_qubit)\n",
    "    for qubit in reversed(qubit_array[:-1]):\n",
    "            quantum_circuit.cp(2*pi/(2**(last_qubit-qubit+1)),qubit,last_qubit)\n",
    "    quantum_circuit = qft_routine(quantum_circuit,qubit_array[:-1])\n",
    "    return quantum_circuit \n",
    "def QFT(quantum_circuit,qubit_array,swap = True):\n",
    "    if(swap):   \n",
    "        quantum_circuit = swap_circuit(quantum_circuit,qubit_array)\n",
    "    return qft_routine(quantum_circuit,qubit_array)\n",
    "\n",
    "def IQFT(quantum_circuit,qubit_array,swap = True):\n",
    "        if(swap):\n",
    "            quantum_circuit = swap_circuit(quantum_circuit,qubit_array)\n",
    "        quantum_circuit.h(qubit_array[0])\n",
    "        for current_qubit_index in range(1,len(qubit_array)):\n",
    "            for qubit_index in range(current_qubit_index):\n",
    "                quantum_circuit.cp(-pi/(2**(qubit_index+1)), qubit_array[current_qubit_index], qubit_array[current_qubit_index - qubit_index - 1])\n",
    "            quantum_circuit.h(qubit_array[current_qubit_index])\n",
    "        return quantum_circuit \n",
    "\n",
    "def adder_block(number_of_qubits,multiplier):\n",
    "    qc = QuantumCircuit(2*number_of_qubits)\n",
    "    for i in range(number_of_qubits,2*number_of_qubits):\n",
    "        index = i - number_of_qubits\n",
    "        for j in range(index,number_of_qubits):\n",
    "            qc.cp(2**(multiplier)*pi/(2**(j - index)),j,i)\n",
    "    return qc \n"
   ]
  },
  {
   "cell_type": "code",
   "execution_count": 100,
   "metadata": {},
   "outputs": [],
   "source": [
    "def process_numbers(a,b):\n",
    "\n",
    "    if(len(a)>len(b)):\n",
    "        b = '0'*(len(a) - len(b)) + b \n",
    "    elif(len(b)>len(a)):\n",
    "        a = '0'*(len(b) - len(a)) + b \n",
    "    a = '0' + a \n",
    "    b = '0' + b\n",
    "    return a,b,len(a)\n",
    "\n",
    "def initialize_circuit(qc,a_num,b_num,n):\n",
    "    for i in range(n):\n",
    "        if(int(a_num[i])):\n",
    "            qc.x(i+n)\n",
    "        if(int(b_num[i])):\n",
    "            qc.x(i)\n",
    "    return qc "
   ]
  },
  {
   "cell_type": "code",
   "execution_count": 101,
   "metadata": {},
   "outputs": [],
   "source": [
    "def quantum_adder(a,b):\n",
    "    a = a\n",
    "    a_num,b_num,n = process_numbers(a,b)\n",
    "    a_reg = QuantumRegister(n,\"a\")\n",
    "    b_reg = QuantumRegister(n,\"b\")\n",
    "    c_reg = ClassicalRegister(n)\n",
    "    qc = QuantumCircuit(b_reg,a_reg,c_reg)\n",
    "    qc = initialize_circuit(qc,a_num,b_num,n)\n",
    "    qc.barrier()\n",
    "    qc = QFT(qc,range(2*n)[n:],swap = True)\n",
    "    qc = swap_circuit(qc,range(2*n)[n:])\n",
    "    qc.barrier()\n",
    "    qc = qc.compose(adder_block(n,0))\n",
    "    qc.barrier()\n",
    "    qc = IQFT(qc,range(2*n)[n:],swap = True)\n",
    "    qc.barrier()\n",
    "\n",
    "    return qc"
   ]
  },
  {
   "cell_type": "code",
   "execution_count": 112,
   "metadata": {},
   "outputs": [],
   "source": [
    "def measure_adder(qc,n):\n",
    "    qc.measure(range(2*n)[n:],range(n))\n",
    "    sim = Aer.get_backend('aer_simulator')  # Tell Qiskit how to simulate our circuit\n",
    "    qc = transpile(qc,sim)\n",
    "    qobj = assemble(qc)\n",
    "    result = sim.run(qobj).result()\n",
    "    counts = result.get_counts() \n",
    "    return list(counts)"
   ]
  },
  {
   "cell_type": "code",
   "execution_count": 115,
   "metadata": {},
   "outputs": [
    {
     "data": {
      "text/plain": [
       "['011010']"
      ]
     },
     "execution_count": 115,
     "metadata": {},
     "output_type": "execute_result"
    }
   ],
   "source": [
    "a = \"00100\"\n",
    "b = \"10110\"\n",
    "qc = quantum_adder(a,b)\n",
    "measure_adder(qc,len(a) + 1)"
   ]
  },
  {
   "cell_type": "code",
   "execution_count": 120,
   "metadata": {},
   "outputs": [],
   "source": [
    "def quantum_multiplier(a,b):\n",
    "    a_num,b_num,n = process_numbers(a,b) \n",
    "    a_reg = QuantumRegister(n,\"a\")\n",
    "    b_reg = QuantumRegister(n,\"b\")\n",
    "    zero = QuantumRegister(n,\"zero\")\n",
    "    c = ClassicalRegister(n)\n",
    "    qc = QuantumCircuit(b_reg,a_reg,zero,c)\n",
    "\n",
    "    qc = initialize_circuit(qc,a_num,b_num,n)\n",
    "    qc.barrier()\n",
    "    \n",
    "    qc = QFT(qc,range(3*n)[2*n:])\n",
    "    #qc = swap_circuit(qc,range(3*n)[2*n:])\n",
    "    qc.barrier()\n",
    "    arr = list(range(3*n))[n:]\n",
    "    for i in reversed(range(n)):\n",
    "        block = adder_block(n,n-1-i).to_gate().control(1)\n",
    "        arr.insert(0,i)\n",
    "        #print(arr)\n",
    "        qc.append(block,arr)\n",
    "        arr = arr[1:]\n",
    "    qc.barrier()\n",
    "    qc = IQFT(qc,range(3*n)[2*n:])\n",
    "\n",
    "    return qc"
   ]
  },
  {
   "cell_type": "code",
   "execution_count": 127,
   "metadata": {},
   "outputs": [],
   "source": [
    "def measure_multiplier(qc,n):\n",
    "    qc.measure(range(3*n)[2*n:],range(n))\n",
    "    sim = Aer.get_backend('aer_simulator')  # Tell Qiskit how to simulate our circuit\n",
    "    qc = transpile(qc, sim)\n",
    "    qobj = assemble(qc)\n",
    "    result = sim.run(qobj).result()\n",
    "    counts = result.get_counts()\n",
    "    return list(counts)"
   ]
  },
  {
   "cell_type": "code",
   "execution_count": 137,
   "metadata": {},
   "outputs": [
    {
     "data": {
      "text/plain": [
       "['0100']"
      ]
     },
     "execution_count": 137,
     "metadata": {},
     "output_type": "execute_result"
    }
   ],
   "source": [
    "a = \"001\" \n",
    "b = \"100\"\n",
    "qc = quantum_multiplier(a,b)\n",
    "measure_multiplier(qc,len(a) + 1)"
   ]
  }
 ],
 "metadata": {
  "kernelspec": {
   "display_name": "Python 3.8.10 64-bit",
   "language": "python",
   "name": "python3"
  },
  "language_info": {
   "codemirror_mode": {
    "name": "ipython",
    "version": 3
   },
   "file_extension": ".py",
   "mimetype": "text/x-python",
   "name": "python",
   "nbconvert_exporter": "python",
   "pygments_lexer": "ipython3",
   "version": "3.8.10"
  },
  "orig_nbformat": 4,
  "vscode": {
   "interpreter": {
    "hash": "e7370f93d1d0cde622a1f8e1c04877d8463912d04d973331ad4851f04de6915a"
   }
  }
 },
 "nbformat": 4,
 "nbformat_minor": 2
}
