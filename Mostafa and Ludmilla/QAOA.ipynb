{
 "cells": [
  {
   "cell_type": "code",
   "execution_count": 71,
   "metadata": {},
   "outputs": [
    {
     "name": "stdout",
     "output_type": "stream",
     "text": [
      "The autoreload extension is already loaded. To reload it, use:\n",
      "  %reload_ext autoreload\n"
     ]
    }
   ],
   "source": [
    "%load_ext autoreload\n",
    "%autoreload 2"
   ]
  },
  {
   "cell_type": "code",
   "execution_count": 72,
   "metadata": {},
   "outputs": [],
   "source": [
    "from vqf import (\n",
    "    get_classical_energy,\n",
    "    get_symbols,\n",
    ")\n",
    "from qiskit.quantum_info.operators.symplectic.pauli import Pauli\n",
    "from qiskit.opflow import Z, I"
   ]
  },
  {
   "cell_type": "code",
   "execution_count": 74,
   "metadata": {},
   "outputs": [
    {
     "data": {
      "text/latex": [
       "$\\displaystyle 2 p_{2} p_{3} q_{1} q_{2} + 2 p_{2} p_{3} q_{1} + 2 p_{2} p_{3} q_{2} q_{3} + 2 p_{2} p_{4} q_{1} q_{3} + 2 p_{2} p_{4} q_{2} + 2 p_{2} p_{5} q_{3} - 2 p_{2} q_{1} q_{2} q_{3} + 2 p_{2} q_{1} q_{3} + 2 p_{2} q_{1} z_{2 3} - 4 p_{2} q_{1} z_{3 4} - 8 p_{2} q_{1} z_{3 5} - p_{2} q_{1} + 2 p_{2} q_{2} q_{3} + 2 p_{2} q_{2} z_{3 4} - 4 p_{2} q_{2} z_{4 5} - 8 p_{2} q_{2} z_{4 6} + 3 p_{2} q_{2} + 2 p_{2} q_{3} z_{3 5} + 2 p_{2} q_{3} z_{4 5} - 4 p_{2} q_{3} z_{5 6} - 8 p_{2} q_{3} z_{5 7} + p_{2} q_{3} - 4 p_{2} z_{2 3} - p_{2} + 2 p_{3} p_{4} q_{1} q_{2} + 2 p_{3} p_{4} q_{1} + 2 p_{3} p_{4} q_{2} q_{3} + 2 p_{3} p_{5} q_{1} q_{3} + 2 p_{3} p_{5} q_{2} + 2 p_{3} p_{6} q_{3} - 2 p_{3} q_{1} q_{2} + 2 p_{3} q_{1} z_{3 4} - 4 p_{3} q_{1} z_{4 5} - 8 p_{3} q_{1} z_{4 6} + p_{3} q_{1} + 2 p_{3} q_{2} z_{3 5} + 2 p_{3} q_{2} z_{4 5} - 4 p_{3} q_{2} z_{5 6} - 8 p_{3} q_{2} z_{5 7} + 3 p_{3} q_{2} + 2 p_{3} q_{3} z_{4 6} + 2 p_{3} q_{3} z_{5 6} - 4 p_{3} q_{3} z_{6 7} + 3 p_{3} q_{3} + 2 p_{3} z_{2 3} - 4 p_{3} z_{3 4} - 8 p_{3} z_{3 5} - p_{3} + 2 p_{4} p_{5} q_{1} q_{2} + 2 p_{4} p_{5} q_{1} + 2 p_{4} p_{5} q_{2} q_{3} + 2 p_{4} p_{6} q_{1} q_{3} + 2 p_{4} p_{6} q_{2} + 2 p_{4} p_{7} q_{3} - 2 p_{4} q_{1} q_{3} + 2 p_{4} q_{1} z_{3 5} + 2 p_{4} q_{1} z_{4 5} - 4 p_{4} q_{1} z_{5 6} - 8 p_{4} q_{1} z_{5 7} + p_{4} q_{1} + 2 p_{4} q_{2} z_{4 6} + 2 p_{4} q_{2} z_{5 6} - 4 p_{4} q_{2} z_{6 7} + p_{4} q_{2} + 2 p_{4} q_{3} z_{5 7} + 2 p_{4} q_{3} z_{6 7} + p_{4} q_{3} + 2 p_{4} z_{3 4} - 4 p_{4} z_{4 5} - 8 p_{4} z_{4 6} + p_{4} + 2 p_{5} p_{6} q_{1} q_{2} + 2 p_{5} p_{6} q_{1} + 2 p_{5} p_{6} q_{2} q_{3} + 2 p_{5} p_{7} q_{1} q_{3} + 2 p_{5} p_{7} q_{2} + 2 p_{5} q_{1} z_{4 6} + 2 p_{5} q_{1} z_{5 6} - 4 p_{5} q_{1} z_{6 7} + p_{5} q_{1} + 2 p_{5} q_{2} z_{5 7} + 2 p_{5} q_{2} z_{6 7} - p_{5} q_{2} + p_{5} q_{3} + 2 p_{5} z_{3 5} + 2 p_{5} z_{4 5} - 4 p_{5} z_{5 6} - 8 p_{5} z_{5 7} + p_{5} + 2 p_{6} p_{7} q_{1} q_{2} + 2 p_{6} p_{7} q_{1} + 2 p_{6} p_{7} q_{2} q_{3} + 2 p_{6} q_{1} z_{5 7} + 2 p_{6} q_{1} z_{6 7} - p_{6} q_{1} + p_{6} q_{2} + p_{6} q_{3} + 2 p_{6} z_{4 6} + 2 p_{6} z_{5 6} - 4 p_{6} z_{6 7} + p_{6} + p_{7} q_{1} + p_{7} q_{2} + p_{7} q_{3} + 2 p_{7} z_{5 7} + 2 p_{7} z_{6 7} - p_{7} - 2 q_{1} q_{2} q_{3} - 2 q_{1} q_{2} z_{2 3} + 4 q_{1} q_{2} z_{3 4} + 8 q_{1} q_{2} z_{3 5} + q_{1} q_{2} - 2 q_{1} q_{3} z_{3 4} + 4 q_{1} q_{3} z_{4 5} + 8 q_{1} q_{3} z_{4 6} - q_{1} q_{3} + 2 q_{2} q_{3} - 2 q_{2} z_{2 3} - 4 q_{2} z_{3 4} - 8 q_{2} z_{3 5} - 2 q_{2} + 2 q_{3} z_{2 3} - 2 q_{3} z_{3 4} - 8 q_{3} z_{3 5} - 4 q_{3} z_{4 5} - 8 q_{3} z_{4 6} - 4 z_{2 3} z_{3 4} - 8 z_{2 3} z_{3 5} + 7 z_{2 3} + 16 z_{3 4} z_{3 5} - 4 z_{3 4} z_{4 5} - 8 z_{3 4} z_{4 6} + 9 z_{3 4} + 2 z_{3 5} z_{4 5} - 4 z_{3 5} z_{5 6} - 8 z_{3 5} z_{5 7} + 25 z_{3 5} + 16 z_{4 5} z_{4 6} - 4 z_{4 5} z_{5 6} - 8 z_{4 5} z_{5 7} + 5 z_{4 5} + 2 z_{4 6} z_{5 6} - 4 z_{4 6} z_{6 7} + 17 z_{4 6} + 16 z_{5 6} z_{5 7} - 4 z_{5 6} z_{6 7} + 5 z_{5 6} + 2 z_{5 7} z_{6 7} + 15 z_{5 7} + 3 z_{6 7} + 3$"
      ],
      "text/plain": [
       "2*p_2*p_3*q_1*q_2 + 2*p_2*p_3*q_1 + 2*p_2*p_3*q_2*q_3 + 2*p_2*p_4*q_1*q_3 + 2*p_2*p_4*q_2 + 2*p_2*p_5*q_3 - 2*p_2*q_1*q_2*q_3 + 2*p_2*q_1*q_3 + 2*p_2*q_1*z_2_3 - 4*p_2*q_1*z_3_4 - 8*p_2*q_1*z_3_5 - p_2*q_1 + 2*p_2*q_2*q_3 + 2*p_2*q_2*z_3_4 - 4*p_2*q_2*z_4_5 - 8*p_2*q_2*z_4_6 + 3*p_2*q_2 + 2*p_2*q_3*z_3_5 + 2*p_2*q_3*z_4_5 - 4*p_2*q_3*z_5_6 - 8*p_2*q_3*z_5_7 + p_2*q_3 - 4*p_2*z_2_3 - p_2 + 2*p_3*p_4*q_1*q_2 + 2*p_3*p_4*q_1 + 2*p_3*p_4*q_2*q_3 + 2*p_3*p_5*q_1*q_3 + 2*p_3*p_5*q_2 + 2*p_3*p_6*q_3 - 2*p_3*q_1*q_2 + 2*p_3*q_1*z_3_4 - 4*p_3*q_1*z_4_5 - 8*p_3*q_1*z_4_6 + p_3*q_1 + 2*p_3*q_2*z_3_5 + 2*p_3*q_2*z_4_5 - 4*p_3*q_2*z_5_6 - 8*p_3*q_2*z_5_7 + 3*p_3*q_2 + 2*p_3*q_3*z_4_6 + 2*p_3*q_3*z_5_6 - 4*p_3*q_3*z_6_7 + 3*p_3*q_3 + 2*p_3*z_2_3 - 4*p_3*z_3_4 - 8*p_3*z_3_5 - p_3 + 2*p_4*p_5*q_1*q_2 + 2*p_4*p_5*q_1 + 2*p_4*p_5*q_2*q_3 + 2*p_4*p_6*q_1*q_3 + 2*p_4*p_6*q_2 + 2*p_4*p_7*q_3 - 2*p_4*q_1*q_3 + 2*p_4*q_1*z_3_5 + 2*p_4*q_1*z_4_5 - 4*p_4*q_1*z_5_6 - 8*p_4*q_1*z_5_7 + p_4*q_1 + 2*p_4*q_2*z_4_6 + 2*p_4*q_2*z_5_6 - 4*p_4*q_2*z_6_7 + p_4*q_2 + 2*p_4*q_3*z_5_7 + 2*p_4*q_3*z_6_7 + p_4*q_3 + 2*p_4*z_3_4 - 4*p_4*z_4_5 - 8*p_4*z_4_6 + p_4 + 2*p_5*p_6*q_1*q_2 + 2*p_5*p_6*q_1 + 2*p_5*p_6*q_2*q_3 + 2*p_5*p_7*q_1*q_3 + 2*p_5*p_7*q_2 + 2*p_5*q_1*z_4_6 + 2*p_5*q_1*z_5_6 - 4*p_5*q_1*z_6_7 + p_5*q_1 + 2*p_5*q_2*z_5_7 + 2*p_5*q_2*z_6_7 - p_5*q_2 + p_5*q_3 + 2*p_5*z_3_5 + 2*p_5*z_4_5 - 4*p_5*z_5_6 - 8*p_5*z_5_7 + p_5 + 2*p_6*p_7*q_1*q_2 + 2*p_6*p_7*q_1 + 2*p_6*p_7*q_2*q_3 + 2*p_6*q_1*z_5_7 + 2*p_6*q_1*z_6_7 - p_6*q_1 + p_6*q_2 + p_6*q_3 + 2*p_6*z_4_6 + 2*p_6*z_5_6 - 4*p_6*z_6_7 + p_6 + p_7*q_1 + p_7*q_2 + p_7*q_3 + 2*p_7*z_5_7 + 2*p_7*z_6_7 - p_7 - 2*q_1*q_2*q_3 - 2*q_1*q_2*z_2_3 + 4*q_1*q_2*z_3_4 + 8*q_1*q_2*z_3_5 + q_1*q_2 - 2*q_1*q_3*z_3_4 + 4*q_1*q_3*z_4_5 + 8*q_1*q_3*z_4_6 - q_1*q_3 + 2*q_2*q_3 - 2*q_2*z_2_3 - 4*q_2*z_3_4 - 8*q_2*z_3_5 - 2*q_2 + 2*q_3*z_2_3 - 2*q_3*z_3_4 - 8*q_3*z_3_5 - 4*q_3*z_4_5 - 8*q_3*z_4_6 - 4*z_2_3*z_3_4 - 8*z_2_3*z_3_5 + 7*z_2_3 + 16*z_3_4*z_3_5 - 4*z_3_4*z_4_5 - 8*z_3_4*z_4_6 + 9*z_3_4 + 2*z_3_5*z_4_5 - 4*z_3_5*z_5_6 - 8*z_3_5*z_5_7 + 25*z_3_5 + 16*z_4_5*z_4_6 - 4*z_4_5*z_5_6 - 8*z_4_5*z_5_7 + 5*z_4_5 + 2*z_4_6*z_5_6 - 4*z_4_6*z_6_7 + 17*z_4_6 + 16*z_5_6*z_5_7 - 4*z_5_6*z_6_7 + 5*z_5_6 + 2*z_5_7*z_6_7 + 15*z_5_7 + 3*z_6_7 + 3"
      ]
     },
     "execution_count": 74,
     "metadata": {},
     "output_type": "execute_result"
    }
   ],
   "source": [
    "m = 143\n",
    "energy = get_classical_energy(m)\n",
    "energy"
   ]
  },
  {
   "cell_type": "code",
   "execution_count": 92,
   "metadata": {},
   "outputs": [
    {
     "data": {
      "text/latex": [
       "$\\displaystyle 2 p_{6} p_{7} q_{2} q_{3}$"
      ],
      "text/plain": [
       "2*p_6*p_7*q_2*q_3"
      ]
     },
     "execution_count": 92,
     "metadata": {},
     "output_type": "execute_result"
    }
   ],
   "source": [
    "terms = energy.args[::-1]\n",
    "term = terms[0]\n",
    "term"
   ]
  },
  {
   "cell_type": "markdown",
   "metadata": {},
   "source": [
    "for term in energy.args:\n",
    "    for var in term.args:\n",
    "        if type(var) == Pow:\n",
    "            print(var)\n"
   ]
  },
  {
   "cell_type": "code",
   "execution_count": 93,
   "metadata": {},
   "outputs": [
    {
     "name": "stdout",
     "output_type": "stream",
     "text": [
      "[z_5_6, z_3_5, z_2_3, z_4_6, p_6, z_6_7, q_3, z_3_4, z_4_5, z_5_7, p_5, p_2, p_7, p_4, q_1, p_3, q_2]\n",
      "2*p_6*p_7*q_2*q_3\n"
     ]
    }
   ],
   "source": [
    "free_symbols = list(energy.free_symbols)\n",
    "coeff, symbols = get_symbols(term)\n",
    "print(free_symbols)\n",
    "print(term)"
   ]
  },
  {
   "cell_type": "code",
   "execution_count": 94,
   "metadata": {},
   "outputs": [
    {
     "name": "stdout",
     "output_type": "stream",
     "text": [
      "0.125 * IIIIIIIIIIIIIIIII\n",
      "- 0.125 * IIIIIIIIIIIIIIIIZ\n",
      "- 0.125 * IIIIIIIIIIIIZIIII\n",
      "+ 0.125 * IIIIIIIIIIIIZIIIZ\n",
      "- 0.125 * IIIIIIZIIIIIIIIII\n",
      "+ 0.125 * IIIIIIZIIIIIIIIIZ\n",
      "+ 0.125 * IIIIIIZIIIIIZIIII\n",
      "- 0.125 * IIIIIIZIIIIIZIIIZ\n",
      "- 0.125 * IIIIZIIIIIIIIIIII\n",
      "+ 0.125 * IIIIZIIIIIIIIIIIZ\n",
      "+ 0.125 * IIIIZIIIIIIIZIIII\n",
      "- 0.125 * IIIIZIIIIIIIZIIIZ\n",
      "+ 0.125 * IIIIZIZIIIIIIIIII\n",
      "- 0.125 * IIIIZIZIIIIIIIIIZ\n",
      "- 0.125 * IIIIZIZIIIIIZIIII\n",
      "+ 0.125 * IIIIZIZIIIIIZIIIZ\n"
     ]
    },
    {
     "data": {
      "text/plain": [
       "PauliSumOp(SparsePauliOp(['IIIIIIIIIIIIIIIII', 'IIIIIIIIIIIIIIIIZ', 'IIIIIIIIIIIIZIIII', 'IIIIIIIIIIIIZIIIZ', 'IIIIIIZIIIIIIIIII', 'IIIIIIZIIIIIIIIIZ', 'IIIIIIZIIIIIZIIII', 'IIIIIIZIIIIIZIIIZ', 'IIIIZIIIIIIIIIIII', 'IIIIZIIIIIIIIIIIZ', 'IIIIZIIIIIIIZIIII', 'IIIIZIIIIIIIZIIIZ', 'IIIIZIZIIIIIIIIII', 'IIIIZIZIIIIIIIIIZ', 'IIIIZIZIIIIIZIIII', 'IIIIZIZIIIIIZIIIZ'],\n",
       "              coeffs=[ 0.125+0.j, -0.125+0.j, -0.125+0.j,  0.125+0.j, -0.125+0.j,  0.125+0.j,\n",
       "  0.125+0.j, -0.125+0.j, -0.125+0.j,  0.125+0.j,  0.125+0.j, -0.125+0.j,\n",
       "  0.125+0.j, -0.125+0.j, -0.125+0.j,  0.125+0.j]), coeff=1.0)"
      ]
     },
     "execution_count": 94,
     "metadata": {},
     "output_type": "execute_result"
    }
   ],
   "source": [
    "def get_pauli_str(term, free_symbols):\n",
    "    coeff, symbols = get_symbols(term)\n",
    "    symbols = list(symbols)\n",
    "    vars = {}\n",
    "\n",
    "    for i in range(len(free_symbols)):\n",
    "        s = free_symbols[i]\n",
    "        vars[s] = False\n",
    "    \n",
    "    for i in range(len(symbols)):\n",
    "        if symbols[i] in vars.keys():\n",
    "            vars[symbols[i]] = True\n",
    "\n",
    "    if vars[free_symbols[0]]:\n",
    "        ising = (I-Z)/2\n",
    "    else:\n",
    "        ising = I\n",
    "\n",
    "    for i in range(1, len(free_symbols)):\n",
    "        if vars[free_symbols[i]]:\n",
    "            ising ^= (I-Z)/2\n",
    "        else:\n",
    "            ising ^= I\n",
    "    print(coeff * ising)\n",
    "    return coeff * ising\n",
    "\n",
    "ising = get_pauli_str(term, free_symbols)\n",
    "ising"
   ]
  },
  {
   "cell_type": "code",
   "execution_count": 6,
   "metadata": {},
   "outputs": [
    {
     "name": "stdout",
     "output_type": "stream",
     "text": [
      "3\n",
      "(3, ())\n",
      "p_4\n",
      "(1, (p_4,))\n",
      "p_5\n",
      "(1, (p_5,))\n",
      "p_6\n",
      "(1, (p_6,))\n",
      "-p_2\n",
      "(-p_2, ())\n",
      "-p_3\n",
      "(-p_3, ())\n",
      "-p_7\n",
      "(-p_7, ())\n",
      "-2*q_2\n",
      "(-2*q_2, ())\n",
      "3*z_6_7\n",
      "(3*z_6_7, ())\n",
      "5*z_4_5\n",
      "(5*z_4_5, ())\n",
      "5*z_5_6\n",
      "(5*z_5_6, ())\n",
      "7*z_2_3\n",
      "(7*z_2_3, ())\n",
      "9*z_3_4\n",
      "(9*z_3_4, ())\n",
      "15*z_5_7\n",
      "(15*z_5_7, ())\n",
      "17*z_4_6\n",
      "(17*z_4_6, ())\n",
      "25*z_3_5\n",
      "(25*z_3_5, ())\n",
      "p_2*q_3\n",
      "(p_2*q_3, ())\n",
      "p_3*q_1\n",
      "(p_3*q_1, ())\n",
      "p_4*q_1\n",
      "(p_4*q_1, ())\n",
      "p_4*q_2\n",
      "(p_4*q_2, ())\n",
      "p_4*q_3\n",
      "(p_4*q_3, ())\n",
      "p_5*q_1\n",
      "(p_5*q_1, ())\n",
      "p_5*q_3\n",
      "(p_5*q_3, ())\n",
      "p_6*q_2\n",
      "(p_6*q_2, ())\n",
      "p_6*q_3\n",
      "(p_6*q_3, ())\n",
      "p_7*q_1\n",
      "(p_7*q_1, ())\n",
      "p_7*q_2\n",
      "(p_7*q_2, ())\n",
      "p_7*q_3\n",
      "(p_7*q_3, ())\n",
      "q_1*q_2\n",
      "(q_1*q_2, ())\n",
      "-p_2*q_1\n",
      "(-p_2*q_1, ())\n",
      "-p_5*q_2\n",
      "(-p_5*q_2, ())\n",
      "-p_6*q_1\n",
      "(-p_6*q_1, ())\n",
      "-q_1*q_3\n",
      "(-q_1*q_3, ())\n",
      "-8*p_3*z_3_5\n",
      "(-8*p_3*z_3_5, ())\n",
      "-8*p_4*z_4_6\n",
      "(-8*p_4*z_4_6, ())\n",
      "-8*p_5*z_5_7\n",
      "(-8*p_5*z_5_7, ())\n",
      "-8*q_2*z_3_5\n",
      "(-8*q_2*z_3_5, ())\n",
      "-8*q_3*z_3_5\n",
      "(-8*q_3*z_3_5, ())\n",
      "-8*q_3*z_4_6\n",
      "(-8*q_3*z_4_6, ())\n",
      "-8*z_2_3*z_3_5\n",
      "(-8*z_2_3*z_3_5, ())\n",
      "-8*z_3_4*z_4_6\n",
      "(-8*z_3_4*z_4_6, ())\n",
      "-8*z_3_5*z_5_7\n",
      "(-8*z_3_5*z_5_7, ())\n",
      "-8*z_4_5*z_5_7\n",
      "(-8*z_4_5*z_5_7, ())\n",
      "-4*p_2*z_2_3\n",
      "(-4*p_2*z_2_3, ())\n",
      "-4*p_3*z_3_4\n",
      "(-4*p_3*z_3_4, ())\n",
      "-4*p_4*z_4_5\n",
      "(-4*p_4*z_4_5, ())\n",
      "-4*p_5*z_5_6\n",
      "(-4*p_5*z_5_6, ())\n",
      "-4*p_6*z_6_7\n",
      "(-4*p_6*z_6_7, ())\n",
      "-4*q_2*z_3_4\n",
      "(-4*q_2*z_3_4, ())\n",
      "-4*q_3*z_4_5\n",
      "(-4*q_3*z_4_5, ())\n",
      "-4*z_2_3*z_3_4\n",
      "(-4*z_2_3*z_3_4, ())\n",
      "-4*z_3_4*z_4_5\n",
      "(-4*z_3_4*z_4_5, ())\n",
      "-4*z_3_5*z_5_6\n",
      "(-4*z_3_5*z_5_6, ())\n",
      "-4*z_4_5*z_5_6\n",
      "(-4*z_4_5*z_5_6, ())\n",
      "-4*z_4_6*z_6_7\n",
      "(-4*z_4_6*z_6_7, ())\n",
      "-4*z_5_6*z_6_7\n",
      "(-4*z_5_6*z_6_7, ())\n",
      "-2*q_2*z_2_3\n",
      "(-2*q_2*z_2_3, ())\n",
      "-2*q_3*z_3_4\n",
      "(-2*q_3*z_3_4, ())\n",
      "2*p_3*z_2_3\n",
      "(2*p_3*z_2_3, ())\n",
      "2*p_4*z_3_4\n",
      "(2*p_4*z_3_4, ())\n",
      "2*p_5*z_3_5\n",
      "(2*p_5*z_3_5, ())\n",
      "2*p_5*z_4_5\n",
      "(2*p_5*z_4_5, ())\n",
      "2*p_6*z_4_6\n",
      "(2*p_6*z_4_6, ())\n",
      "2*p_6*z_5_6\n",
      "(2*p_6*z_5_6, ())\n",
      "2*p_7*z_5_7\n",
      "(2*p_7*z_5_7, ())\n",
      "2*p_7*z_6_7\n",
      "(2*p_7*z_6_7, ())\n",
      "2*q_2*q_3\n",
      "(2*q_2*q_3, ())\n",
      "2*q_3*z_2_3\n",
      "(2*q_3*z_2_3, ())\n",
      "2*z_3_5*z_4_5\n",
      "(2*z_3_5*z_4_5, ())\n",
      "2*z_4_6*z_5_6\n",
      "(2*z_4_6*z_5_6, ())\n",
      "2*z_5_7*z_6_7\n",
      "(2*z_5_7*z_6_7, ())\n",
      "3*p_2*q_2\n",
      "(3*p_2*q_2, ())\n",
      "3*p_3*q_2\n",
      "(3*p_3*q_2, ())\n",
      "3*p_3*q_3\n",
      "(3*p_3*q_3, ())\n",
      "16*z_3_4*z_3_5\n",
      "(16*z_3_4*z_3_5, ())\n",
      "16*z_4_5*z_4_6\n",
      "(16*z_4_5*z_4_6, ())\n",
      "16*z_5_6*z_5_7\n",
      "(16*z_5_6*z_5_7, ())\n",
      "-8*p_2*q_1*z_3_5\n",
      "(-8*p_2*q_1*z_3_5, ())\n",
      "-8*p_2*q_2*z_4_6\n",
      "(-8*p_2*q_2*z_4_6, ())\n",
      "-8*p_2*q_3*z_5_7\n",
      "(-8*p_2*q_3*z_5_7, ())\n",
      "-8*p_3*q_1*z_4_6\n",
      "(-8*p_3*q_1*z_4_6, ())\n",
      "-8*p_3*q_2*z_5_7\n",
      "(-8*p_3*q_2*z_5_7, ())\n",
      "-8*p_4*q_1*z_5_7\n",
      "(-8*p_4*q_1*z_5_7, ())\n",
      "-4*p_2*q_1*z_3_4\n",
      "(-4*p_2*q_1*z_3_4, ())\n",
      "-4*p_2*q_2*z_4_5\n",
      "(-4*p_2*q_2*z_4_5, ())\n",
      "-4*p_2*q_3*z_5_6\n",
      "(-4*p_2*q_3*z_5_6, ())\n",
      "-4*p_3*q_1*z_4_5\n",
      "(-4*p_3*q_1*z_4_5, ())\n",
      "-4*p_3*q_2*z_5_6\n",
      "(-4*p_3*q_2*z_5_6, ())\n",
      "-4*p_3*q_3*z_6_7\n",
      "(-4*p_3*q_3*z_6_7, ())\n",
      "-4*p_4*q_1*z_5_6\n",
      "(-4*p_4*q_1*z_5_6, ())\n",
      "-4*p_4*q_2*z_6_7\n",
      "(-4*p_4*q_2*z_6_7, ())\n",
      "-4*p_5*q_1*z_6_7\n",
      "(-4*p_5*q_1*z_6_7, ())\n",
      "-2*p_3*q_1*q_2\n",
      "(-2*p_3*q_1*q_2, ())\n",
      "-2*p_4*q_1*q_3\n",
      "(-2*p_4*q_1*q_3, ())\n",
      "-2*q_1*q_2*q_3\n",
      "(-2*q_1*q_2*q_3, ())\n",
      "-2*q_1*q_2*z_2_3\n",
      "(-2*q_1*q_2*z_2_3, ())\n",
      "-2*q_1*q_3*z_3_4\n",
      "(-2*q_1*q_3*z_3_4, ())\n",
      "2*p_2*p_3*q_1\n",
      "(2*p_2*p_3*q_1, ())\n",
      "2*p_2*p_4*q_2\n",
      "(2*p_2*p_4*q_2, ())\n",
      "2*p_2*p_5*q_3\n",
      "(2*p_2*p_5*q_3, ())\n",
      "2*p_2*q_1*q_3\n",
      "(2*p_2*q_1*q_3, ())\n",
      "2*p_2*q_1*z_2_3\n",
      "(2*p_2*q_1*z_2_3, ())\n",
      "2*p_2*q_2*q_3\n",
      "(2*p_2*q_2*q_3, ())\n",
      "2*p_2*q_2*z_3_4\n",
      "(2*p_2*q_2*z_3_4, ())\n",
      "2*p_2*q_3*z_3_5\n",
      "(2*p_2*q_3*z_3_5, ())\n",
      "2*p_2*q_3*z_4_5\n",
      "(2*p_2*q_3*z_4_5, ())\n",
      "2*p_3*p_4*q_1\n",
      "(2*p_3*p_4*q_1, ())\n",
      "2*p_3*p_5*q_2\n",
      "(2*p_3*p_5*q_2, ())\n",
      "2*p_3*p_6*q_3\n",
      "(2*p_3*p_6*q_3, ())\n",
      "2*p_3*q_1*z_3_4\n",
      "(2*p_3*q_1*z_3_4, ())\n",
      "2*p_3*q_2*z_3_5\n",
      "(2*p_3*q_2*z_3_5, ())\n",
      "2*p_3*q_2*z_4_5\n",
      "(2*p_3*q_2*z_4_5, ())\n",
      "2*p_3*q_3*z_4_6\n",
      "(2*p_3*q_3*z_4_6, ())\n",
      "2*p_3*q_3*z_5_6\n",
      "(2*p_3*q_3*z_5_6, ())\n",
      "2*p_4*p_5*q_1\n",
      "(2*p_4*p_5*q_1, ())\n",
      "2*p_4*p_6*q_2\n",
      "(2*p_4*p_6*q_2, ())\n",
      "2*p_4*p_7*q_3\n",
      "(2*p_4*p_7*q_3, ())\n",
      "2*p_4*q_1*z_3_5\n",
      "(2*p_4*q_1*z_3_5, ())\n",
      "2*p_4*q_1*z_4_5\n",
      "(2*p_4*q_1*z_4_5, ())\n",
      "2*p_4*q_2*z_4_6\n",
      "(2*p_4*q_2*z_4_6, ())\n",
      "2*p_4*q_2*z_5_6\n",
      "(2*p_4*q_2*z_5_6, ())\n",
      "2*p_4*q_3*z_5_7\n",
      "(2*p_4*q_3*z_5_7, ())\n",
      "2*p_4*q_3*z_6_7\n",
      "(2*p_4*q_3*z_6_7, ())\n",
      "2*p_5*p_6*q_1\n",
      "(2*p_5*p_6*q_1, ())\n",
      "2*p_5*p_7*q_2\n",
      "(2*p_5*p_7*q_2, ())\n",
      "2*p_5*q_1*z_4_6\n",
      "(2*p_5*q_1*z_4_6, ())\n",
      "2*p_5*q_1*z_5_6\n",
      "(2*p_5*q_1*z_5_6, ())\n",
      "2*p_5*q_2*z_5_7\n",
      "(2*p_5*q_2*z_5_7, ())\n",
      "2*p_5*q_2*z_6_7\n",
      "(2*p_5*q_2*z_6_7, ())\n",
      "2*p_6*p_7*q_1\n",
      "(2*p_6*p_7*q_1, ())\n",
      "2*p_6*q_1*z_5_7\n",
      "(2*p_6*q_1*z_5_7, ())\n",
      "2*p_6*q_1*z_6_7\n",
      "(2*p_6*q_1*z_6_7, ())\n",
      "4*q_1*q_2*z_3_4\n",
      "(4*q_1*q_2*z_3_4, ())\n",
      "4*q_1*q_3*z_4_5\n",
      "(4*q_1*q_3*z_4_5, ())\n",
      "8*q_1*q_2*z_3_5\n",
      "(8*q_1*q_2*z_3_5, ())\n",
      "8*q_1*q_3*z_4_6\n",
      "(8*q_1*q_3*z_4_6, ())\n",
      "-2*p_2*q_1*q_2*q_3\n",
      "(-2*p_2*q_1*q_2*q_3, ())\n",
      "2*p_2*p_3*q_1*q_2\n",
      "(2*p_2*p_3*q_1*q_2, ())\n",
      "2*p_2*p_3*q_2*q_3\n",
      "(2*p_2*p_3*q_2*q_3, ())\n",
      "2*p_2*p_4*q_1*q_3\n",
      "(2*p_2*p_4*q_1*q_3, ())\n",
      "2*p_3*p_4*q_1*q_2\n",
      "(2*p_3*p_4*q_1*q_2, ())\n",
      "2*p_3*p_4*q_2*q_3\n",
      "(2*p_3*p_4*q_2*q_3, ())\n",
      "2*p_3*p_5*q_1*q_3\n",
      "(2*p_3*p_5*q_1*q_3, ())\n",
      "2*p_4*p_5*q_1*q_2\n",
      "(2*p_4*p_5*q_1*q_2, ())\n",
      "2*p_4*p_5*q_2*q_3\n",
      "(2*p_4*p_5*q_2*q_3, ())\n",
      "2*p_4*p_6*q_1*q_3\n",
      "(2*p_4*p_6*q_1*q_3, ())\n",
      "2*p_5*p_6*q_1*q_2\n",
      "(2*p_5*p_6*q_1*q_2, ())\n",
      "2*p_5*p_6*q_2*q_3\n",
      "(2*p_5*p_6*q_2*q_3, ())\n",
      "2*p_5*p_7*q_1*q_3\n",
      "(2*p_5*p_7*q_1*q_3, ())\n",
      "2*p_6*p_7*q_1*q_2\n",
      "(2*p_6*p_7*q_1*q_2, ())\n",
      "2*p_6*p_7*q_2*q_3\n",
      "(2*p_6*p_7*q_2*q_3, ())\n"
     ]
    }
   ],
   "source": [
    "for a in range(len(energy.args)):\n",
    "    term = energy.args[a]\n",
    "    print(term)\n",
    "    n = get_symbols(term)\n",
    "    print(n)"
   ]
  },
  {
   "cell_type": "code",
   "execution_count": 7,
   "metadata": {},
   "outputs": [
    {
     "data": {
      "text/latex": [
       "$\\displaystyle p_{4}$"
      ],
      "text/plain": [
       "p_4"
      ]
     },
     "execution_count": 7,
     "metadata": {},
     "output_type": "execute_result"
    }
   ],
   "source": [
    "energy.args[1]"
   ]
  },
  {
   "cell_type": "code",
   "execution_count": 8,
   "metadata": {},
   "outputs": [
    {
     "data": {
      "text/plain": [
       "array([ True])"
      ]
     },
     "execution_count": 8,
     "metadata": {},
     "output_type": "execute_result"
    }
   ],
   "source": [
    "Pauli(\"Z\").z"
   ]
  },
  {
   "cell_type": "code",
   "execution_count": null,
   "metadata": {},
   "outputs": [],
   "source": []
  }
 ],
 "metadata": {
  "kernelspec": {
   "display_name": "Python 3.10.6 64-bit",
   "language": "python",
   "name": "python3"
  },
  "language_info": {
   "codemirror_mode": {
    "name": "ipython",
    "version": 3
   },
   "file_extension": ".py",
   "mimetype": "text/x-python",
   "name": "python",
   "nbconvert_exporter": "python",
   "pygments_lexer": "ipython3",
   "version": "3.10.6"
  },
  "orig_nbformat": 4,
  "vscode": {
   "interpreter": {
    "hash": "916dbcbb3f70747c44a77c7bcd40155683ae19c65e1c03b4aa3499c5328201f1"
   }
  }
 },
 "nbformat": 4,
 "nbformat_minor": 2
}
